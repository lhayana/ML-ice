{
  "cells": [
    {
      "cell_type": "markdown",
      "id": "02cdb338",
      "metadata": {
        "id": "02cdb338"
      },
      "source": [
        "# AMCV 2022.2 - Projeto de análise de dados\n",
        "\n",
        "Pode fazer download do enunciado e trabalhar no seu notebook favorito (Deepnote, Colab, Jupyter Notebook...)\n",
        "\n",
        "Entregue sua solução em formato notebook (.ipynb), com seu nome no começo (por exemplo: `DiegoLaplagne_Projeto_de_Análise-Eleições2022.ipynb`) seguindo o link:\n",
        "> https://www.dropbox.com/request/8MrRpKE3GhqwF9QJwZUb"
      ]
    },
    {
      "cell_type": "markdown",
      "id": "acfe6a9b",
      "metadata": {
        "id": "acfe6a9b"
      },
      "source": [
        "#  Eleições 2022 e desenvolvimento regional\n",
        "Iremos explorar possíveis correlações entre os resultados das eleições presidenciais do 1o turno de 2022 e índices de desenvolvimento."
      ]
    },
    {
      "cell_type": "code",
      "execution_count": 298,
      "id": "05db4085",
      "metadata": {
        "id": "05db4085"
      },
      "outputs": [],
      "source": [
        "# Importe os modules necessários...\n",
        "import pandas as pd\n"
      ]
    },
    {
      "cell_type": "markdown",
      "id": "865cf6ce",
      "metadata": {
        "id": "865cf6ce"
      },
      "source": [
        "## Carregando os resultados eleitorais por município\n",
        "- Crie o DataFrame `votos` a partir do csv obtido do TSE, do mesmo jeito que realizado no Desafio Pandas."
      ]
    },
    {
      "cell_type": "code",
      "execution_count": 299,
      "id": "ba1502e5",
      "metadata": {
        "id": "ba1502e5",
        "scrolled": true
      },
      "outputs": [],
      "source": [
        "votos = pd.read_csv('data/votacao_candidato_munzona_2022_BR.csv', sep=\";\", encoding=\"Latin-1\")"
      ]
    },
    {
      "cell_type": "markdown",
      "id": "a588cff9",
      "metadata": {
        "id": "a588cff9"
      },
      "source": [
        "## Calculando os votos percentuais\n",
        "- Calcularemos, a partir da tabela `votos` os resultados percentuais de cada candidato em cada município.\n",
        "- Para esto, somaremos os votos de cada candidato em cada município (pois alguns municípios estão divididos em 'zonas') e logo dividiremos os valores pelo número total de votos de cada município.\n",
        "- **SPOILER:** Como ajuda, o código a seguir dá uma solução possível para essa tarefa. Podem não olhar para ela e tentar descobrir como obter aquelas percentagens!"
      ]
    },
    {
      "cell_type": "code",
      "execution_count": 300,
      "id": "22437241",
      "metadata": {
        "colab": {
          "base_uri": "https://localhost:8080/",
          "height": 455
        },
        "id": "22437241",
        "outputId": "f991345e-e55c-42f2-8920-87dfb04044bb"
      },
      "outputs": [
        {
          "data": {
            "text/html": [
              "<div>\n",
              "<style scoped>\n",
              "    .dataframe tbody tr th:only-of-type {\n",
              "        vertical-align: middle;\n",
              "    }\n",
              "\n",
              "    .dataframe tbody tr th {\n",
              "        vertical-align: top;\n",
              "    }\n",
              "\n",
              "    .dataframe thead th {\n",
              "        text-align: right;\n",
              "    }\n",
              "</style>\n",
              "<table border=\"1\" class=\"dataframe\">\n",
              "  <thead>\n",
              "    <tr style=\"text-align: right;\">\n",
              "      <th></th>\n",
              "      <th></th>\n",
              "      <th>SG_UF</th>\n",
              "      <th>NM_MUNICIPIO</th>\n",
              "      <th>NM_URNA_CANDIDATO</th>\n",
              "      <th>QT_VOTOS_NOMINAIS_VALIDOS</th>\n",
              "    </tr>\n",
              "    <tr>\n",
              "      <th>CD_MUNICIPIO</th>\n",
              "      <th>NR_CANDIDATO</th>\n",
              "      <th></th>\n",
              "      <th></th>\n",
              "      <th></th>\n",
              "      <th></th>\n",
              "    </tr>\n",
              "  </thead>\n",
              "  <tbody>\n",
              "    <tr>\n",
              "      <th rowspan=\"5\" valign=\"top\">19</th>\n",
              "      <th>12</th>\n",
              "      <td>RO</td>\n",
              "      <td>GUAJARÁ-MIRIM</td>\n",
              "      <td>CIRO GOMES</td>\n",
              "      <td>423</td>\n",
              "    </tr>\n",
              "    <tr>\n",
              "      <th>13</th>\n",
              "      <td>RO</td>\n",
              "      <td>GUAJARÁ-MIRIM</td>\n",
              "      <td>LULA</td>\n",
              "      <td>7028</td>\n",
              "    </tr>\n",
              "    <tr>\n",
              "      <th>14</th>\n",
              "      <td>RO</td>\n",
              "      <td>GUAJARÁ-MIRIM</td>\n",
              "      <td>PADRE KELMON</td>\n",
              "      <td>11</td>\n",
              "    </tr>\n",
              "    <tr>\n",
              "      <th>15</th>\n",
              "      <td>RO</td>\n",
              "      <td>GUAJARÁ-MIRIM</td>\n",
              "      <td>SIMONE TEBET</td>\n",
              "      <td>785</td>\n",
              "    </tr>\n",
              "    <tr>\n",
              "      <th>16</th>\n",
              "      <td>RO</td>\n",
              "      <td>GUAJARÁ-MIRIM</td>\n",
              "      <td>VERA</td>\n",
              "      <td>1</td>\n",
              "    </tr>\n",
              "    <tr>\n",
              "      <th>...</th>\n",
              "      <th>...</th>\n",
              "      <td>...</td>\n",
              "      <td>...</td>\n",
              "      <td>...</td>\n",
              "      <td>...</td>\n",
              "    </tr>\n",
              "    <tr>\n",
              "      <th rowspan=\"5\" valign=\"top\">99473</th>\n",
              "      <th>22</th>\n",
              "      <td>ZZ</td>\n",
              "      <td>BAREIN</td>\n",
              "      <td>JAIR BOLSONARO</td>\n",
              "      <td>22</td>\n",
              "    </tr>\n",
              "    <tr>\n",
              "      <th>27</th>\n",
              "      <td>ZZ</td>\n",
              "      <td>BAREIN</td>\n",
              "      <td>CONSTITUINTE EYMAEL</td>\n",
              "      <td>0</td>\n",
              "    </tr>\n",
              "    <tr>\n",
              "      <th>30</th>\n",
              "      <td>ZZ</td>\n",
              "      <td>BAREIN</td>\n",
              "      <td>FELIPE D AVILA</td>\n",
              "      <td>3</td>\n",
              "    </tr>\n",
              "    <tr>\n",
              "      <th>44</th>\n",
              "      <td>ZZ</td>\n",
              "      <td>BAREIN</td>\n",
              "      <td>SORAYA THRONICKE</td>\n",
              "      <td>0</td>\n",
              "    </tr>\n",
              "    <tr>\n",
              "      <th>80</th>\n",
              "      <td>ZZ</td>\n",
              "      <td>BAREIN</td>\n",
              "      <td>LÉO PÉRICLES</td>\n",
              "      <td>0</td>\n",
              "    </tr>\n",
              "  </tbody>\n",
              "</table>\n",
              "<p>63261 rows × 4 columns</p>\n",
              "</div>"
            ],
            "text/plain": [
              "                          SG_UF   NM_MUNICIPIO    NM_URNA_CANDIDATO  \\\n",
              "CD_MUNICIPIO NR_CANDIDATO                                             \n",
              "19           12              RO  GUAJARÁ-MIRIM           CIRO GOMES   \n",
              "             13              RO  GUAJARÁ-MIRIM                 LULA   \n",
              "             14              RO  GUAJARÁ-MIRIM         PADRE KELMON   \n",
              "             15              RO  GUAJARÁ-MIRIM         SIMONE TEBET   \n",
              "             16              RO  GUAJARÁ-MIRIM                 VERA   \n",
              "...                         ...            ...                  ...   \n",
              "99473        22              ZZ         BAREIN       JAIR BOLSONARO   \n",
              "             27              ZZ         BAREIN  CONSTITUINTE EYMAEL   \n",
              "             30              ZZ         BAREIN       FELIPE D AVILA   \n",
              "             44              ZZ         BAREIN     SORAYA THRONICKE   \n",
              "             80              ZZ         BAREIN         LÉO PÉRICLES   \n",
              "\n",
              "                           QT_VOTOS_NOMINAIS_VALIDOS  \n",
              "CD_MUNICIPIO NR_CANDIDATO                             \n",
              "19           12                                  423  \n",
              "             13                                 7028  \n",
              "             14                                   11  \n",
              "             15                                  785  \n",
              "             16                                    1  \n",
              "...                                              ...  \n",
              "99473        22                                   22  \n",
              "             27                                    0  \n",
              "             30                                    3  \n",
              "             44                                    0  \n",
              "             80                                    0  \n",
              "\n",
              "[63261 rows x 4 columns]"
            ]
          },
          "metadata": {},
          "output_type": "display_data"
        }
      ],
      "source": [
        "# Somando os votos de cada candidato em cada município (pois tem municípios divididos em zonas)\n",
        "# Aproveito para ficar só com algumas das colunas\n",
        "# Com o método 'aggregate', escolho qual aggregate fazer para cada coluna após o groupby. 'first' fica com o primeiro valor (uso isso quando são todos iguais)\n",
        "votos_mn = votos.groupby(['CD_MUNICIPIO','NR_CANDIDATO']).aggregate(\n",
        "    {'SG_UF':'first', \n",
        "     'NM_MUNICIPIO':'first', \n",
        "     'NM_URNA_CANDIDATO':'first', \n",
        "     'QT_VOTOS_NOMINAIS_VALIDOS':'sum'})\n",
        "display( votos_mn )"
      ]
    },
    {
      "cell_type": "code",
      "execution_count": 301,
      "id": "c7f40c24",
      "metadata": {
        "colab": {
          "base_uri": "https://localhost:8080/",
          "height": 455
        },
        "id": "c7f40c24",
        "outputId": "9658e336-36aa-42cb-972d-a1373ba93e95"
      },
      "outputs": [
        {
          "data": {
            "text/html": [
              "<div>\n",
              "<style scoped>\n",
              "    .dataframe tbody tr th:only-of-type {\n",
              "        vertical-align: middle;\n",
              "    }\n",
              "\n",
              "    .dataframe tbody tr th {\n",
              "        vertical-align: top;\n",
              "    }\n",
              "\n",
              "    .dataframe thead th {\n",
              "        text-align: right;\n",
              "    }\n",
              "</style>\n",
              "<table border=\"1\" class=\"dataframe\">\n",
              "  <thead>\n",
              "    <tr style=\"text-align: right;\">\n",
              "      <th></th>\n",
              "      <th></th>\n",
              "      <th>SG_UF</th>\n",
              "      <th>NM_MUNICIPIO</th>\n",
              "      <th>NM_URNA_CANDIDATO</th>\n",
              "      <th>QT_VOTOS_NOMINAIS_VALIDOS</th>\n",
              "      <th>PCT_VOTOS</th>\n",
              "    </tr>\n",
              "    <tr>\n",
              "      <th>CD_MUNICIPIO</th>\n",
              "      <th>NR_CANDIDATO</th>\n",
              "      <th></th>\n",
              "      <th></th>\n",
              "      <th></th>\n",
              "      <th></th>\n",
              "      <th></th>\n",
              "    </tr>\n",
              "  </thead>\n",
              "  <tbody>\n",
              "    <tr>\n",
              "      <th rowspan=\"5\" valign=\"top\">19</th>\n",
              "      <th>12</th>\n",
              "      <td>RO</td>\n",
              "      <td>GUAJARÁ-MIRIM</td>\n",
              "      <td>CIRO GOMES</td>\n",
              "      <td>423</td>\n",
              "      <td>2.057893</td>\n",
              "    </tr>\n",
              "    <tr>\n",
              "      <th>13</th>\n",
              "      <td>RO</td>\n",
              "      <td>GUAJARÁ-MIRIM</td>\n",
              "      <td>LULA</td>\n",
              "      <td>7028</td>\n",
              "      <td>34.191194</td>\n",
              "    </tr>\n",
              "    <tr>\n",
              "      <th>14</th>\n",
              "      <td>RO</td>\n",
              "      <td>GUAJARÁ-MIRIM</td>\n",
              "      <td>PADRE KELMON</td>\n",
              "      <td>11</td>\n",
              "      <td>0.053515</td>\n",
              "    </tr>\n",
              "    <tr>\n",
              "      <th>15</th>\n",
              "      <td>RO</td>\n",
              "      <td>GUAJARÁ-MIRIM</td>\n",
              "      <td>SIMONE TEBET</td>\n",
              "      <td>785</td>\n",
              "      <td>3.819022</td>\n",
              "    </tr>\n",
              "    <tr>\n",
              "      <th>16</th>\n",
              "      <td>RO</td>\n",
              "      <td>GUAJARÁ-MIRIM</td>\n",
              "      <td>VERA</td>\n",
              "      <td>1</td>\n",
              "      <td>0.004865</td>\n",
              "    </tr>\n",
              "    <tr>\n",
              "      <th>...</th>\n",
              "      <th>...</th>\n",
              "      <td>...</td>\n",
              "      <td>...</td>\n",
              "      <td>...</td>\n",
              "      <td>...</td>\n",
              "      <td>...</td>\n",
              "    </tr>\n",
              "    <tr>\n",
              "      <th rowspan=\"5\" valign=\"top\">99473</th>\n",
              "      <th>22</th>\n",
              "      <td>ZZ</td>\n",
              "      <td>BAREIN</td>\n",
              "      <td>JAIR BOLSONARO</td>\n",
              "      <td>22</td>\n",
              "      <td>57.894737</td>\n",
              "    </tr>\n",
              "    <tr>\n",
              "      <th>27</th>\n",
              "      <td>ZZ</td>\n",
              "      <td>BAREIN</td>\n",
              "      <td>CONSTITUINTE EYMAEL</td>\n",
              "      <td>0</td>\n",
              "      <td>0.000000</td>\n",
              "    </tr>\n",
              "    <tr>\n",
              "      <th>30</th>\n",
              "      <td>ZZ</td>\n",
              "      <td>BAREIN</td>\n",
              "      <td>FELIPE D AVILA</td>\n",
              "      <td>3</td>\n",
              "      <td>7.894737</td>\n",
              "    </tr>\n",
              "    <tr>\n",
              "      <th>44</th>\n",
              "      <td>ZZ</td>\n",
              "      <td>BAREIN</td>\n",
              "      <td>SORAYA THRONICKE</td>\n",
              "      <td>0</td>\n",
              "      <td>0.000000</td>\n",
              "    </tr>\n",
              "    <tr>\n",
              "      <th>80</th>\n",
              "      <td>ZZ</td>\n",
              "      <td>BAREIN</td>\n",
              "      <td>LÉO PÉRICLES</td>\n",
              "      <td>0</td>\n",
              "      <td>0.000000</td>\n",
              "    </tr>\n",
              "  </tbody>\n",
              "</table>\n",
              "<p>63261 rows × 5 columns</p>\n",
              "</div>"
            ],
            "text/plain": [
              "                          SG_UF   NM_MUNICIPIO    NM_URNA_CANDIDATO  \\\n",
              "CD_MUNICIPIO NR_CANDIDATO                                             \n",
              "19           12              RO  GUAJARÁ-MIRIM           CIRO GOMES   \n",
              "             13              RO  GUAJARÁ-MIRIM                 LULA   \n",
              "             14              RO  GUAJARÁ-MIRIM         PADRE KELMON   \n",
              "             15              RO  GUAJARÁ-MIRIM         SIMONE TEBET   \n",
              "             16              RO  GUAJARÁ-MIRIM                 VERA   \n",
              "...                         ...            ...                  ...   \n",
              "99473        22              ZZ         BAREIN       JAIR BOLSONARO   \n",
              "             27              ZZ         BAREIN  CONSTITUINTE EYMAEL   \n",
              "             30              ZZ         BAREIN       FELIPE D AVILA   \n",
              "             44              ZZ         BAREIN     SORAYA THRONICKE   \n",
              "             80              ZZ         BAREIN         LÉO PÉRICLES   \n",
              "\n",
              "                           QT_VOTOS_NOMINAIS_VALIDOS  PCT_VOTOS  \n",
              "CD_MUNICIPIO NR_CANDIDATO                                        \n",
              "19           12                                  423   2.057893  \n",
              "             13                                 7028  34.191194  \n",
              "             14                                   11   0.053515  \n",
              "             15                                  785   3.819022  \n",
              "             16                                    1   0.004865  \n",
              "...                                              ...        ...  \n",
              "99473        22                                   22  57.894737  \n",
              "             27                                    0   0.000000  \n",
              "             30                                    3   7.894737  \n",
              "             44                                    0   0.000000  \n",
              "             80                                    0   0.000000  \n",
              "\n",
              "[63261 rows x 5 columns]"
            ]
          },
          "metadata": {},
          "output_type": "display_data"
        }
      ],
      "source": [
        "# CD_MUNICIPIO e NR_CANDIDATO ficaram como index em votos_mn. Isso vai facilitar meu cálculo de %\n",
        "# ... isto aqui funciona porque na hora de dividir ele sozinho vai alinhar os valores pelo index 'CD_MUNICIPIO'\n",
        "votos_mn['PCT_VOTOS'] = 100 * votos_mn['QT_VOTOS_NOMINAIS_VALIDOS'] / votos_mn.groupby(['CD_MUNICIPIO'])['QT_VOTOS_NOMINAIS_VALIDOS'].sum()\n",
        "\n",
        "display( votos_mn )"
      ]
    },
    {
      "cell_type": "code",
      "execution_count": 302,
      "id": "6e6b1e78",
      "metadata": {
        "colab": {
          "base_uri": "https://localhost:8080/",
          "height": 424
        },
        "id": "6e6b1e78",
        "outputId": "76ffac3d-be08-42f2-86f4-1876b1e9c423"
      },
      "outputs": [
        {
          "data": {
            "text/html": [
              "<div>\n",
              "<style scoped>\n",
              "    .dataframe tbody tr th:only-of-type {\n",
              "        vertical-align: middle;\n",
              "    }\n",
              "\n",
              "    .dataframe tbody tr th {\n",
              "        vertical-align: top;\n",
              "    }\n",
              "\n",
              "    .dataframe thead th {\n",
              "        text-align: right;\n",
              "    }\n",
              "</style>\n",
              "<table border=\"1\" class=\"dataframe\">\n",
              "  <thead>\n",
              "    <tr style=\"text-align: right;\">\n",
              "      <th></th>\n",
              "      <th>SG_UF</th>\n",
              "      <th>CD_MUNICIPIO</th>\n",
              "      <th>NM_MUNICIPIO</th>\n",
              "      <th>NR_CANDIDATO</th>\n",
              "      <th>NM_URNA_CANDIDATO</th>\n",
              "      <th>QT_VOTOS_NOMINAIS_VALIDOS</th>\n",
              "      <th>PCT_VOTOS</th>\n",
              "    </tr>\n",
              "  </thead>\n",
              "  <tbody>\n",
              "    <tr>\n",
              "      <th>0</th>\n",
              "      <td>RO</td>\n",
              "      <td>19</td>\n",
              "      <td>GUAJARÁ-MIRIM</td>\n",
              "      <td>12</td>\n",
              "      <td>CIRO GOMES</td>\n",
              "      <td>423</td>\n",
              "      <td>2.057893</td>\n",
              "    </tr>\n",
              "    <tr>\n",
              "      <th>1</th>\n",
              "      <td>RO</td>\n",
              "      <td>19</td>\n",
              "      <td>GUAJARÁ-MIRIM</td>\n",
              "      <td>13</td>\n",
              "      <td>LULA</td>\n",
              "      <td>7028</td>\n",
              "      <td>34.191194</td>\n",
              "    </tr>\n",
              "    <tr>\n",
              "      <th>2</th>\n",
              "      <td>RO</td>\n",
              "      <td>19</td>\n",
              "      <td>GUAJARÁ-MIRIM</td>\n",
              "      <td>14</td>\n",
              "      <td>PADRE KELMON</td>\n",
              "      <td>11</td>\n",
              "      <td>0.053515</td>\n",
              "    </tr>\n",
              "    <tr>\n",
              "      <th>3</th>\n",
              "      <td>RO</td>\n",
              "      <td>19</td>\n",
              "      <td>GUAJARÁ-MIRIM</td>\n",
              "      <td>15</td>\n",
              "      <td>SIMONE TEBET</td>\n",
              "      <td>785</td>\n",
              "      <td>3.819022</td>\n",
              "    </tr>\n",
              "    <tr>\n",
              "      <th>4</th>\n",
              "      <td>RO</td>\n",
              "      <td>19</td>\n",
              "      <td>GUAJARÁ-MIRIM</td>\n",
              "      <td>16</td>\n",
              "      <td>VERA</td>\n",
              "      <td>1</td>\n",
              "      <td>0.004865</td>\n",
              "    </tr>\n",
              "    <tr>\n",
              "      <th>...</th>\n",
              "      <td>...</td>\n",
              "      <td>...</td>\n",
              "      <td>...</td>\n",
              "      <td>...</td>\n",
              "      <td>...</td>\n",
              "      <td>...</td>\n",
              "      <td>...</td>\n",
              "    </tr>\n",
              "    <tr>\n",
              "      <th>63256</th>\n",
              "      <td>ZZ</td>\n",
              "      <td>99473</td>\n",
              "      <td>BAREIN</td>\n",
              "      <td>22</td>\n",
              "      <td>JAIR BOLSONARO</td>\n",
              "      <td>22</td>\n",
              "      <td>57.894737</td>\n",
              "    </tr>\n",
              "    <tr>\n",
              "      <th>63257</th>\n",
              "      <td>ZZ</td>\n",
              "      <td>99473</td>\n",
              "      <td>BAREIN</td>\n",
              "      <td>27</td>\n",
              "      <td>CONSTITUINTE EYMAEL</td>\n",
              "      <td>0</td>\n",
              "      <td>0.000000</td>\n",
              "    </tr>\n",
              "    <tr>\n",
              "      <th>63258</th>\n",
              "      <td>ZZ</td>\n",
              "      <td>99473</td>\n",
              "      <td>BAREIN</td>\n",
              "      <td>30</td>\n",
              "      <td>FELIPE D AVILA</td>\n",
              "      <td>3</td>\n",
              "      <td>7.894737</td>\n",
              "    </tr>\n",
              "    <tr>\n",
              "      <th>63259</th>\n",
              "      <td>ZZ</td>\n",
              "      <td>99473</td>\n",
              "      <td>BAREIN</td>\n",
              "      <td>44</td>\n",
              "      <td>SORAYA THRONICKE</td>\n",
              "      <td>0</td>\n",
              "      <td>0.000000</td>\n",
              "    </tr>\n",
              "    <tr>\n",
              "      <th>63260</th>\n",
              "      <td>ZZ</td>\n",
              "      <td>99473</td>\n",
              "      <td>BAREIN</td>\n",
              "      <td>80</td>\n",
              "      <td>LÉO PÉRICLES</td>\n",
              "      <td>0</td>\n",
              "      <td>0.000000</td>\n",
              "    </tr>\n",
              "  </tbody>\n",
              "</table>\n",
              "<p>63261 rows × 7 columns</p>\n",
              "</div>"
            ],
            "text/plain": [
              "      SG_UF  CD_MUNICIPIO   NM_MUNICIPIO  NR_CANDIDATO    NM_URNA_CANDIDATO  \\\n",
              "0        RO            19  GUAJARÁ-MIRIM            12           CIRO GOMES   \n",
              "1        RO            19  GUAJARÁ-MIRIM            13                 LULA   \n",
              "2        RO            19  GUAJARÁ-MIRIM            14         PADRE KELMON   \n",
              "3        RO            19  GUAJARÁ-MIRIM            15         SIMONE TEBET   \n",
              "4        RO            19  GUAJARÁ-MIRIM            16                 VERA   \n",
              "...     ...           ...            ...           ...                  ...   \n",
              "63256    ZZ         99473         BAREIN            22       JAIR BOLSONARO   \n",
              "63257    ZZ         99473         BAREIN            27  CONSTITUINTE EYMAEL   \n",
              "63258    ZZ         99473         BAREIN            30       FELIPE D AVILA   \n",
              "63259    ZZ         99473         BAREIN            44     SORAYA THRONICKE   \n",
              "63260    ZZ         99473         BAREIN            80         LÉO PÉRICLES   \n",
              "\n",
              "       QT_VOTOS_NOMINAIS_VALIDOS  PCT_VOTOS  \n",
              "0                            423   2.057893  \n",
              "1                           7028  34.191194  \n",
              "2                             11   0.053515  \n",
              "3                            785   3.819022  \n",
              "4                              1   0.004865  \n",
              "...                          ...        ...  \n",
              "63256                         22  57.894737  \n",
              "63257                          0   0.000000  \n",
              "63258                          3   7.894737  \n",
              "63259                          0   0.000000  \n",
              "63260                          0   0.000000  \n",
              "\n",
              "[63261 rows x 7 columns]"
            ]
          },
          "metadata": {},
          "output_type": "display_data"
        }
      ],
      "source": [
        "# Agora vou resetar o index para deixar CD_MUNICIPIO e NR_CANDIDATO como colunas (quem preferir pode pular e deixar como index)\n",
        "# ... aproveito para mudar a ordem das colunas para deixar elegante\n",
        "votos_mn = votos_mn.reset_index()[['SG_UF', 'CD_MUNICIPIO', 'NM_MUNICIPIO', 'NR_CANDIDATO', 'NM_URNA_CANDIDATO', 'QT_VOTOS_NOMINAIS_VALIDOS', 'PCT_VOTOS']]\n",
        "\n",
        "display(votos_mn)"
      ]
    },
    {
      "cell_type": "markdown",
      "id": "4e7e07a1",
      "metadata": {
        "id": "4e7e07a1"
      },
      "source": [
        "# Cruzando a informação do TSE com a do IBGE\n",
        "- Para contrastar os resultados eleitorais nos municípios com seus índices de desenvolvimento humano (IDH), cruzaremos nossa tabela `votos_mn` com uma de IDH por município (IDHM)."
      ]
    },
    {
      "cell_type": "markdown",
      "id": "217c74bf",
      "metadata": {
        "id": "217c74bf"
      },
      "source": [
        "## Primeiro, adicionaremos os códigos IBGE dos municípios na tabela `votos_mn`\n",
        "- TSE e IBGE não usam os mésmos códigos para identificar municípios, portanto usaremos primeiro uma tabela que permite convertir um no outro, obtida de: https://basedosdados.org/dataset/br-bd-diretorios-brasil?bdm_table=municipio.\n",
        "    - Carregue a tabela `codigos_municipios.csv` em um DataFrame chamado `codigos_municipios`.\n",
        "    - Observe a organização da informação nela (naquele link tem uma descrição de todas as colunas)"
      ]
    },
    {
      "cell_type": "code",
      "execution_count": 303,
      "id": "90896e4e",
      "metadata": {
        "colab": {
          "base_uri": "https://localhost:8080/",
          "height": 334
        },
        "id": "90896e4e",
        "outputId": "00bbac88-5a5c-4c46-b9a3-f7b5ee53e331"
      },
      "outputs": [
        {
          "data": {
            "text/html": [
              "<div>\n",
              "<style scoped>\n",
              "    .dataframe tbody tr th:only-of-type {\n",
              "        vertical-align: middle;\n",
              "    }\n",
              "\n",
              "    .dataframe tbody tr th {\n",
              "        vertical-align: top;\n",
              "    }\n",
              "\n",
              "    .dataframe thead th {\n",
              "        text-align: right;\n",
              "    }\n",
              "</style>\n",
              "<table border=\"1\" class=\"dataframe\">\n",
              "  <thead>\n",
              "    <tr style=\"text-align: right;\">\n",
              "      <th></th>\n",
              "      <th>id_municipio</th>\n",
              "      <th>id_municipio_6</th>\n",
              "      <th>id_municipio_tse</th>\n",
              "      <th>id_municipio_rf</th>\n",
              "      <th>id_municipio_bcb</th>\n",
              "      <th>nome</th>\n",
              "      <th>capital_uf</th>\n",
              "      <th>id_comarca</th>\n",
              "      <th>id_regiao_saude</th>\n",
              "      <th>nome_regiao_saude</th>\n",
              "      <th>...</th>\n",
              "      <th>nome_regiao_intermediaria</th>\n",
              "      <th>id_microrregiao</th>\n",
              "      <th>nome_microrregiao</th>\n",
              "      <th>id_mesorregiao</th>\n",
              "      <th>nome_mesorregiao</th>\n",
              "      <th>ddd</th>\n",
              "      <th>id_uf</th>\n",
              "      <th>sigla_uf</th>\n",
              "      <th>nome_uf</th>\n",
              "      <th>nome_regiao</th>\n",
              "    </tr>\n",
              "  </thead>\n",
              "  <tbody>\n",
              "    <tr>\n",
              "      <th>0</th>\n",
              "      <td>1100023</td>\n",
              "      <td>110002</td>\n",
              "      <td>78</td>\n",
              "      <td>7</td>\n",
              "      <td>9393.0</td>\n",
              "      <td>Ariquemes</td>\n",
              "      <td>0</td>\n",
              "      <td>1100023</td>\n",
              "      <td>11001</td>\n",
              "      <td>Vale do Jamari</td>\n",
              "      <td>...</td>\n",
              "      <td>Porto Velho</td>\n",
              "      <td>11003</td>\n",
              "      <td>Ariquemes</td>\n",
              "      <td>1102</td>\n",
              "      <td>Leste Rondoniense</td>\n",
              "      <td>69</td>\n",
              "      <td>11</td>\n",
              "      <td>RO</td>\n",
              "      <td>Rondônia</td>\n",
              "      <td>Norte</td>\n",
              "    </tr>\n",
              "    <tr>\n",
              "      <th>1</th>\n",
              "      <td>1100106</td>\n",
              "      <td>110010</td>\n",
              "      <td>19</td>\n",
              "      <td>1</td>\n",
              "      <td>22882.0</td>\n",
              "      <td>Guajará-Mirim</td>\n",
              "      <td>0</td>\n",
              "      <td>1100106</td>\n",
              "      <td>11004</td>\n",
              "      <td>Madeira-Mamoré</td>\n",
              "      <td>...</td>\n",
              "      <td>Porto Velho</td>\n",
              "      <td>11002</td>\n",
              "      <td>Guajará-Mirim</td>\n",
              "      <td>1101</td>\n",
              "      <td>Madeira-Guaporé</td>\n",
              "      <td>69</td>\n",
              "      <td>11</td>\n",
              "      <td>RO</td>\n",
              "      <td>Rondônia</td>\n",
              "      <td>Norte</td>\n",
              "    </tr>\n",
              "    <tr>\n",
              "      <th>2</th>\n",
              "      <td>1100114</td>\n",
              "      <td>110011</td>\n",
              "      <td>159</td>\n",
              "      <td>15</td>\n",
              "      <td>41258.0</td>\n",
              "      <td>Jaru</td>\n",
              "      <td>0</td>\n",
              "      <td>1100114</td>\n",
              "      <td>11003</td>\n",
              "      <td>Central</td>\n",
              "      <td>...</td>\n",
              "      <td>Porto Velho</td>\n",
              "      <td>11004</td>\n",
              "      <td>Ji-Paraná</td>\n",
              "      <td>1102</td>\n",
              "      <td>Leste Rondoniense</td>\n",
              "      <td>69</td>\n",
              "      <td>11</td>\n",
              "      <td>RO</td>\n",
              "      <td>Rondônia</td>\n",
              "      <td>Norte</td>\n",
              "    </tr>\n",
              "    <tr>\n",
              "      <th>3</th>\n",
              "      <td>1100130</td>\n",
              "      <td>110013</td>\n",
              "      <td>396</td>\n",
              "      <td>39</td>\n",
              "      <td>44547.0</td>\n",
              "      <td>Machadinho D'Oeste</td>\n",
              "      <td>0</td>\n",
              "      <td>1100130</td>\n",
              "      <td>11001</td>\n",
              "      <td>Vale do Jamari</td>\n",
              "      <td>...</td>\n",
              "      <td>Porto Velho</td>\n",
              "      <td>11003</td>\n",
              "      <td>Ariquemes</td>\n",
              "      <td>1102</td>\n",
              "      <td>Leste Rondoniense</td>\n",
              "      <td>69</td>\n",
              "      <td>11</td>\n",
              "      <td>RO</td>\n",
              "      <td>Rondônia</td>\n",
              "      <td>Norte</td>\n",
              "    </tr>\n",
              "    <tr>\n",
              "      <th>4</th>\n",
              "      <td>1100205</td>\n",
              "      <td>110020</td>\n",
              "      <td>35</td>\n",
              "      <td>3</td>\n",
              "      <td>30719.0</td>\n",
              "      <td>Porto Velho</td>\n",
              "      <td>1</td>\n",
              "      <td>1100205</td>\n",
              "      <td>11004</td>\n",
              "      <td>Madeira-Mamoré</td>\n",
              "      <td>...</td>\n",
              "      <td>Porto Velho</td>\n",
              "      <td>11001</td>\n",
              "      <td>Porto Velho</td>\n",
              "      <td>1101</td>\n",
              "      <td>Madeira-Guaporé</td>\n",
              "      <td>69</td>\n",
              "      <td>11</td>\n",
              "      <td>RO</td>\n",
              "      <td>Rondônia</td>\n",
              "      <td>Norte</td>\n",
              "    </tr>\n",
              "  </tbody>\n",
              "</table>\n",
              "<p>5 rows × 23 columns</p>\n",
              "</div>"
            ],
            "text/plain": [
              "   id_municipio  id_municipio_6  id_municipio_tse  id_municipio_rf  \\\n",
              "0       1100023          110002                78                7   \n",
              "1       1100106          110010                19                1   \n",
              "2       1100114          110011               159               15   \n",
              "3       1100130          110013               396               39   \n",
              "4       1100205          110020                35                3   \n",
              "\n",
              "   id_municipio_bcb                nome  capital_uf  id_comarca  \\\n",
              "0            9393.0           Ariquemes           0     1100023   \n",
              "1           22882.0       Guajará-Mirim           0     1100106   \n",
              "2           41258.0                Jaru           0     1100114   \n",
              "3           44547.0  Machadinho D'Oeste           0     1100130   \n",
              "4           30719.0         Porto Velho           1     1100205   \n",
              "\n",
              "   id_regiao_saude nome_regiao_saude  ...  nome_regiao_intermediaria  \\\n",
              "0            11001    Vale do Jamari  ...                Porto Velho   \n",
              "1            11004    Madeira-Mamoré  ...                Porto Velho   \n",
              "2            11003           Central  ...                Porto Velho   \n",
              "3            11001    Vale do Jamari  ...                Porto Velho   \n",
              "4            11004    Madeira-Mamoré  ...                Porto Velho   \n",
              "\n",
              "  id_microrregiao  nome_microrregiao id_mesorregiao   nome_mesorregiao ddd  \\\n",
              "0           11003          Ariquemes           1102  Leste Rondoniense  69   \n",
              "1           11002      Guajará-Mirim           1101    Madeira-Guaporé  69   \n",
              "2           11004          Ji-Paraná           1102  Leste Rondoniense  69   \n",
              "3           11003          Ariquemes           1102  Leste Rondoniense  69   \n",
              "4           11001        Porto Velho           1101    Madeira-Guaporé  69   \n",
              "\n",
              "   id_uf sigla_uf   nome_uf  nome_regiao  \n",
              "0     11       RO  Rondônia        Norte  \n",
              "1     11       RO  Rondônia        Norte  \n",
              "2     11       RO  Rondônia        Norte  \n",
              "3     11       RO  Rondônia        Norte  \n",
              "4     11       RO  Rondônia        Norte  \n",
              "\n",
              "[5 rows x 23 columns]"
            ]
          },
          "execution_count": 303,
          "metadata": {},
          "output_type": "execute_result"
        }
      ],
      "source": [
        "codigos_municipios = pd.read_csv('data/codigos_municipios.csv', sep=\",\")\n",
        "codigos_municipios.head()"
      ]
    },
    {
      "cell_type": "markdown",
      "id": "37d8a7fb",
      "metadata": {
        "id": "37d8a7fb"
      },
      "source": [
        "- As colunas com os códigos TSE dos municípios tem nomes diferentes na tabela de votos e na de códigos. Usando os parámetros `left_on` e `right_on` do método `pd.merge()`, fusione `votos_mn` com `codigos_municipios` pelos códigos de município do TSE. Usando o parametro `how`, fique só com as líneas com códigos que existem nas duas tabelas.\n",
        "    - Pode jogar fora colunas de `codigos_municipios` que não ache úteis antes do merge para não ficar com tantas colunas.\n",
        "- Confira no olho que a fusão deu certo (por exemplo, que os nomes dos municípios que vem das duas tabelas batam).\n"
      ]
    },
    {
      "cell_type": "code",
      "execution_count": 304,
      "id": "54b360c1",
      "metadata": {
        "colab": {
          "base_uri": "https://localhost:8080/",
          "height": 386
        },
        "id": "54b360c1",
        "outputId": "2be022cb-1630-4ed7-e44d-ed691f884e22"
      },
      "outputs": [
        {
          "data": {
            "text/html": [
              "<div>\n",
              "<style scoped>\n",
              "    .dataframe tbody tr th:only-of-type {\n",
              "        vertical-align: middle;\n",
              "    }\n",
              "\n",
              "    .dataframe tbody tr th {\n",
              "        vertical-align: top;\n",
              "    }\n",
              "\n",
              "    .dataframe thead th {\n",
              "        text-align: right;\n",
              "    }\n",
              "</style>\n",
              "<table border=\"1\" class=\"dataframe\">\n",
              "  <thead>\n",
              "    <tr style=\"text-align: right;\">\n",
              "      <th></th>\n",
              "      <th>SG_UF</th>\n",
              "      <th>CD_MUNICIPIO</th>\n",
              "      <th>NM_MUNICIPIO</th>\n",
              "      <th>NR_CANDIDATO</th>\n",
              "      <th>NM_URNA_CANDIDATO</th>\n",
              "      <th>QT_VOTOS_NOMINAIS_VALIDOS</th>\n",
              "      <th>PCT_VOTOS</th>\n",
              "      <th>id_municipio</th>\n",
              "      <th>id_municipio_6</th>\n",
              "      <th>id_municipio_tse</th>\n",
              "      <th>...</th>\n",
              "      <th>nome_regiao_intermediaria</th>\n",
              "      <th>id_microrregiao</th>\n",
              "      <th>nome_microrregiao</th>\n",
              "      <th>id_mesorregiao</th>\n",
              "      <th>nome_mesorregiao</th>\n",
              "      <th>ddd</th>\n",
              "      <th>id_uf</th>\n",
              "      <th>sigla_uf</th>\n",
              "      <th>nome_uf</th>\n",
              "      <th>nome_regiao</th>\n",
              "    </tr>\n",
              "  </thead>\n",
              "  <tbody>\n",
              "    <tr>\n",
              "      <th>0</th>\n",
              "      <td>RO</td>\n",
              "      <td>19</td>\n",
              "      <td>GUAJARÁ-MIRIM</td>\n",
              "      <td>12</td>\n",
              "      <td>CIRO GOMES</td>\n",
              "      <td>423</td>\n",
              "      <td>2.057893</td>\n",
              "      <td>1100106.0</td>\n",
              "      <td>110010.0</td>\n",
              "      <td>19.0</td>\n",
              "      <td>...</td>\n",
              "      <td>Porto Velho</td>\n",
              "      <td>11002.0</td>\n",
              "      <td>Guajará-Mirim</td>\n",
              "      <td>1101.0</td>\n",
              "      <td>Madeira-Guaporé</td>\n",
              "      <td>69.0</td>\n",
              "      <td>11.0</td>\n",
              "      <td>RO</td>\n",
              "      <td>Rondônia</td>\n",
              "      <td>Norte</td>\n",
              "    </tr>\n",
              "    <tr>\n",
              "      <th>1</th>\n",
              "      <td>RO</td>\n",
              "      <td>19</td>\n",
              "      <td>GUAJARÁ-MIRIM</td>\n",
              "      <td>13</td>\n",
              "      <td>LULA</td>\n",
              "      <td>7028</td>\n",
              "      <td>34.191194</td>\n",
              "      <td>1100106.0</td>\n",
              "      <td>110010.0</td>\n",
              "      <td>19.0</td>\n",
              "      <td>...</td>\n",
              "      <td>Porto Velho</td>\n",
              "      <td>11002.0</td>\n",
              "      <td>Guajará-Mirim</td>\n",
              "      <td>1101.0</td>\n",
              "      <td>Madeira-Guaporé</td>\n",
              "      <td>69.0</td>\n",
              "      <td>11.0</td>\n",
              "      <td>RO</td>\n",
              "      <td>Rondônia</td>\n",
              "      <td>Norte</td>\n",
              "    </tr>\n",
              "    <tr>\n",
              "      <th>2</th>\n",
              "      <td>RO</td>\n",
              "      <td>19</td>\n",
              "      <td>GUAJARÁ-MIRIM</td>\n",
              "      <td>14</td>\n",
              "      <td>PADRE KELMON</td>\n",
              "      <td>11</td>\n",
              "      <td>0.053515</td>\n",
              "      <td>1100106.0</td>\n",
              "      <td>110010.0</td>\n",
              "      <td>19.0</td>\n",
              "      <td>...</td>\n",
              "      <td>Porto Velho</td>\n",
              "      <td>11002.0</td>\n",
              "      <td>Guajará-Mirim</td>\n",
              "      <td>1101.0</td>\n",
              "      <td>Madeira-Guaporé</td>\n",
              "      <td>69.0</td>\n",
              "      <td>11.0</td>\n",
              "      <td>RO</td>\n",
              "      <td>Rondônia</td>\n",
              "      <td>Norte</td>\n",
              "    </tr>\n",
              "    <tr>\n",
              "      <th>3</th>\n",
              "      <td>RO</td>\n",
              "      <td>19</td>\n",
              "      <td>GUAJARÁ-MIRIM</td>\n",
              "      <td>15</td>\n",
              "      <td>SIMONE TEBET</td>\n",
              "      <td>785</td>\n",
              "      <td>3.819022</td>\n",
              "      <td>1100106.0</td>\n",
              "      <td>110010.0</td>\n",
              "      <td>19.0</td>\n",
              "      <td>...</td>\n",
              "      <td>Porto Velho</td>\n",
              "      <td>11002.0</td>\n",
              "      <td>Guajará-Mirim</td>\n",
              "      <td>1101.0</td>\n",
              "      <td>Madeira-Guaporé</td>\n",
              "      <td>69.0</td>\n",
              "      <td>11.0</td>\n",
              "      <td>RO</td>\n",
              "      <td>Rondônia</td>\n",
              "      <td>Norte</td>\n",
              "    </tr>\n",
              "    <tr>\n",
              "      <th>4</th>\n",
              "      <td>RO</td>\n",
              "      <td>19</td>\n",
              "      <td>GUAJARÁ-MIRIM</td>\n",
              "      <td>16</td>\n",
              "      <td>VERA</td>\n",
              "      <td>1</td>\n",
              "      <td>0.004865</td>\n",
              "      <td>1100106.0</td>\n",
              "      <td>110010.0</td>\n",
              "      <td>19.0</td>\n",
              "      <td>...</td>\n",
              "      <td>Porto Velho</td>\n",
              "      <td>11002.0</td>\n",
              "      <td>Guajará-Mirim</td>\n",
              "      <td>1101.0</td>\n",
              "      <td>Madeira-Guaporé</td>\n",
              "      <td>69.0</td>\n",
              "      <td>11.0</td>\n",
              "      <td>RO</td>\n",
              "      <td>Rondônia</td>\n",
              "      <td>Norte</td>\n",
              "    </tr>\n",
              "  </tbody>\n",
              "</table>\n",
              "<p>5 rows × 30 columns</p>\n",
              "</div>"
            ],
            "text/plain": [
              "  SG_UF  CD_MUNICIPIO   NM_MUNICIPIO  NR_CANDIDATO NM_URNA_CANDIDATO  \\\n",
              "0    RO            19  GUAJARÁ-MIRIM            12        CIRO GOMES   \n",
              "1    RO            19  GUAJARÁ-MIRIM            13              LULA   \n",
              "2    RO            19  GUAJARÁ-MIRIM            14      PADRE KELMON   \n",
              "3    RO            19  GUAJARÁ-MIRIM            15      SIMONE TEBET   \n",
              "4    RO            19  GUAJARÁ-MIRIM            16              VERA   \n",
              "\n",
              "   QT_VOTOS_NOMINAIS_VALIDOS  PCT_VOTOS  id_municipio  id_municipio_6  \\\n",
              "0                        423   2.057893     1100106.0        110010.0   \n",
              "1                       7028  34.191194     1100106.0        110010.0   \n",
              "2                         11   0.053515     1100106.0        110010.0   \n",
              "3                        785   3.819022     1100106.0        110010.0   \n",
              "4                          1   0.004865     1100106.0        110010.0   \n",
              "\n",
              "   id_municipio_tse  ...  nome_regiao_intermediaria  id_microrregiao  \\\n",
              "0              19.0  ...                Porto Velho          11002.0   \n",
              "1              19.0  ...                Porto Velho          11002.0   \n",
              "2              19.0  ...                Porto Velho          11002.0   \n",
              "3              19.0  ...                Porto Velho          11002.0   \n",
              "4              19.0  ...                Porto Velho          11002.0   \n",
              "\n",
              "  nome_microrregiao  id_mesorregiao  nome_mesorregiao   ddd id_uf  sigla_uf  \\\n",
              "0     Guajará-Mirim          1101.0   Madeira-Guaporé  69.0  11.0        RO   \n",
              "1     Guajará-Mirim          1101.0   Madeira-Guaporé  69.0  11.0        RO   \n",
              "2     Guajará-Mirim          1101.0   Madeira-Guaporé  69.0  11.0        RO   \n",
              "3     Guajará-Mirim          1101.0   Madeira-Guaporé  69.0  11.0        RO   \n",
              "4     Guajará-Mirim          1101.0   Madeira-Guaporé  69.0  11.0        RO   \n",
              "\n",
              "    nome_uf  nome_regiao  \n",
              "0  Rondônia        Norte  \n",
              "1  Rondônia        Norte  \n",
              "2  Rondônia        Norte  \n",
              "3  Rondônia        Norte  \n",
              "4  Rondônia        Norte  \n",
              "\n",
              "[5 rows x 30 columns]"
            ]
          },
          "execution_count": 304,
          "metadata": {},
          "output_type": "execute_result"
        }
      ],
      "source": [
        "votos_wc = pd.merge(votos_mn, codigos_municipios, left_on='CD_MUNICIPIO', right_on='id_municipio_tse',how='left')\n",
        "votos_wc.head()"
      ]
    },
    {
      "cell_type": "code",
      "execution_count": 305,
      "id": "kftnU-7_LgzX",
      "metadata": {
        "id": "kftnU-7_LgzX"
      },
      "outputs": [],
      "source": [
        "votos_wc = votos_wc.drop(columns=['nome_regiao_intermediaria', 'id_microrregiao', 'nome_microrregiao', 'id_regiao_imediata', 'nome_regiao_imediata', 'id_regiao_intermediaria', 'id_mesorregiao', 'nome_mesorregiao', 'ddd', 'id_comarca', 'id_regiao_saude', 'nome_regiao_saude', 'id_municipio_rf', 'id_municipio_bcb'])"
      ]
    },
    {
      "cell_type": "code",
      "execution_count": 306,
      "id": "11259cef",
      "metadata": {},
      "outputs": [
        {
          "data": {
            "text/html": [
              "<div>\n",
              "<style scoped>\n",
              "    .dataframe tbody tr th:only-of-type {\n",
              "        vertical-align: middle;\n",
              "    }\n",
              "\n",
              "    .dataframe tbody tr th {\n",
              "        vertical-align: top;\n",
              "    }\n",
              "\n",
              "    .dataframe thead th {\n",
              "        text-align: right;\n",
              "    }\n",
              "</style>\n",
              "<table border=\"1\" class=\"dataframe\">\n",
              "  <thead>\n",
              "    <tr style=\"text-align: right;\">\n",
              "      <th></th>\n",
              "      <th>SG_UF</th>\n",
              "      <th>CD_MUNICIPIO</th>\n",
              "      <th>NM_MUNICIPIO</th>\n",
              "      <th>NR_CANDIDATO</th>\n",
              "      <th>NM_URNA_CANDIDATO</th>\n",
              "      <th>QT_VOTOS_NOMINAIS_VALIDOS</th>\n",
              "      <th>PCT_VOTOS</th>\n",
              "      <th>id_municipio</th>\n",
              "      <th>id_municipio_6</th>\n",
              "      <th>id_municipio_tse</th>\n",
              "      <th>nome</th>\n",
              "      <th>capital_uf</th>\n",
              "      <th>id_uf</th>\n",
              "      <th>sigla_uf</th>\n",
              "      <th>nome_uf</th>\n",
              "      <th>nome_regiao</th>\n",
              "    </tr>\n",
              "  </thead>\n",
              "  <tbody>\n",
              "    <tr>\n",
              "      <th>0</th>\n",
              "      <td>RO</td>\n",
              "      <td>19</td>\n",
              "      <td>GUAJARÁ-MIRIM</td>\n",
              "      <td>12</td>\n",
              "      <td>CIRO GOMES</td>\n",
              "      <td>423</td>\n",
              "      <td>2.057893</td>\n",
              "      <td>1100106.0</td>\n",
              "      <td>110010.0</td>\n",
              "      <td>19.0</td>\n",
              "      <td>Guajará-Mirim</td>\n",
              "      <td>0.0</td>\n",
              "      <td>11.0</td>\n",
              "      <td>RO</td>\n",
              "      <td>Rondônia</td>\n",
              "      <td>Norte</td>\n",
              "    </tr>\n",
              "    <tr>\n",
              "      <th>1</th>\n",
              "      <td>RO</td>\n",
              "      <td>19</td>\n",
              "      <td>GUAJARÁ-MIRIM</td>\n",
              "      <td>13</td>\n",
              "      <td>LULA</td>\n",
              "      <td>7028</td>\n",
              "      <td>34.191194</td>\n",
              "      <td>1100106.0</td>\n",
              "      <td>110010.0</td>\n",
              "      <td>19.0</td>\n",
              "      <td>Guajará-Mirim</td>\n",
              "      <td>0.0</td>\n",
              "      <td>11.0</td>\n",
              "      <td>RO</td>\n",
              "      <td>Rondônia</td>\n",
              "      <td>Norte</td>\n",
              "    </tr>\n",
              "    <tr>\n",
              "      <th>2</th>\n",
              "      <td>RO</td>\n",
              "      <td>19</td>\n",
              "      <td>GUAJARÁ-MIRIM</td>\n",
              "      <td>14</td>\n",
              "      <td>PADRE KELMON</td>\n",
              "      <td>11</td>\n",
              "      <td>0.053515</td>\n",
              "      <td>1100106.0</td>\n",
              "      <td>110010.0</td>\n",
              "      <td>19.0</td>\n",
              "      <td>Guajará-Mirim</td>\n",
              "      <td>0.0</td>\n",
              "      <td>11.0</td>\n",
              "      <td>RO</td>\n",
              "      <td>Rondônia</td>\n",
              "      <td>Norte</td>\n",
              "    </tr>\n",
              "    <tr>\n",
              "      <th>3</th>\n",
              "      <td>RO</td>\n",
              "      <td>19</td>\n",
              "      <td>GUAJARÁ-MIRIM</td>\n",
              "      <td>15</td>\n",
              "      <td>SIMONE TEBET</td>\n",
              "      <td>785</td>\n",
              "      <td>3.819022</td>\n",
              "      <td>1100106.0</td>\n",
              "      <td>110010.0</td>\n",
              "      <td>19.0</td>\n",
              "      <td>Guajará-Mirim</td>\n",
              "      <td>0.0</td>\n",
              "      <td>11.0</td>\n",
              "      <td>RO</td>\n",
              "      <td>Rondônia</td>\n",
              "      <td>Norte</td>\n",
              "    </tr>\n",
              "    <tr>\n",
              "      <th>4</th>\n",
              "      <td>RO</td>\n",
              "      <td>19</td>\n",
              "      <td>GUAJARÁ-MIRIM</td>\n",
              "      <td>16</td>\n",
              "      <td>VERA</td>\n",
              "      <td>1</td>\n",
              "      <td>0.004865</td>\n",
              "      <td>1100106.0</td>\n",
              "      <td>110010.0</td>\n",
              "      <td>19.0</td>\n",
              "      <td>Guajará-Mirim</td>\n",
              "      <td>0.0</td>\n",
              "      <td>11.0</td>\n",
              "      <td>RO</td>\n",
              "      <td>Rondônia</td>\n",
              "      <td>Norte</td>\n",
              "    </tr>\n",
              "  </tbody>\n",
              "</table>\n",
              "</div>"
            ],
            "text/plain": [
              "  SG_UF  CD_MUNICIPIO   NM_MUNICIPIO  NR_CANDIDATO NM_URNA_CANDIDATO  \\\n",
              "0    RO            19  GUAJARÁ-MIRIM            12        CIRO GOMES   \n",
              "1    RO            19  GUAJARÁ-MIRIM            13              LULA   \n",
              "2    RO            19  GUAJARÁ-MIRIM            14      PADRE KELMON   \n",
              "3    RO            19  GUAJARÁ-MIRIM            15      SIMONE TEBET   \n",
              "4    RO            19  GUAJARÁ-MIRIM            16              VERA   \n",
              "\n",
              "   QT_VOTOS_NOMINAIS_VALIDOS  PCT_VOTOS  id_municipio  id_municipio_6  \\\n",
              "0                        423   2.057893     1100106.0        110010.0   \n",
              "1                       7028  34.191194     1100106.0        110010.0   \n",
              "2                         11   0.053515     1100106.0        110010.0   \n",
              "3                        785   3.819022     1100106.0        110010.0   \n",
              "4                          1   0.004865     1100106.0        110010.0   \n",
              "\n",
              "   id_municipio_tse           nome  capital_uf  id_uf sigla_uf   nome_uf  \\\n",
              "0              19.0  Guajará-Mirim         0.0   11.0       RO  Rondônia   \n",
              "1              19.0  Guajará-Mirim         0.0   11.0       RO  Rondônia   \n",
              "2              19.0  Guajará-Mirim         0.0   11.0       RO  Rondônia   \n",
              "3              19.0  Guajará-Mirim         0.0   11.0       RO  Rondônia   \n",
              "4              19.0  Guajará-Mirim         0.0   11.0       RO  Rondônia   \n",
              "\n",
              "  nome_regiao  \n",
              "0       Norte  \n",
              "1       Norte  \n",
              "2       Norte  \n",
              "3       Norte  \n",
              "4       Norte  "
            ]
          },
          "execution_count": 306,
          "metadata": {},
          "output_type": "execute_result"
        }
      ],
      "source": [
        "votos_wc.head()"
      ]
    },
    {
      "cell_type": "markdown",
      "id": "b69b0ebc",
      "metadata": {
        "id": "b69b0ebc"
      },
      "source": [
        "## Agora sim, cruzaremos a informação de votos por município com a de IDHM e população total.\n",
        "O índice IDH é um número entre 0 e 1, quanto mais perto de 1 maior o 'desenvolvimento humano' no município. Existem 3 índices:\n",
        "- IDHM_E: índice de educação.\n",
        "- IDHM_L: índice de longevidade.\n",
        "- IDHM_R: índice de renda.\n",
        "- IDHM é a média desses 3.\n",
        "\n",
        "Para mais informação: https://www.br.undp.org/content/brazil/pt/home/idh0/conceitos/o-que-e-o-idhm.html\n",
        "\n",
        "- Carregue a tabela `IDHM_2010.csv` usando encoding 'Latin-1' em um DataFrame chamado `idhm`.\n",
        "- Crie uma tabela `votos_idhm`, fusionando a tabela `votos_mn` com a `idhm` pelos códigos de município IBGE.\n",
        "    - Note que, mais uma vez, as colunas com os códigos tem nome diferente nas duas tabelas.\n",
        "- Olhe para o resultado. Agora em cada línea de `votos_idhm` temos informação sobre o voto em um município junto com informação de IDH e população total (coluna 'population') desse município."
      ]
    },
    {
      "cell_type": "code",
      "execution_count": 307,
      "id": "0c0f0ff3",
      "metadata": {
        "colab": {
          "base_uri": "https://localhost:8080/",
          "height": 206
        },
        "id": "0c0f0ff3",
        "outputId": "8e0f8163-5a56-4b99-cdcc-9a32342c2cdc"
      },
      "outputs": [
        {
          "data": {
            "text/html": [
              "<div>\n",
              "<style scoped>\n",
              "    .dataframe tbody tr th:only-of-type {\n",
              "        vertical-align: middle;\n",
              "    }\n",
              "\n",
              "    .dataframe tbody tr th {\n",
              "        vertical-align: top;\n",
              "    }\n",
              "\n",
              "    .dataframe thead th {\n",
              "        text-align: right;\n",
              "    }\n",
              "</style>\n",
              "<table border=\"1\" class=\"dataframe\">\n",
              "  <thead>\n",
              "    <tr style=\"text-align: right;\">\n",
              "      <th></th>\n",
              "      <th>state_num</th>\n",
              "      <th>city_ibge_code</th>\n",
              "      <th>city</th>\n",
              "      <th>population</th>\n",
              "      <th>IDHM</th>\n",
              "      <th>IDHM_E</th>\n",
              "      <th>IDHM_L</th>\n",
              "      <th>IDHM_R</th>\n",
              "    </tr>\n",
              "  </thead>\n",
              "  <tbody>\n",
              "    <tr>\n",
              "      <th>0</th>\n",
              "      <td>11</td>\n",
              "      <td>1100015</td>\n",
              "      <td>ALTA FLORESTA D'OESTE</td>\n",
              "      <td>24392</td>\n",
              "      <td>0.641</td>\n",
              "      <td>0.526</td>\n",
              "      <td>0.763</td>\n",
              "      <td>0.657</td>\n",
              "    </tr>\n",
              "    <tr>\n",
              "      <th>1</th>\n",
              "      <td>11</td>\n",
              "      <td>1100023</td>\n",
              "      <td>ARIQUEMES</td>\n",
              "      <td>90353</td>\n",
              "      <td>0.702</td>\n",
              "      <td>0.600</td>\n",
              "      <td>0.806</td>\n",
              "      <td>0.716</td>\n",
              "    </tr>\n",
              "    <tr>\n",
              "      <th>2</th>\n",
              "      <td>11</td>\n",
              "      <td>1100031</td>\n",
              "      <td>CABIXI</td>\n",
              "      <td>6313</td>\n",
              "      <td>0.650</td>\n",
              "      <td>0.559</td>\n",
              "      <td>0.757</td>\n",
              "      <td>0.650</td>\n",
              "    </tr>\n",
              "    <tr>\n",
              "      <th>3</th>\n",
              "      <td>11</td>\n",
              "      <td>1100049</td>\n",
              "      <td>CACOAL</td>\n",
              "      <td>78574</td>\n",
              "      <td>0.718</td>\n",
              "      <td>0.620</td>\n",
              "      <td>0.821</td>\n",
              "      <td>0.727</td>\n",
              "    </tr>\n",
              "    <tr>\n",
              "      <th>4</th>\n",
              "      <td>11</td>\n",
              "      <td>1100056</td>\n",
              "      <td>CEREJEIRAS</td>\n",
              "      <td>17029</td>\n",
              "      <td>0.692</td>\n",
              "      <td>0.602</td>\n",
              "      <td>0.799</td>\n",
              "      <td>0.688</td>\n",
              "    </tr>\n",
              "  </tbody>\n",
              "</table>\n",
              "</div>"
            ],
            "text/plain": [
              "   state_num  city_ibge_code                   city  population   IDHM  \\\n",
              "0         11         1100015  ALTA FLORESTA D'OESTE       24392  0.641   \n",
              "1         11         1100023              ARIQUEMES       90353  0.702   \n",
              "2         11         1100031                 CABIXI        6313  0.650   \n",
              "3         11         1100049                 CACOAL       78574  0.718   \n",
              "4         11         1100056             CEREJEIRAS       17029  0.692   \n",
              "\n",
              "   IDHM_E  IDHM_L  IDHM_R  \n",
              "0   0.526   0.763   0.657  \n",
              "1   0.600   0.806   0.716  \n",
              "2   0.559   0.757   0.650  \n",
              "3   0.620   0.821   0.727  \n",
              "4   0.602   0.799   0.688  "
            ]
          },
          "execution_count": 307,
          "metadata": {},
          "output_type": "execute_result"
        }
      ],
      "source": [
        "idhm = pd.read_csv('data/IDHM_2010.csv', sep=\",\", encoding=\"Latin-1\")\n",
        "idhm.head()"
      ]
    },
    {
      "cell_type": "code",
      "execution_count": 308,
      "id": "c83dada4",
      "metadata": {},
      "outputs": [],
      "source": [
        "votos_idhm = pd.merge(votos_wc, idhm, left_on='id_municipio', right_on='city_ibge_code',how='left')"
      ]
    },
    {
      "cell_type": "code",
      "execution_count": 309,
      "id": "efdf0403",
      "metadata": {},
      "outputs": [
        {
          "data": {
            "text/html": [
              "<div>\n",
              "<style scoped>\n",
              "    .dataframe tbody tr th:only-of-type {\n",
              "        vertical-align: middle;\n",
              "    }\n",
              "\n",
              "    .dataframe tbody tr th {\n",
              "        vertical-align: top;\n",
              "    }\n",
              "\n",
              "    .dataframe thead th {\n",
              "        text-align: right;\n",
              "    }\n",
              "</style>\n",
              "<table border=\"1\" class=\"dataframe\">\n",
              "  <thead>\n",
              "    <tr style=\"text-align: right;\">\n",
              "      <th></th>\n",
              "      <th>SG_UF</th>\n",
              "      <th>CD_MUNICIPIO</th>\n",
              "      <th>NM_MUNICIPIO</th>\n",
              "      <th>NR_CANDIDATO</th>\n",
              "      <th>NM_URNA_CANDIDATO</th>\n",
              "      <th>QT_VOTOS_NOMINAIS_VALIDOS</th>\n",
              "      <th>PCT_VOTOS</th>\n",
              "      <th>id_municipio</th>\n",
              "      <th>id_municipio_6</th>\n",
              "      <th>id_municipio_tse</th>\n",
              "      <th>...</th>\n",
              "      <th>nome_uf</th>\n",
              "      <th>nome_regiao</th>\n",
              "      <th>state_num</th>\n",
              "      <th>city_ibge_code</th>\n",
              "      <th>city</th>\n",
              "      <th>population</th>\n",
              "      <th>IDHM</th>\n",
              "      <th>IDHM_E</th>\n",
              "      <th>IDHM_L</th>\n",
              "      <th>IDHM_R</th>\n",
              "    </tr>\n",
              "  </thead>\n",
              "  <tbody>\n",
              "    <tr>\n",
              "      <th>0</th>\n",
              "      <td>RO</td>\n",
              "      <td>19</td>\n",
              "      <td>GUAJARÁ-MIRIM</td>\n",
              "      <td>12</td>\n",
              "      <td>CIRO GOMES</td>\n",
              "      <td>423</td>\n",
              "      <td>2.057893</td>\n",
              "      <td>1100106.0</td>\n",
              "      <td>110010.0</td>\n",
              "      <td>19.0</td>\n",
              "      <td>...</td>\n",
              "      <td>Rondônia</td>\n",
              "      <td>Norte</td>\n",
              "      <td>11.0</td>\n",
              "      <td>1100106.0</td>\n",
              "      <td>GUAJARÁ-MIRIM</td>\n",
              "      <td>41656.0</td>\n",
              "      <td>0.657</td>\n",
              "      <td>0.519</td>\n",
              "      <td>0.823</td>\n",
              "      <td>0.663</td>\n",
              "    </tr>\n",
              "    <tr>\n",
              "      <th>1</th>\n",
              "      <td>RO</td>\n",
              "      <td>19</td>\n",
              "      <td>GUAJARÁ-MIRIM</td>\n",
              "      <td>13</td>\n",
              "      <td>LULA</td>\n",
              "      <td>7028</td>\n",
              "      <td>34.191194</td>\n",
              "      <td>1100106.0</td>\n",
              "      <td>110010.0</td>\n",
              "      <td>19.0</td>\n",
              "      <td>...</td>\n",
              "      <td>Rondônia</td>\n",
              "      <td>Norte</td>\n",
              "      <td>11.0</td>\n",
              "      <td>1100106.0</td>\n",
              "      <td>GUAJARÁ-MIRIM</td>\n",
              "      <td>41656.0</td>\n",
              "      <td>0.657</td>\n",
              "      <td>0.519</td>\n",
              "      <td>0.823</td>\n",
              "      <td>0.663</td>\n",
              "    </tr>\n",
              "    <tr>\n",
              "      <th>2</th>\n",
              "      <td>RO</td>\n",
              "      <td>19</td>\n",
              "      <td>GUAJARÁ-MIRIM</td>\n",
              "      <td>14</td>\n",
              "      <td>PADRE KELMON</td>\n",
              "      <td>11</td>\n",
              "      <td>0.053515</td>\n",
              "      <td>1100106.0</td>\n",
              "      <td>110010.0</td>\n",
              "      <td>19.0</td>\n",
              "      <td>...</td>\n",
              "      <td>Rondônia</td>\n",
              "      <td>Norte</td>\n",
              "      <td>11.0</td>\n",
              "      <td>1100106.0</td>\n",
              "      <td>GUAJARÁ-MIRIM</td>\n",
              "      <td>41656.0</td>\n",
              "      <td>0.657</td>\n",
              "      <td>0.519</td>\n",
              "      <td>0.823</td>\n",
              "      <td>0.663</td>\n",
              "    </tr>\n",
              "    <tr>\n",
              "      <th>3</th>\n",
              "      <td>RO</td>\n",
              "      <td>19</td>\n",
              "      <td>GUAJARÁ-MIRIM</td>\n",
              "      <td>15</td>\n",
              "      <td>SIMONE TEBET</td>\n",
              "      <td>785</td>\n",
              "      <td>3.819022</td>\n",
              "      <td>1100106.0</td>\n",
              "      <td>110010.0</td>\n",
              "      <td>19.0</td>\n",
              "      <td>...</td>\n",
              "      <td>Rondônia</td>\n",
              "      <td>Norte</td>\n",
              "      <td>11.0</td>\n",
              "      <td>1100106.0</td>\n",
              "      <td>GUAJARÁ-MIRIM</td>\n",
              "      <td>41656.0</td>\n",
              "      <td>0.657</td>\n",
              "      <td>0.519</td>\n",
              "      <td>0.823</td>\n",
              "      <td>0.663</td>\n",
              "    </tr>\n",
              "    <tr>\n",
              "      <th>4</th>\n",
              "      <td>RO</td>\n",
              "      <td>19</td>\n",
              "      <td>GUAJARÁ-MIRIM</td>\n",
              "      <td>16</td>\n",
              "      <td>VERA</td>\n",
              "      <td>1</td>\n",
              "      <td>0.004865</td>\n",
              "      <td>1100106.0</td>\n",
              "      <td>110010.0</td>\n",
              "      <td>19.0</td>\n",
              "      <td>...</td>\n",
              "      <td>Rondônia</td>\n",
              "      <td>Norte</td>\n",
              "      <td>11.0</td>\n",
              "      <td>1100106.0</td>\n",
              "      <td>GUAJARÁ-MIRIM</td>\n",
              "      <td>41656.0</td>\n",
              "      <td>0.657</td>\n",
              "      <td>0.519</td>\n",
              "      <td>0.823</td>\n",
              "      <td>0.663</td>\n",
              "    </tr>\n",
              "  </tbody>\n",
              "</table>\n",
              "<p>5 rows × 24 columns</p>\n",
              "</div>"
            ],
            "text/plain": [
              "  SG_UF  CD_MUNICIPIO   NM_MUNICIPIO  NR_CANDIDATO NM_URNA_CANDIDATO  \\\n",
              "0    RO            19  GUAJARÁ-MIRIM            12        CIRO GOMES   \n",
              "1    RO            19  GUAJARÁ-MIRIM            13              LULA   \n",
              "2    RO            19  GUAJARÁ-MIRIM            14      PADRE KELMON   \n",
              "3    RO            19  GUAJARÁ-MIRIM            15      SIMONE TEBET   \n",
              "4    RO            19  GUAJARÁ-MIRIM            16              VERA   \n",
              "\n",
              "   QT_VOTOS_NOMINAIS_VALIDOS  PCT_VOTOS  id_municipio  id_municipio_6  \\\n",
              "0                        423   2.057893     1100106.0        110010.0   \n",
              "1                       7028  34.191194     1100106.0        110010.0   \n",
              "2                         11   0.053515     1100106.0        110010.0   \n",
              "3                        785   3.819022     1100106.0        110010.0   \n",
              "4                          1   0.004865     1100106.0        110010.0   \n",
              "\n",
              "   id_municipio_tse  ...   nome_uf  nome_regiao  state_num city_ibge_code  \\\n",
              "0              19.0  ...  Rondônia        Norte       11.0      1100106.0   \n",
              "1              19.0  ...  Rondônia        Norte       11.0      1100106.0   \n",
              "2              19.0  ...  Rondônia        Norte       11.0      1100106.0   \n",
              "3              19.0  ...  Rondônia        Norte       11.0      1100106.0   \n",
              "4              19.0  ...  Rondônia        Norte       11.0      1100106.0   \n",
              "\n",
              "            city population   IDHM  IDHM_E IDHM_L  IDHM_R  \n",
              "0  GUAJARÁ-MIRIM    41656.0  0.657   0.519  0.823   0.663  \n",
              "1  GUAJARÁ-MIRIM    41656.0  0.657   0.519  0.823   0.663  \n",
              "2  GUAJARÁ-MIRIM    41656.0  0.657   0.519  0.823   0.663  \n",
              "3  GUAJARÁ-MIRIM    41656.0  0.657   0.519  0.823   0.663  \n",
              "4  GUAJARÁ-MIRIM    41656.0  0.657   0.519  0.823   0.663  \n",
              "\n",
              "[5 rows x 24 columns]"
            ]
          },
          "execution_count": 309,
          "metadata": {},
          "output_type": "execute_result"
        }
      ],
      "source": [
        "votos_idhm.head()"
      ]
    },
    {
      "cell_type": "markdown",
      "id": "744505f3",
      "metadata": {
        "id": "744505f3"
      },
      "source": [
        "# Let the games begin!\n",
        "Agora podemos explorar como correlacionam os resultados eleitorais nos municípios com o tamanho da sua população e/ou seu IDH. Segue uma proposta de roteiro de análise. Quem quiser pode seguir um caminho próprio!\n",
        "1. Começe por criar uma versão da tabela com só os candidatos que você tenha interesse em analisar.\n",
        "2. Crie um scatter plot mostrando como a percentagem de votos nesses candidatos depende do IDHM de cada município. Observa algum padrão claro?\n",
        "3. Usando `pd.cut()` ou `pd.qcut()`, crie faixas de IDHM e some quantos votos cada candidato obteve para os municípios dentro de cada faixa. (consegue convertir para % dos votos totais dentro de cada faixa?)\n",
        "4. Usando `pd.cut()` ou `pd.qcut()`, crie faixas de população e some quantos votos cada candidato obteve para os municípios dentro de cada faixa. (consegue convertir para % dos votos totais dentro de cada faixa?)\n",
        "5. Realice novas análises do seu interesse. Uma opção é ver se os possíveis padrões observados acima se repetem dentro dos diferentes estados/regiões.\n",
        "\n",
        "Para quem se empolgar e quiser brincar com muita mais informação sobre os municípios, disponibilizo tabelas adicionais:\n",
        "- `censos.csv`: uma tabela grande com dados dos censos 1990, 2000 e 2010\n",
        "- `Descrição colunas IBGE.xls`: uma tabelinha explicando as colunas da tabela 'censos'\n",
        "- `codigo_estados.csv`: os estados estão identificados com códigos em 'censos', esta tabelinha dá o nome para cada número de estado."
      ]
    },
    {
      "cell_type": "code",
      "execution_count": 310,
      "id": "74db3571",
      "metadata": {
        "id": "74db3571"
      },
      "outputs": [],
      "source": [
        "selecao = (votos_idhm.NM_URNA_CANDIDATO == 'LULA') | (votos_idhm.NM_URNA_CANDIDATO == 'JAIR BOLSONARO') \n",
        "main_candidatos = votos_idhm[selecao]"
      ]
    },
    {
      "cell_type": "code",
      "execution_count": 311,
      "id": "afaa1a51",
      "metadata": {},
      "outputs": [
        {
          "name": "stderr",
          "output_type": "stream",
          "text": [
            "C:\\Users\\Lhayana\\AppData\\Local\\Temp\\ipykernel_21884\\1252635484.py:1: SettingWithCopyWarning: \n",
            "A value is trying to be set on a copy of a slice from a DataFrame.\n",
            "Try using .loc[row_indexer,col_indexer] = value instead\n",
            "\n",
            "See the caveats in the documentation: https://pandas.pydata.org/pandas-docs/stable/user_guide/indexing.html#returning-a-view-versus-a-copy\n",
            "  main_candidatos.loc[main_candidatos['NM_URNA_CANDIDATO'] == 'LULA', 'votos_lula'] = main_candidatos[\"PCT_VOTOS\"]\n",
            "C:\\Users\\Lhayana\\AppData\\Local\\Temp\\ipykernel_21884\\1252635484.py:2: SettingWithCopyWarning: \n",
            "A value is trying to be set on a copy of a slice from a DataFrame.\n",
            "Try using .loc[row_indexer,col_indexer] = value instead\n",
            "\n",
            "See the caveats in the documentation: https://pandas.pydata.org/pandas-docs/stable/user_guide/indexing.html#returning-a-view-versus-a-copy\n",
            "  main_candidatos.loc[main_candidatos['NM_URNA_CANDIDATO'] == 'JAIR BOLSONARO', 'votos_bolsonaro'] = main_candidatos[\"PCT_VOTOS\"]\n"
          ]
        }
      ],
      "source": [
        "main_candidatos.loc[main_candidatos['NM_URNA_CANDIDATO'] == 'LULA', 'votos_lula'] = main_candidatos[\"PCT_VOTOS\"]\n",
        "main_candidatos.loc[main_candidatos['NM_URNA_CANDIDATO'] == 'JAIR BOLSONARO', 'votos_bolsonaro'] = main_candidatos[\"PCT_VOTOS\"]"
      ]
    },
    {
      "cell_type": "code",
      "execution_count": 312,
      "id": "d2135d07",
      "metadata": {},
      "outputs": [],
      "source": [
        "import seaborn as sns\n",
        "import matplotlib.pyplot as plt"
      ]
    },
    {
      "cell_type": "code",
      "execution_count": 313,
      "id": "4475d782",
      "metadata": {},
      "outputs": [
        {
          "data": {
            "image/png": "[encoded data removed]",
            "text/plain": [
              "<Figure size 504x432 with 3 Axes>"
            ]
          },
          "metadata": {
            "needs_background": "light"
          },
          "output_type": "display_data"
        }
      ],
      "source": [
        "fig, ax = plt.subplots(2, figsize=(7, 6) ,layout=\"constrained\")\n",
        "p1= sns.regplot(x='votos_lula', y='IDHM', data=main_candidatos, color='red', line_kws={'color': 'black'})\n",
        "fig.add_subplot(2, 1, 1) # two rows, one column, first plot\n",
        "p2 = sns.regplot(x='votos_bolsonaro', y='IDHM', data=main_candidatos, color='blue', line_kws={'color': 'black'})"
      ]
    },
    {
      "cell_type": "code",
      "execution_count": 314,
      "id": "51895333",
      "metadata": {},
      "outputs": [],
      "source": [
        "cor_map = main_candidatos[['IDHM', 'IDHM_E', 'IDHM_L', 'IDHM_R', 'votos_lula', 'votos_bolsonaro']]"
      ]
    },
    {
      "cell_type": "code",
      "execution_count": 315,
      "id": "eb7e6c35",
      "metadata": {},
      "outputs": [
        {
          "data": {
            "text/plain": [
              "<AxesSubplot: >"
            ]
          },
          "execution_count": 315,
          "metadata": {},
          "output_type": "execute_result"
        },
        {
          "data": {
            "image/png": "[encoded data removed]",
            "text/plain": [
              "<Figure size 432x288 with 2 Axes>"
            ]
          },
          "metadata": {
            "needs_background": "light"
          },
          "output_type": "display_data"
        }
      ],
      "source": [
        "corr = cor_map.corr()\n",
        "sns.heatmap(corr, annot=True, fmt=\".1f\")"
      ]
    },
    {
      "cell_type": "code",
      "execution_count": 316,
      "id": "0bdd7da0",
      "metadata": {},
      "outputs": [
        {
          "name": "stderr",
          "output_type": "stream",
          "text": [
            "C:\\Users\\Lhayana\\AppData\\Local\\Temp\\ipykernel_21884\\898542039.py:1: SettingWithCopyWarning: \n",
            "A value is trying to be set on a copy of a slice from a DataFrame.\n",
            "Try using .loc[row_indexer,col_indexer] = value instead\n",
            "\n",
            "See the caveats in the documentation: https://pandas.pydata.org/pandas-docs/stable/user_guide/indexing.html#returning-a-view-versus-a-copy\n",
            "  main_candidatos['faixas_idhm'] = pd.cut(main_candidatos[\"IDHM\"],[0,0.550, 0.699, 0.799,0.800], labels=['low', 'medium','high', 'very high'])\n"
          ]
        }
      ],
      "source": [
        "main_candidatos['faixas_idhm'] = pd.cut(main_candidatos[\"IDHM\"],[0,0.550, 0.699, 0.799,0.800], labels=['low', 'medium','high', 'very high'])"
      ]
    },
    {
      "cell_type": "code",
      "execution_count": 317,
      "id": "08bd5c78",
      "metadata": {},
      "outputs": [],
      "source": [
        "votos_lula = pd.DataFrame(main_candidatos.groupby('faixas_idhm', sort=True)['votos_lula'].mean())\n",
        "votos_bolsonaro = pd.DataFrame(main_candidatos.groupby('faixas_idhm', sort=True)['votos_bolsonaro'].mean())"
      ]
    },
    {
      "cell_type": "code",
      "execution_count": 318,
      "id": "f892e442",
      "metadata": {},
      "outputs": [
        {
          "data": {
            "text/html": [
              "<div>\n",
              "<style scoped>\n",
              "    .dataframe tbody tr th:only-of-type {\n",
              "        vertical-align: middle;\n",
              "    }\n",
              "\n",
              "    .dataframe tbody tr th {\n",
              "        vertical-align: top;\n",
              "    }\n",
              "\n",
              "    .dataframe thead th {\n",
              "        text-align: right;\n",
              "    }\n",
              "</style>\n",
              "<table border=\"1\" class=\"dataframe\">\n",
              "  <thead>\n",
              "    <tr style=\"text-align: right;\">\n",
              "      <th></th>\n",
              "      <th>votos_lula</th>\n",
              "      <th>votos_bolsonaro</th>\n",
              "    </tr>\n",
              "    <tr>\n",
              "      <th>faixas_idhm</th>\n",
              "      <th></th>\n",
              "      <th></th>\n",
              "    </tr>\n",
              "  </thead>\n",
              "  <tbody>\n",
              "    <tr>\n",
              "      <th>low</th>\n",
              "      <td>74.852310</td>\n",
              "      <td>20.401574</td>\n",
              "    </tr>\n",
              "    <tr>\n",
              "      <th>medium</th>\n",
              "      <td>61.399884</td>\n",
              "      <td>32.961175</td>\n",
              "    </tr>\n",
              "    <tr>\n",
              "      <th>high</th>\n",
              "      <td>38.690381</td>\n",
              "      <td>53.945083</td>\n",
              "    </tr>\n",
              "    <tr>\n",
              "      <th>very high</th>\n",
              "      <td>33.904107</td>\n",
              "      <td>55.937235</td>\n",
              "    </tr>\n",
              "  </tbody>\n",
              "</table>\n",
              "</div>"
            ],
            "text/plain": [
              "             votos_lula  votos_bolsonaro\n",
              "faixas_idhm                             \n",
              "low           74.852310        20.401574\n",
              "medium        61.399884        32.961175\n",
              "high          38.690381        53.945083\n",
              "very high     33.904107        55.937235"
            ]
          },
          "execution_count": 318,
          "metadata": {},
          "output_type": "execute_result"
        }
      ],
      "source": [
        "votos_por_idhm = pd.concat([votos_lula,votos_bolsonaro], join='outer',axis=1)\n",
        "votos_por_idhm"
      ]
    },
    {
      "cell_type": "code",
      "execution_count": 319,
      "id": "e60695cb",
      "metadata": {},
      "outputs": [
        {
          "data": {
            "image/png": "[encoded data removed]",
            "text/plain": [
              "<Figure size 432x288 with 1 Axes>"
            ]
          },
          "metadata": {
            "needs_background": "light"
          },
          "output_type": "display_data"
        }
      ],
      "source": [
        "ax = sns.barplot(data=main_candidatos, x=\"faixas_idhm\", y=\"PCT_VOTOS\", hue=\"NM_URNA_CANDIDATO\", palette = 'hls')\n",
        "ax.set(xlabel='Faixas de IDHM', ylabel='Porcentagem de votos')\n",
        "\n",
        "plt.title('Porcentagens de votos por faixa de IDHM')\n",
        "ax.legend_.set_title('Candidato')\n",
        "plt.show()"
      ]
    },
    {
      "cell_type": "code",
      "execution_count": 320,
      "id": "85b283a4",
      "metadata": {},
      "outputs": [
        {
          "name": "stderr",
          "output_type": "stream",
          "text": [
            "C:\\Users\\Lhayana\\AppData\\Local\\Temp\\ipykernel_21884\\2307375460.py:2: SettingWithCopyWarning: \n",
            "A value is trying to be set on a copy of a slice from a DataFrame.\n",
            "Try using .loc[row_indexer,col_indexer] = value instead\n",
            "\n",
            "See the caveats in the documentation: https://pandas.pydata.org/pandas-docs/stable/user_guide/indexing.html#returning-a-view-versus-a-copy\n",
            "  main_candidatos['faixas_populacao'] = pd.cut(main_candidatos[\"population\"], [0, 2000, 5000, 10000, 20000, 50000, 100000, 500000, bigger_city], labels=['Até 2.000 pessoas', '2.001 a 5.000 pessoas', '5.0001 a 10.000 pessoas', '10.001 a 20.000 pessoas', '20.001 a 50.000','50.001 a 100.000 pessoas', '100.001 a 500.000 pessoas', 'Mais de 500.000 pessoas'])\n"
          ]
        }
      ],
      "source": [
        "bigger_city = max(main_candidatos[\"population\"])\n",
        "main_candidatos['faixas_populacao'] = pd.cut(main_candidatos[\"population\"], [0, 2000, 5000, 10000, 20000, 50000, 100000, 500000, bigger_city], labels=['Até 2.000 pessoas', '2.001 a 5.000 pessoas', '5.0001 a 10.000 pessoas', '10.001 a 20.000 pessoas', '20.001 a 50.000','50.001 a 100.000 pessoas', '100.001 a 500.000 pessoas', 'Mais de 500.000 pessoas'])"
      ]
    },
    {
      "cell_type": "code",
      "execution_count": 321,
      "id": "47296555",
      "metadata": {},
      "outputs": [
        {
          "data": {
            "image/png": "[encoded data removed]",
            "text/plain": [
              "<Figure size 1440x360 with 1 Axes>"
            ]
          },
          "metadata": {
            "needs_background": "light"
          },
          "output_type": "display_data"
        }
      ],
      "source": [
        "f, ax = plt.subplots(figsize=(20, 5))\n",
        "\n",
        "ax = sns.barplot(data=main_candidatos, x=\"faixas_populacao\", y=\"PCT_VOTOS\", hue=\"NM_URNA_CANDIDATO\", palette = 'hls')\n",
        "ax.set(xlabel='Faixas de População', ylabel='Porcentagem de votos')\n",
        "plt.title('Porcentagem de votos por candidato e faixa de população')\n",
        "ax.legend_.set_title('Candidato')"
      ]
    },
    {
      "cell_type": "code",
      "execution_count": 322,
      "id": "c0687ed6",
      "metadata": {},
      "outputs": [
        {
          "name": "stderr",
          "output_type": "stream",
          "text": [
            "c:\\Users\\Lhayana\\AppData\\Local\\Programs\\Python\\Python310\\lib\\site-packages\\seaborn\\axisgrid.py:712: UserWarning: Using the barplot function without specifying `order` is likely to produce an incorrect plot.\n",
            "  warnings.warn(warning)\n"
          ]
        },
        {
          "data": {
            "text/plain": [
              "<seaborn.axisgrid.FacetGrid at 0x2384a98fca0>"
            ]
          },
          "execution_count": 322,
          "metadata": {},
          "output_type": "execute_result"
        },
        {
          "data": {
            "image/png": "[encoded data removed]",
            "text/plain": [
              "<Figure size 1080x216 with 5 Axes>"
            ]
          },
          "metadata": {
            "needs_background": "light"
          },
          "output_type": "display_data"
        }
      ],
      "source": [
        "g = sns.FacetGrid(main_candidatos, col = \"nome_regiao\")\n",
        "g.map(sns.barplot, \"faixas_idhm\", \"PCT_VOTOS\", hue=main_candidatos[\"NM_URNA_CANDIDATO\"], palette = 'hls')"
      ]
    },
    {
      "cell_type": "code",
      "execution_count": 323,
      "id": "325b0624",
      "metadata": {},
      "outputs": [
        {
          "name": "stderr",
          "output_type": "stream",
          "text": [
            "c:\\Users\\Lhayana\\AppData\\Local\\Programs\\Python\\Python310\\lib\\site-packages\\seaborn\\axisgrid.py:712: UserWarning: Using the barplot function without specifying `order` is likely to produce an incorrect plot.\n",
            "  warnings.warn(warning)\n"
          ]
        },
        {
          "data": {
            "text/plain": [
              "<seaborn.axisgrid.FacetGrid at 0x2384c9753c0>"
            ]
          },
          "execution_count": 323,
          "metadata": {},
          "output_type": "execute_result"
        },
        {
          "data": {
            "image/png": "[encoded data removed]",
            "text/plain": [
              "<Figure size 1152x720 with 5 Axes>"
            ]
          },
          "metadata": {
            "needs_background": "light"
          },
          "output_type": "display_data"
        }
      ],
      "source": [
        "g = sns.FacetGrid(main_candidatos, row = \"nome_regiao\", aspect=8,height=2)\n",
        "g.map(sns.barplot, \"faixas_populacao\", \"PCT_VOTOS\", hue=main_candidatos[\"NM_URNA_CANDIDATO\"], palette = 'hls')"
      ]
    },
    {
      "cell_type": "code",
      "execution_count": 324,
      "id": "7e7311fe",
      "metadata": {},
      "outputs": [],
      "source": [
        "censo = pd.read_csv(\"data\\censos.csv\",encoding=\"Latin-1\")"
      ]
    },
    {
      "cell_type": "code",
      "execution_count": 325,
      "id": "26ddf7e4",
      "metadata": {},
      "outputs": [],
      "source": [
        "censo = censo.loc[ censo['ANO']==2010]"
      ]
    },
    {
      "cell_type": "code",
      "execution_count": 326,
      "id": "00dd0522",
      "metadata": {},
      "outputs": [],
      "source": [
        "censo = censo[[\"city_ibge_code\", 'EMP']]\n",
        "# EMP -> % de empregadores"
      ]
    },
    {
      "cell_type": "code",
      "execution_count": 327,
      "id": "cb2da18e",
      "metadata": {},
      "outputs": [],
      "source": [
        "main_candidatos = pd.merge(main_candidatos, censo, on='city_ibge_code', how='left')"
      ]
    },
    {
      "cell_type": "code",
      "execution_count": 328,
      "id": "a025e0ac",
      "metadata": {},
      "outputs": [
        {
          "data": {
            "text/plain": [
              "Text(0.5, 1.0, 'Porcentagens de votos por quantidade de empregadores (%)')"
            ]
          },
          "execution_count": 328,
          "metadata": {},
          "output_type": "execute_result"
        },
        {
          "data": {
            "image/png": "[encoded data removed]",
            "text/plain": [
              "<Figure size 576x432 with 3 Axes>"
            ]
          },
          "metadata": {
            "needs_background": "light"
          },
          "output_type": "display_data"
        }
      ],
      "source": [
        "fig, ax = plt.subplots(2, figsize=(8, 6) , layout=\"constrained\")\n",
        "p1= sns.regplot(x='votos_lula', y='EMP', data=main_candidatos, color='red', line_kws={'color': 'black'})\n",
        "fig.add_subplot(2, 1, 1)\n",
        "p2 = sns.regplot(x='votos_bolsonaro', y='EMP', data=main_candidatos, color='blue', line_kws={'color': 'black'})\n",
        "plt.title('Porcentagens de votos por quantidade de empregadores (%)')"
      ]
    },
    {
      "cell_type": "markdown",
      "id": "148651de",
      "metadata": {},
      "source": [
        "### Relação entre evangélicos e vitórias do Bolsonaro"
      ]
    },
    {
      "cell_type": "code",
      "execution_count": 329,
      "id": "6651de31",
      "metadata": {},
      "outputs": [
        {
          "name": "stderr",
          "output_type": "stream",
          "text": [
            "C:\\Users\\Lhayana\\AppData\\Local\\Temp\\ipykernel_21884\\315832768.py:1: ParserWarning: Falling back to the 'python' engine because the 'c' engine does not support skipfooter; you can avoid this warning by specifying engine='python'.\n",
            "  religiao = pd.read_csv(\"data\\evangelicos-municipios.csv\", skiprows=4, sep=\";\", skipfooter=20)\n"
          ]
        }
      ],
      "source": [
        "religiao = pd.read_csv(\"data\\evangelicos-municipios.csv\", skiprows=4, sep=\";\", skipfooter=20)\n",
        "# fonte: tabela 2094 - SIDRA censo 2010"
      ]
    },
    {
      "cell_type": "code",
      "execution_count": 331,
      "id": "24d8f5f7",
      "metadata": {},
      "outputs": [
        {
          "data": {
            "text/plain": [
              "Município     int64\n",
              "Religião     object\n",
              "Total        object\n",
              "dtype: object"
            ]
          },
          "execution_count": 331,
          "metadata": {},
          "output_type": "execute_result"
        }
      ],
      "source": [
        "religiao.dtypes"
      ]
    },
    {
      "cell_type": "code",
      "execution_count": 332,
      "id": "3f311596",
      "metadata": {},
      "outputs": [],
      "source": [
        "religiao['Total'] = religiao['Total'].replace('-', 0)\n",
        "religiao['Total'] = religiao['Total'].replace('...', 0)\n",
        "religiao['Total'] = religiao['Total'].astype('int32')"
      ]
    },
    {
      "cell_type": "code",
      "execution_count": 333,
      "id": "445ab899",
      "metadata": {},
      "outputs": [],
      "source": [
        "evangelicos = religiao.groupby('Município').sum()"
      ]
    },
    {
      "cell_type": "code",
      "execution_count": 334,
      "id": "1f6bdc02",
      "metadata": {},
      "outputs": [],
      "source": [
        "main_candidatos = pd.merge(main_candidatos, evangelicos, left_on='city_ibge_code', right_on='Município',how='left')\n"
      ]
    },
    {
      "cell_type": "code",
      "execution_count": 335,
      "id": "6a4c4d89",
      "metadata": {},
      "outputs": [],
      "source": [
        "main_candidatos = main_candidatos.rename(columns={\"Total\": \"evangelicos\"})"
      ]
    },
    {
      "cell_type": "code",
      "execution_count": 336,
      "id": "746b759f",
      "metadata": {},
      "outputs": [],
      "source": [
        "main_candidatos['evangelicos_pct'] = (main_candidatos['evangelicos']/main_candidatos['population'])*100"
      ]
    },
    {
      "cell_type": "code",
      "execution_count": 337,
      "id": "f62d0471",
      "metadata": {},
      "outputs": [
        {
          "data": {
            "text/plain": [
              "247.9120879120879"
            ]
          },
          "execution_count": 337,
          "metadata": {},
          "output_type": "execute_result"
        }
      ],
      "source": [
        "main_candidatos['evangelicos_pct'].max()"
      ]
    },
    {
      "cell_type": "code",
      "execution_count": 341,
      "id": "20b33f39",
      "metadata": {},
      "outputs": [],
      "source": [
        "bins = [0, 5, 10, 15, 20, 25, 30, 35, 40, 50, 60, 100]\n",
        "bins.sort()\n",
        "main_candidatos['faixas_evangelicos'] = pd.cut(main_candidatos[\"evangelicos_pct\"], bins, labels=['0-5%', '5-10%', '10-15%', '15-20%','20-25%','25-30%', '30-35%', '35-40%', '40-50%', '50-60%', '+60%'])"
      ]
    },
    {
      "cell_type": "code",
      "execution_count": 343,
      "id": "a52f1a48",
      "metadata": {},
      "outputs": [],
      "source": [
        "filter = main_candidatos['evangelicos']<100\n",
        "evangelicos_bolsonaro = main_candidatos[filter]"
      ]
    },
    {
      "cell_type": "code",
      "execution_count": 357,
      "id": "d299786b",
      "metadata": {},
      "outputs": [],
      "source": [
        "filter = (main_candidatos['votos_bolsonaro']>50)\n",
        "evangelicos_bolsonaro = main_candidatos[filter]"
      ]
    },
    {
      "cell_type": "code",
      "execution_count": 370,
      "id": "9ec31c44",
      "metadata": {},
      "outputs": [],
      "source": [
        "evangelicos_bolsonaro = pd.DataFrame(evangelicos_bolsonaro.groupby('faixas_evangelicos', sort=True)['NM_MUNICIPIO'].count())"
      ]
    },
    {
      "cell_type": "code",
      "execution_count": 376,
      "id": "0c9f9d46",
      "metadata": {},
      "outputs": [],
      "source": [
        "evangelicos_bolsonaro = evangelicos_bolsonaro.reset_index()"
      ]
    },
    {
      "cell_type": "code",
      "execution_count": 418,
      "id": "da47fd5b",
      "metadata": {},
      "outputs": [
        {
          "data": {
            "application/vnd.plotly.v1+json": {
              "config": {
                "plotlyServerURL": "https://plot.ly"
              },
              "data": [
                {
                  "alignmentgroup": "True",
                  "hovertemplate": "Pct. de evangélicos=%{x}<br>Nº de municípios=%{y}<extra></extra>",
                  "legendgroup": "",
                  "marker": {
                    "color": "#636efa",
                    "pattern": {
                      "shape": ""
                    }
                  },
                  "name": "",
                  "offsetgroup": "",
                  "orientation": "v",
                  "showlegend": false,
                  "textfont": {
                    "size": 9
                  },
                  "textposition": "auto",
                  "type": "bar",
                  "x": [
                    "0-5%",
                    "5-10%",
                    "10-15%",
                    "15-20%",
                    "20-25%",
                    "25-30%",
                    "30-35%",
                    "35-40%",
                    "40-50%",
                    "50-60%",
                    "+60%"
                  ],
                  "xaxis": "x",
                  "y": [
                    13,
                    22,
                    30,
                    46,
                    56,
                    77,
                    88,
                    95,
                    230,
                    282,
                    671
                  ],
                  "yaxis": "y"
                }
              ],
              "layout": {
                "barmode": "relative",
                "legend": {
                  "tracegroupgap": 0
                },
                "template": {
                  "data": {
                    "bar": [
                      {
                        "error_x": {
                          "color": "#2a3f5f"
                        },
                        "error_y": {
                          "color": "#2a3f5f"
                        },
                        "marker": {
                          "line": {
                            "color": "#E5ECF6",
                            "width": 0.5
                          },
                          "pattern": {
                            "fillmode": "overlay",
                            "size": 10,
                            "solidity": 0.2
                          }
                        },
                        "type": "bar"
                      }
                    ],
                    "barpolar": [
                      {
                        "marker": {
                          "line": {
                            "color": "#E5ECF6",
                            "width": 0.5
                          },
                          "pattern": {
                            "fillmode": "overlay",
                            "size": 10,
                            "solidity": 0.2
                          }
                        },
                        "type": "barpolar"
                      }
                    ],
                    "carpet": [
                      {
                        "aaxis": {
                          "endlinecolor": "#2a3f5f",
                          "gridcolor": "white",
                          "linecolor": "white",
                          "minorgridcolor": "white",
                          "startlinecolor": "#2a3f5f"
                        },
                        "baxis": {
                          "endlinecolor": "#2a3f5f",
                          "gridcolor": "white",
                          "linecolor": "white",
                          "minorgridcolor": "white",
                          "startlinecolor": "#2a3f5f"
                        },
                        "type": "carpet"
                      }
                    ],
                    "choropleth": [
                      {
                        "colorbar": {
                          "outlinewidth": 0,
                          "ticks": ""
                        },
                        "type": "choropleth"
                      }
                    ],
                    "contour": [
                      {
                        "colorbar": {
                          "outlinewidth": 0,
                          "ticks": ""
                        },
                        "colorscale": [
                          [
                            0,
                            "#0d0887"
                          ],
                          [
                            0.1111111111111111,
                            "#46039f"
                          ],
                          [
                            0.2222222222222222,
                            "#7201a8"
                          ],
                          [
                            0.3333333333333333,
                            "#9c179e"
                          ],
                          [
                            0.4444444444444444,
                            "#bd3786"
                          ],
                          [
                            0.5555555555555556,
                            "#d8576b"
                          ],
                          [
                            0.6666666666666666,
                            "#ed7953"
                          ],
                          [
                            0.7777777777777778,
                            "#fb9f3a"
                          ],
                          [
                            0.8888888888888888,
                            "#fdca26"
                          ],
                          [
                            1,
                            "#f0f921"
                          ]
                        ],
                        "type": "contour"
                      }
                    ],
                    "contourcarpet": [
                      {
                        "colorbar": {
                          "outlinewidth": 0,
                          "ticks": ""
                        },
                        "type": "contourcarpet"
                      }
                    ],
                    "heatmap": [
                      {
                        "colorbar": {
                          "outlinewidth": 0,
                          "ticks": ""
                        },
                        "colorscale": [
                          [
                            0,
                            "#0d0887"
                          ],
                          [
                            0.1111111111111111,
                            "#46039f"
                          ],
                          [
                            0.2222222222222222,
                            "#7201a8"
                          ],
                          [
                            0.3333333333333333,
                            "#9c179e"
                          ],
                          [
                            0.4444444444444444,
                            "#bd3786"
                          ],
                          [
                            0.5555555555555556,
                            "#d8576b"
                          ],
                          [
                            0.6666666666666666,
                            "#ed7953"
                          ],
                          [
                            0.7777777777777778,
                            "#fb9f3a"
                          ],
                          [
                            0.8888888888888888,
                            "#fdca26"
                          ],
                          [
                            1,
                            "#f0f921"
                          ]
                        ],
                        "type": "heatmap"
                      }
                    ],
                    "heatmapgl": [
                      {
                        "colorbar": {
                          "outlinewidth": 0,
                          "ticks": ""
                        },
                        "colorscale": [
                          [
                            0,
                            "#0d0887"
                          ],
                          [
                            0.1111111111111111,
                            "#46039f"
                          ],
                          [
                            0.2222222222222222,
                            "#7201a8"
                          ],
                          [
                            0.3333333333333333,
                            "#9c179e"
                          ],
                          [
                            0.4444444444444444,
                            "#bd3786"
                          ],
                          [
                            0.5555555555555556,
                            "#d8576b"
                          ],
                          [
                            0.6666666666666666,
                            "#ed7953"
                          ],
                          [
                            0.7777777777777778,
                            "#fb9f3a"
                          ],
                          [
                            0.8888888888888888,
                            "#fdca26"
                          ],
                          [
                            1,
                            "#f0f921"
                          ]
                        ],
                        "type": "heatmapgl"
                      }
                    ],
                    "histogram": [
                      {
                        "marker": {
                          "pattern": {
                            "fillmode": "overlay",
                            "size": 10,
                            "solidity": 0.2
                          }
                        },
                        "type": "histogram"
                      }
                    ],
                    "histogram2d": [
                      {
                        "colorbar": {
                          "outlinewidth": 0,
                          "ticks": ""
                        },
                        "colorscale": [
                          [
                            0,
                            "#0d0887"
                          ],
                          [
                            0.1111111111111111,
                            "#46039f"
                          ],
                          [
                            0.2222222222222222,
                            "#7201a8"
                          ],
                          [
                            0.3333333333333333,
                            "#9c179e"
                          ],
                          [
                            0.4444444444444444,
                            "#bd3786"
                          ],
                          [
                            0.5555555555555556,
                            "#d8576b"
                          ],
                          [
                            0.6666666666666666,
                            "#ed7953"
                          ],
                          [
                            0.7777777777777778,
                            "#fb9f3a"
                          ],
                          [
                            0.8888888888888888,
                            "#fdca26"
                          ],
                          [
                            1,
                            "#f0f921"
                          ]
                        ],
                        "type": "histogram2d"
                      }
                    ],
                    "histogram2dcontour": [
                      {
                        "colorbar": {
                          "outlinewidth": 0,
                          "ticks": ""
                        },
                        "colorscale": [
                          [
                            0,
                            "#0d0887"
                          ],
                          [
                            0.1111111111111111,
                            "#46039f"
                          ],
                          [
                            0.2222222222222222,
                            "#7201a8"
                          ],
                          [
                            0.3333333333333333,
                            "#9c179e"
                          ],
                          [
                            0.4444444444444444,
                            "#bd3786"
                          ],
                          [
                            0.5555555555555556,
                            "#d8576b"
                          ],
                          [
                            0.6666666666666666,
                            "#ed7953"
                          ],
                          [
                            0.7777777777777778,
                            "#fb9f3a"
                          ],
                          [
                            0.8888888888888888,
                            "#fdca26"
                          ],
                          [
                            1,
                            "#f0f921"
                          ]
                        ],
                        "type": "histogram2dcontour"
                      }
                    ],
                    "mesh3d": [
                      {
                        "colorbar": {
                          "outlinewidth": 0,
                          "ticks": ""
                        },
                        "type": "mesh3d"
                      }
                    ],
                    "parcoords": [
                      {
                        "line": {
                          "colorbar": {
                            "outlinewidth": 0,
                            "ticks": ""
                          }
                        },
                        "type": "parcoords"
                      }
                    ],
                    "pie": [
                      {
                        "automargin": true,
                        "type": "pie"
                      }
                    ],
                    "scatter": [
                      {
                        "fillpattern": {
                          "fillmode": "overlay",
                          "size": 10,
                          "solidity": 0.2
                        },
                        "type": "scatter"
                      }
                    ],
                    "scatter3d": [
                      {
                        "line": {
                          "colorbar": {
                            "outlinewidth": 0,
                            "ticks": ""
                          }
                        },
                        "marker": {
                          "colorbar": {
                            "outlinewidth": 0,
                            "ticks": ""
                          }
                        },
                        "type": "scatter3d"
                      }
                    ],
                    "scattercarpet": [
                      {
                        "marker": {
                          "colorbar": {
                            "outlinewidth": 0,
                            "ticks": ""
                          }
                        },
                        "type": "scattercarpet"
                      }
                    ],
                    "scattergeo": [
                      {
                        "marker": {
                          "colorbar": {
                            "outlinewidth": 0,
                            "ticks": ""
                          }
                        },
                        "type": "scattergeo"
                      }
                    ],
                    "scattergl": [
                      {
                        "marker": {
                          "colorbar": {
                            "outlinewidth": 0,
                            "ticks": ""
                          }
                        },
                        "type": "scattergl"
                      }
                    ],
                    "scattermapbox": [
                      {
                        "marker": {
                          "colorbar": {
                            "outlinewidth": 0,
                            "ticks": ""
                          }
                        },
                        "type": "scattermapbox"
                      }
                    ],
                    "scatterpolar": [
                      {
                        "marker": {
                          "colorbar": {
                            "outlinewidth": 0,
                            "ticks": ""
                          }
                        },
                        "type": "scatterpolar"
                      }
                    ],
                    "scatterpolargl": [
                      {
                        "marker": {
                          "colorbar": {
                            "outlinewidth": 0,
                            "ticks": ""
                          }
                        },
                        "type": "scatterpolargl"
                      }
                    ],
                    "scatterternary": [
                      {
                        "marker": {
                          "colorbar": {
                            "outlinewidth": 0,
                            "ticks": ""
                          }
                        },
                        "type": "scatterternary"
                      }
                    ],
                    "surface": [
                      {
                        "colorbar": {
                          "outlinewidth": 0,
                          "ticks": ""
                        },
                        "colorscale": [
                          [
                            0,
                            "#0d0887"
                          ],
                          [
                            0.1111111111111111,
                            "#46039f"
                          ],
                          [
                            0.2222222222222222,
                            "#7201a8"
                          ],
                          [
                            0.3333333333333333,
                            "#9c179e"
                          ],
                          [
                            0.4444444444444444,
                            "#bd3786"
                          ],
                          [
                            0.5555555555555556,
                            "#d8576b"
                          ],
                          [
                            0.6666666666666666,
                            "#ed7953"
                          ],
                          [
                            0.7777777777777778,
                            "#fb9f3a"
                          ],
                          [
                            0.8888888888888888,
                            "#fdca26"
                          ],
                          [
                            1,
                            "#f0f921"
                          ]
                        ],
                        "type": "surface"
                      }
                    ],
                    "table": [
                      {
                        "cells": {
                          "fill": {
                            "color": "#EBF0F8"
                          },
                          "line": {
                            "color": "white"
                          }
                        },
                        "header": {
                          "fill": {
                            "color": "#C8D4E3"
                          },
                          "line": {
                            "color": "white"
                          }
                        },
                        "type": "table"
                      }
                    ]
                  },
                  "layout": {
                    "annotationdefaults": {
                      "arrowcolor": "#2a3f5f",
                      "arrowhead": 0,
                      "arrowwidth": 1
                    },
                    "autotypenumbers": "strict",
                    "coloraxis": {
                      "colorbar": {
                        "outlinewidth": 0,
                        "ticks": ""
                      }
                    },
                    "colorscale": {
                      "diverging": [
                        [
                          0,
                          "#8e0152"
                        ],
                        [
                          0.1,
                          "#c51b7d"
                        ],
                        [
                          0.2,
                          "#de77ae"
                        ],
                        [
                          0.3,
                          "#f1b6da"
                        ],
                        [
                          0.4,
                          "#fde0ef"
                        ],
                        [
                          0.5,
                          "#f7f7f7"
                        ],
                        [
                          0.6,
                          "#e6f5d0"
                        ],
                        [
                          0.7,
                          "#b8e186"
                        ],
                        [
                          0.8,
                          "#7fbc41"
                        ],
                        [
                          0.9,
                          "#4d9221"
                        ],
                        [
                          1,
                          "#276419"
                        ]
                      ],
                      "sequential": [
                        [
                          0,
                          "#0d0887"
                        ],
                        [
                          0.1111111111111111,
                          "#46039f"
                        ],
                        [
                          0.2222222222222222,
                          "#7201a8"
                        ],
                        [
                          0.3333333333333333,
                          "#9c179e"
                        ],
                        [
                          0.4444444444444444,
                          "#bd3786"
                        ],
                        [
                          0.5555555555555556,
                          "#d8576b"
                        ],
                        [
                          0.6666666666666666,
                          "#ed7953"
                        ],
                        [
                          0.7777777777777778,
                          "#fb9f3a"
                        ],
                        [
                          0.8888888888888888,
                          "#fdca26"
                        ],
                        [
                          1,
                          "#f0f921"
                        ]
                      ],
                      "sequentialminus": [
                        [
                          0,
                          "#0d0887"
                        ],
                        [
                          0.1111111111111111,
                          "#46039f"
                        ],
                        [
                          0.2222222222222222,
                          "#7201a8"
                        ],
                        [
                          0.3333333333333333,
                          "#9c179e"
                        ],
                        [
                          0.4444444444444444,
                          "#bd3786"
                        ],
                        [
                          0.5555555555555556,
                          "#d8576b"
                        ],
                        [
                          0.6666666666666666,
                          "#ed7953"
                        ],
                        [
                          0.7777777777777778,
                          "#fb9f3a"
                        ],
                        [
                          0.8888888888888888,
                          "#fdca26"
                        ],
                        [
                          1,
                          "#f0f921"
                        ]
                      ]
                    },
                    "colorway": [
                      "#636efa",
                      "#EF553B",
                      "#00cc96",
                      "#ab63fa",
                      "#FFA15A",
                      "#19d3f3",
                      "#FF6692",
                      "#B6E880",
                      "#FF97FF",
                      "#FECB52"
                    ],
                    "font": {
                      "color": "#2a3f5f"
                    },
                    "geo": {
                      "bgcolor": "white",
                      "lakecolor": "white",
                      "landcolor": "#E5ECF6",
                      "showlakes": true,
                      "showland": true,
                      "subunitcolor": "white"
                    },
                    "hoverlabel": {
                      "align": "left"
                    },
                    "hovermode": "closest",
                    "mapbox": {
                      "style": "light"
                    },
                    "paper_bgcolor": "white",
                    "plot_bgcolor": "#E5ECF6",
                    "polar": {
                      "angularaxis": {
                        "gridcolor": "white",
                        "linecolor": "white",
                        "ticks": ""
                      },
                      "bgcolor": "#E5ECF6",
                      "radialaxis": {
                        "gridcolor": "white",
                        "linecolor": "white",
                        "ticks": ""
                      }
                    },
                    "scene": {
                      "xaxis": {
                        "backgroundcolor": "#E5ECF6",
                        "gridcolor": "white",
                        "gridwidth": 2,
                        "linecolor": "white",
                        "showbackground": true,
                        "ticks": "",
                        "zerolinecolor": "white"
                      },
                      "yaxis": {
                        "backgroundcolor": "#E5ECF6",
                        "gridcolor": "white",
                        "gridwidth": 2,
                        "linecolor": "white",
                        "showbackground": true,
                        "ticks": "",
                        "zerolinecolor": "white"
                      },
                      "zaxis": {
                        "backgroundcolor": "#E5ECF6",
                        "gridcolor": "white",
                        "gridwidth": 2,
                        "linecolor": "white",
                        "showbackground": true,
                        "ticks": "",
                        "zerolinecolor": "white"
                      }
                    },
                    "shapedefaults": {
                      "line": {
                        "color": "#2a3f5f"
                      }
                    },
                    "ternary": {
                      "aaxis": {
                        "gridcolor": "white",
                        "linecolor": "white",
                        "ticks": ""
                      },
                      "baxis": {
                        "gridcolor": "white",
                        "linecolor": "white",
                        "ticks": ""
                      },
                      "bgcolor": "#E5ECF6",
                      "caxis": {
                        "gridcolor": "white",
                        "linecolor": "white",
                        "ticks": ""
                      }
                    },
                    "title": {
                      "x": 0.05
                    },
                    "xaxis": {
                      "automargin": true,
                      "gridcolor": "white",
                      "linecolor": "white",
                      "ticks": "",
                      "title": {
                        "standoff": 15
                      },
                      "zerolinecolor": "white",
                      "zerolinewidth": 2
                    },
                    "yaxis": {
                      "automargin": true,
                      "gridcolor": "white",
                      "linecolor": "white",
                      "ticks": "",
                      "title": {
                        "standoff": 15
                      },
                      "zerolinecolor": "white",
                      "zerolinewidth": 2
                    }
                  }
                },
                "title": {
                  "font": {
                    "color": "#343840",
                    "size": 18
                  },
                  "text": "Quantidade de municípios em que o Bolsonaro venceu por porcentagem de evangélicos",
                  "x": 0.5,
                  "xanchor": "center"
                },
                "xaxis": {
                  "anchor": "y",
                  "domain": [
                    0,
                    1
                  ],
                  "title": {
                    "font": {
                      "size": 13
                    },
                    "text": "Porcentagem de evangélicos"
                  }
                },
                "yaxis": {
                  "anchor": "x",
                  "domain": [
                    0,
                    1
                  ],
                  "title": {
                    "font": {
                      "size": 13
                    },
                    "text": "Qtd. de municípios em que o Bolsonaro venceu"
                  }
                }
              }
            }
          },
          "metadata": {},
          "output_type": "display_data"
        }
      ],
      "source": [
        "import plotly.express as px\n",
        "\n",
        "fig = px.bar(evangelicos_bolsonaro, x=\"faixas_evangelicos\", y=\"NM_MUNICIPIO\", title=\"Quantidade de municípios em que o Bolsonaro venceu por porcentagem de evangélicos\", labels={\"NM_MUNICIPIO\": \"Nº de municípios\", 'faixas_evangelicos': 'Pct. de evangélicos'})\n",
        "fig.update_traces(textfont_size=9)\n",
        "fig.update_layout(yaxis=dict(title='Qtd. de municípios em que o Bolsonaro venceu',title_font_size=13),\n",
        "                  xaxis=dict(title='Porcentagem de evangélicos',title_font_size=13),\n",
        "                  title_font_color=\"#343840\", title_font_size=18,\n",
        "                  title={'xanchor': 'center', 'x':0.5})\n",
        "fig.show()"
      ]
    }
  ],
  "metadata": {
    "colab": {
      "collapsed_sections": [],
      "provenance": []
    },
    "kernelspec": {
      "display_name": "Python 3.10.6 64-bit",
      "language": "python",
      "name": "python3"
    },
    "language_info": {
      "codemirror_mode": {
        "name": "ipython",
        "version": 3
      },
      "file_extension": ".py",
      "mimetype": "text/x-python",
      "name": "python",
      "nbconvert_exporter": "python",
      "pygments_lexer": "ipython3",
      "version": "3.10.6"
    },
    "toc": {
      "base_numbering": 1,
      "nav_menu": {},
      "number_sections": true,
      "sideBar": true,
      "skip_h1_title": false,
      "title_cell": "Table of Contents",
      "title_sidebar": "Contents",
      "toc_cell": false,
      "toc_position": {},
      "toc_section_display": true,
      "toc_window_display": false
    },
    "varInspector": {
      "cols": {
        "lenName": 16,
        "lenType": 16,
        "lenVar": 40
      },
      "kernels_config": {
        "python": {
          "delete_cmd_postfix": "",
          "delete_cmd_prefix": "del ",
          "library": "var_list.py",
          "varRefreshCmd": "print(var_dic_list())"
        },
        "r": {
          "delete_cmd_postfix": ") ",
          "delete_cmd_prefix": "rm(",
          "library": "var_list.r",
          "varRefreshCmd": "cat(var_dic_list()) "
        }
      },
      "types_to_exclude": [
        "module",
        "function",
        "builtin_function_or_method",
        "instance",
        "_Feature"
      ],
      "window_display": false
    },
    "vscode": {
      "interpreter": {
        "hash": "43af4c433308c0a8bc6cc57748a24225b38c1231b2af2709c0ded4587f7c2ebb"
      }
    }
  },
  "nbformat": 4,
  "nbformat_minor": 5
}
