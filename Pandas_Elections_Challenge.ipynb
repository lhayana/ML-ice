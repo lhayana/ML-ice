{
  "cells": [
    {
      "cell_type": "markdown",
      "source": [
        "# Desafio 5: Pandas Presidente!\n",
        "\n",
        "Pode fazer download do notebook do desafio e trabalhar no seu notebook favorito (Deepnote, Colab, Jupyter Notebook...)\n",
        "\n",
        "Entregue sua solução em formato notebook (.ipynb), com seu nome no começo (por exemplo: `DiegoLaplagne_Desafio05_Pandas.ipynb`) seguindo o link:\n",
        "> https://www.dropbox.com/request/8MrRpKE3GhqwF9QJwZUb\n",
        "\n"
      ],
      "metadata": {
        "cell_id": "27ecaa0ab7b04265aa13efe0d0610cb5",
        "deepnote_cell_type": "markdown",
        "id": "9mF3172l6HtZ"
      }
    },
    {
      "cell_type": "markdown",
      "source": [
        "# Preparativos\n",
        "## Importe os módulos que precisar"
      ],
      "metadata": {
        "cell_id": "5755c4a39e8b4366ae51ae147bfc1879",
        "deepnote_cell_type": "markdown",
        "id": "zN2BrQX06Htf"
      }
    },
    {
      "cell_type": "code",
      "source": [
        "# Seu código aqui...\n",
        "import pandas as pd"
      ],
      "metadata": {
        "cell_id": "40d12549b059455e9b084594f2dda810",
        "source_hash": "b6bd79d3",
        "execution_start": 1665857950357,
        "execution_millis": 1012328,
        "deepnote_to_be_reexecuted": false,
        "deepnote_cell_type": "code",
        "id": "BE4uyLTD6Htf"
      },
      "outputs": [],
      "execution_count": 448
    },
    {
      "cell_type": "markdown",
      "source": [
        "## Obtenha e carregue os dados do TSE\n",
        "- Do site https://dadosabertos.tse.jus.br/dataset/resultados-2022, baixe os dados de \"Votação nominal por município e zona\".\n",
        "- Extraga a planilha `votacao_candidato_munzona_2022_BR.csv` e o documento `leiame.pdf` do zip.\n",
        "- Carregue a planilha em um DataFrame chamado `votos` usando a função `read_csv()` (dê uma olhada na documentação dela)\n",
        "    - Note que, como diz no _leiame_, \"A codificação de caracteres dos arquivos é 'Latin-1'.\n",
        "    - Atenção ao fato de que os csv do TSE usam ';' como separador de colunas!"
      ],
      "metadata": {
        "cell_id": "c5e44cd5ba094dbfa25620d10de21c0f",
        "deepnote_cell_type": "markdown",
        "id": "44ewKKfP6Htg"
      }
    },
    {
      "cell_type": "code",
      "source": [
        "votos = pd.read_csv('votacao_candidato_munzona_2022_BR.csv', sep=\";\", encoding=\"Latin-1\")"
      ],
      "metadata": {
        "cell_id": "6d2ca5474ed142f4be7b1973ce6cddc2",
        "source_hash": "c9388b7d",
        "execution_start": 1665857950358,
        "execution_millis": 251,
        "deepnote_to_be_reexecuted": false,
        "deepnote_cell_type": "code",
        "id": "NzGF700T6Hth"
      },
      "outputs": [],
      "execution_count": 449
    },
    {
      "cell_type": "markdown",
      "source": [
        "## Dedique um tempo a entender a organização da tabela\n",
        "- O que representa cada uma das linhas?\n",
        "- Que informação tem nas colunas? (Tem explicações no leiame.pdf)\n",
        "\n",
        "Nota: não precisa responder este ítem, basta você entender para conseguir responder as próximas."
      ],
      "metadata": {
        "cell_id": "8bae64715f404fb0a35e07b3d57ebd32",
        "deepnote_cell_type": "markdown",
        "id": "ae9IB4Na6Hti"
      }
    },
    {
      "cell_type": "markdown",
      "source": [
        "## Reduzindo a tabela\n",
        "Tem muitas colunas que a gente não precisa, vamos deixar a tabela mais enxuta:\n",
        "- Na tabela `votos`, fique só com as colunas: 'SG_UF','CD_MUNICIPIO','NM_MUNICIPIO','NR_ZONA','NR_CANDIDATO','NM_URNA_CANDIDATO' e 'QT_VOTOS_NOMINAIS_VALIDOS'"
      ],
      "metadata": {
        "cell_id": "64457a16f7dc414782f3aaf4432a1050",
        "deepnote_cell_type": "markdown",
        "id": "XOlEAKh46Htj"
      }
    },
    {
      "cell_type": "code",
      "source": [
        "votos = votos[['SG_UF','CD_MUNICIPIO','NM_MUNICIPIO','NR_ZONA','NR_CANDIDATO','NM_URNA_CANDIDATO','QT_VOTOS_NOMINAIS_VALIDOS']]"
      ],
      "metadata": {
        "cell_id": "c9a05f8ffa9747bb9ee1fb1d3b23f432",
        "source_hash": "66597514",
        "execution_start": 1665857950715,
        "execution_millis": 1012323,
        "deepnote_to_be_reexecuted": false,
        "deepnote_cell_type": "code",
        "id": "t0UxJ7mZ6Htj"
      },
      "outputs": [],
      "execution_count": 450
    },
    {
      "cell_type": "markdown",
      "source": [
        "## Quantos códigos de município diferentes existem na tabela?\n",
        "- Pode usar `.unique()` para ficar com um array com os valores diferentes que existem (em uma coluna por exemplo) e ver quantos elementos esse array tem."
      ],
      "metadata": {
        "cell_id": "a90d18d35d5e4ce485a345cd5f245866",
        "deepnote_cell_type": "markdown",
        "id": "lzJAQ1kZ6Htk"
      }
    },
    {
      "cell_type": "code",
      "source": [
        "votos['CD_MUNICIPIO'].nunique()"
      ],
      "metadata": {
        "cell_id": "e6ea4956ffa94f639ac84570e6c8c3cd",
        "source_hash": "a375f77",
        "execution_start": 1665857950761,
        "execution_millis": 2,
        "deepnote_to_be_reexecuted": false,
        "deepnote_cell_type": "code",
        "id": "yWD_DJ2S6Htl",
        "outputId": "5a061b5b-8829-45e6-c08c-4a992f669fb4",
        "colab": {
          "base_uri": "https://localhost:8080/"
        }
      },
      "outputs": [
        {
          "output_type": "execute_result",
          "data": {
            "text/plain": [
              "5751"
            ]
          },
          "metadata": {},
          "execution_count": 451
        }
      ],
      "execution_count": 451
    },
    {
      "cell_type": "markdown",
      "source": [
        "# Resultados eleitorais\n",
        "Vamos usar `.groupby()` e o aggregate `.sum()` para somar os votos de cada candidato en diferentes regiões.\n",
        "## Qual foi o resultado total no Brasil?\n",
        "- Obtenha a soma total de votos de cada candidato no Brasil todo. Apresente o resultado em ordem descendente com `.sort_values()`\n",
        "- Converta os valores em percentagens do total.\n",
        "- Apresente o resultado como \"pie plot\" (`.plot.pie()`)"
      ],
      "metadata": {
        "cell_id": "cca2d99b3f6b41e1b5a0ad3ed4266ce4",
        "deepnote_cell_type": "markdown",
        "id": "wGMNOPtX6Htm"
      }
    },
    {
      "cell_type": "code",
      "source": [
        "total_br = pd.DataFrame(votos.groupby('NM_URNA_CANDIDATO', sort=True)['QT_VOTOS_NOMINAIS_VALIDOS'].sum())"
      ],
      "metadata": {
        "cell_id": "a92edc3ee5b84a4d8c4baf5e492a1d45",
        "source_hash": "88f9d79a",
        "execution_start": 1665857950762,
        "execution_millis": 18,
        "deepnote_to_be_reexecuted": false,
        "deepnote_cell_type": "code",
        "id": "GwfWGSqm6Htm"
      },
      "outputs": [],
      "execution_count": 452
    },
    {
      "cell_type": "code",
      "source": [
        "total_br['QT_VOTOS_NOMINAIS_VALIDOS'] = (total_br['QT_VOTOS_NOMINAIS_VALIDOS']/ (total_br['QT_VOTOS_NOMINAIS_VALIDOS'].sum() )*100)"
      ],
      "metadata": {
        "id": "rv3B4VXR2KzQ"
      },
      "execution_count": 453,
      "outputs": []
    },
    {
      "cell_type": "code",
      "source": [
        "total_br.sort_values(by='QT_VOTOS_NOMINAIS_VALIDOS', ascending=False)"
      ],
      "metadata": {
        "tags": [],
        "cell_id": "9e3abb5c9b534474a822270a0b978c4f",
        "source_hash": "8007840f",
        "execution_start": 1665857950778,
        "execution_millis": 3,
        "deepnote_table_state": {
          "sortBy": [],
          "filters": [],
          "pageSize": 10,
          "pageIndex": 0
        },
        "deepnote_table_loading": false,
        "deepnote_to_be_reexecuted": false,
        "deepnote_cell_type": "code",
        "id": "8s7SZQqw6Htn",
        "outputId": "a84e8bc0-9b52-4f93-b150-7f56d4cb6007",
        "colab": {
          "base_uri": "https://localhost:8080/",
          "height": 425
        }
      },
      "outputs": [
        {
          "output_type": "execute_result",
          "data": {
            "text/plain": [
              "                     QT_VOTOS_NOMINAIS_VALIDOS\n",
              "NM_URNA_CANDIDATO                             \n",
              "LULA                                 48.430720\n",
              "JAIR BOLSONARO                       43.197553\n",
              "SIMONE TEBET                          4.157519\n",
              "CIRO GOMES                            3.044317\n",
              "SORAYA THRONICKE                      0.508294\n",
              "FELIPE D AVILA                        0.473407\n",
              "PADRE KELMON                          0.068620\n",
              "LÉO PÉRICLES                          0.045267\n",
              "SOFIA MANZANO                         0.038586\n",
              "VERA                                  0.021674\n",
              "CONSTITUINTE EYMAEL                   0.014044"
            ],
            "text/html": [
              "\n",
              "  <div id=\"df-a55de3c4-8898-4f36-a865-d9b32671ca14\">\n",
              "    <div class=\"colab-df-container\">\n",
              "      <div>\n",
              "<style scoped>\n",
              "    .dataframe tbody tr th:only-of-type {\n",
              "        vertical-align: middle;\n",
              "    }\n",
              "\n",
              "    .dataframe tbody tr th {\n",
              "        vertical-align: top;\n",
              "    }\n",
              "\n",
              "    .dataframe thead th {\n",
              "        text-align: right;\n",
              "    }\n",
              "</style>\n",
              "<table border=\"1\" class=\"dataframe\">\n",
              "  <thead>\n",
              "    <tr style=\"text-align: right;\">\n",
              "      <th></th>\n",
              "      <th>QT_VOTOS_NOMINAIS_VALIDOS</th>\n",
              "    </tr>\n",
              "    <tr>\n",
              "      <th>NM_URNA_CANDIDATO</th>\n",
              "      <th></th>\n",
              "    </tr>\n",
              "  </thead>\n",
              "  <tbody>\n",
              "    <tr>\n",
              "      <th>LULA</th>\n",
              "      <td>48.430720</td>\n",
              "    </tr>\n",
              "    <tr>\n",
              "      <th>JAIR BOLSONARO</th>\n",
              "      <td>43.197553</td>\n",
              "    </tr>\n",
              "    <tr>\n",
              "      <th>SIMONE TEBET</th>\n",
              "      <td>4.157519</td>\n",
              "    </tr>\n",
              "    <tr>\n",
              "      <th>CIRO GOMES</th>\n",
              "      <td>3.044317</td>\n",
              "    </tr>\n",
              "    <tr>\n",
              "      <th>SORAYA THRONICKE</th>\n",
              "      <td>0.508294</td>\n",
              "    </tr>\n",
              "    <tr>\n",
              "      <th>FELIPE D AVILA</th>\n",
              "      <td>0.473407</td>\n",
              "    </tr>\n",
              "    <tr>\n",
              "      <th>PADRE KELMON</th>\n",
              "      <td>0.068620</td>\n",
              "    </tr>\n",
              "    <tr>\n",
              "      <th>LÉO PÉRICLES</th>\n",
              "      <td>0.045267</td>\n",
              "    </tr>\n",
              "    <tr>\n",
              "      <th>SOFIA MANZANO</th>\n",
              "      <td>0.038586</td>\n",
              "    </tr>\n",
              "    <tr>\n",
              "      <th>VERA</th>\n",
              "      <td>0.021674</td>\n",
              "    </tr>\n",
              "    <tr>\n",
              "      <th>CONSTITUINTE EYMAEL</th>\n",
              "      <td>0.014044</td>\n",
              "    </tr>\n",
              "  </tbody>\n",
              "</table>\n",
              "</div>\n",
              "      <button class=\"colab-df-convert\" onclick=\"convertToInteractive('df-a55de3c4-8898-4f36-a865-d9b32671ca14')\"\n",
              "              title=\"Convert this dataframe to an interactive table.\"\n",
              "              style=\"display:none;\">\n",
              "        \n",
              "  <svg xmlns=\"http://www.w3.org/2000/svg\" height=\"24px\"viewBox=\"0 0 24 24\"\n",
              "       width=\"24px\">\n",
              "    <path d=\"M0 0h24v24H0V0z\" fill=\"none\"/>\n",
              "    <path d=\"M18.56 5.44l.94 2.06.94-2.06 2.06-.94-2.06-.94-.94-2.06-.94 2.06-2.06.94zm-11 1L8.5 8.5l.94-2.06 2.06-.94-2.06-.94L8.5 2.5l-.94 2.06-2.06.94zm10 10l.94 2.06.94-2.06 2.06-.94-2.06-.94-.94-2.06-.94 2.06-2.06.94z\"/><path d=\"M17.41 7.96l-1.37-1.37c-.4-.4-.92-.59-1.43-.59-.52 0-1.04.2-1.43.59L10.3 9.45l-7.72 7.72c-.78.78-.78 2.05 0 2.83L4 21.41c.39.39.9.59 1.41.59.51 0 1.02-.2 1.41-.59l7.78-7.78 2.81-2.81c.8-.78.8-2.07 0-2.86zM5.41 20L4 18.59l7.72-7.72 1.47 1.35L5.41 20z\"/>\n",
              "  </svg>\n",
              "      </button>\n",
              "      \n",
              "  <style>\n",
              "    .colab-df-container {\n",
              "      display:flex;\n",
              "      flex-wrap:wrap;\n",
              "      gap: 12px;\n",
              "    }\n",
              "\n",
              "    .colab-df-convert {\n",
              "      background-color: #E8F0FE;\n",
              "      border: none;\n",
              "      border-radius: 50%;\n",
              "      cursor: pointer;\n",
              "      display: none;\n",
              "      fill: #1967D2;\n",
              "      height: 32px;\n",
              "      padding: 0 0 0 0;\n",
              "      width: 32px;\n",
              "    }\n",
              "\n",
              "    .colab-df-convert:hover {\n",
              "      background-color: #E2EBFA;\n",
              "      box-shadow: 0px 1px 2px rgba(60, 64, 67, 0.3), 0px 1px 3px 1px rgba(60, 64, 67, 0.15);\n",
              "      fill: #174EA6;\n",
              "    }\n",
              "\n",
              "    [theme=dark] .colab-df-convert {\n",
              "      background-color: #3B4455;\n",
              "      fill: #D2E3FC;\n",
              "    }\n",
              "\n",
              "    [theme=dark] .colab-df-convert:hover {\n",
              "      background-color: #434B5C;\n",
              "      box-shadow: 0px 1px 3px 1px rgba(0, 0, 0, 0.15);\n",
              "      filter: drop-shadow(0px 1px 2px rgba(0, 0, 0, 0.3));\n",
              "      fill: #FFFFFF;\n",
              "    }\n",
              "  </style>\n",
              "\n",
              "      <script>\n",
              "        const buttonEl =\n",
              "          document.querySelector('#df-a55de3c4-8898-4f36-a865-d9b32671ca14 button.colab-df-convert');\n",
              "        buttonEl.style.display =\n",
              "          google.colab.kernel.accessAllowed ? 'block' : 'none';\n",
              "\n",
              "        async function convertToInteractive(key) {\n",
              "          const element = document.querySelector('#df-a55de3c4-8898-4f36-a865-d9b32671ca14');\n",
              "          const dataTable =\n",
              "            await google.colab.kernel.invokeFunction('convertToInteractive',\n",
              "                                                     [key], {});\n",
              "          if (!dataTable) return;\n",
              "\n",
              "          const docLinkHtml = 'Like what you see? Visit the ' +\n",
              "            '<a target=\"_blank\" href=https://colab.research.google.com/notebooks/data_table.ipynb>data table notebook</a>'\n",
              "            + ' to learn more about interactive tables.';\n",
              "          element.innerHTML = '';\n",
              "          dataTable['output_type'] = 'display_data';\n",
              "          await google.colab.output.renderOutput(dataTable, element);\n",
              "          const docLink = document.createElement('div');\n",
              "          docLink.innerHTML = docLinkHtml;\n",
              "          element.appendChild(docLink);\n",
              "        }\n",
              "      </script>\n",
              "    </div>\n",
              "  </div>\n",
              "  "
            ]
          },
          "metadata": {},
          "execution_count": 454
        }
      ],
      "execution_count": 454
    },
    {
      "cell_type": "code",
      "source": [
        "import plotly.express as px\n",
        "\n",
        "fig = px.pie(total_br, values='QT_VOTOS_NOMINAIS_VALIDOS', \n",
        "             names=list(total_br.index), title='Eleições Presidenciais 2022 - Brasil',\n",
        "             color=list(total_br.index), color_discrete_map={'LULA':'red', 'JAIR BOLSONARO':'royalblue'})\n",
        "fig.show()"
      ],
      "metadata": {
        "tags": [],
        "cell_id": "1281d23367484e5490a7830f096f62b0",
        "source_hash": "472c4ca8",
        "execution_start": 1665857950821,
        "execution_millis": 1466,
        "deepnote_to_be_reexecuted": false,
        "deepnote_cell_type": "code",
        "id": "5TS6YlZy6Hto",
        "outputId": "f193ab5d-675a-40a2-dd8c-08284ac353ae",
        "colab": {
          "base_uri": "https://localhost:8080/",
          "height": 542
        }
      },
      "outputs": [
        {
          "output_type": "display_data",
          "data": {
            "text/html": [
              "<html>\n",
              "<head><meta charset=\"utf-8\" /></head>\n",
              "<body>\n",
              "    <div>            <script src=\"https://cdnjs.cloudflare.com/ajax/libs/mathjax/2.7.5/MathJax.js?config=TeX-AMS-MML_SVG\"></script><script type=\"text/javascript\">if (window.MathJax) {MathJax.Hub.Config({SVG: {font: \"STIX-Web\"}});}</script>                <script type=\"text/javascript\">window.PlotlyConfig = {MathJaxConfig: 'local'};</script>\n",
              "        <script src=\"https://cdn.plot.ly/plotly-2.8.3.min.js\"></script>                <div id=\"c5425e51-e375-48b0-bb36-72fd0e9d2276\" class=\"plotly-graph-div\" style=\"height:525px; width:100%;\"></div>            <script type=\"text/javascript\">                                    window.PLOTLYENV=window.PLOTLYENV || {};                                    if (document.getElementById(\"c5425e51-e375-48b0-bb36-72fd0e9d2276\")) {                    Plotly.newPlot(                        \"c5425e51-e375-48b0-bb36-72fd0e9d2276\",                        [{\"customdata\":[[\"CIRO GOMES\"],[\"CONSTITUINTE EYMAEL\"],[\"FELIPE D AVILA\"],[\"JAIR BOLSONARO\"],[\"LULA\"],[\"L\\u00c9O P\\u00c9RICLES\"],[\"PADRE KELMON\"],[\"SIMONE TEBET\"],[\"SOFIA MANZANO\"],[\"SORAYA THRONICKE\"],[\"VERA\"]],\"domain\":{\"x\":[0.0,1.0],\"y\":[0.0,1.0]},\"hovertemplate\":\"label=%{label}<br>QT_VOTOS_NOMINAIS_VALIDOS=%{value}<br>color=%{customdata[0]}<extra></extra>\",\"labels\":[\"CIRO GOMES\",\"CONSTITUINTE EYMAEL\",\"FELIPE D AVILA\",\"JAIR BOLSONARO\",\"LULA\",\"L\\u00c9O P\\u00c9RICLES\",\"PADRE KELMON\",\"SIMONE TEBET\",\"SOFIA MANZANO\",\"SORAYA THRONICKE\",\"VERA\"],\"legendgroup\":\"\",\"marker\":{\"colors\":[\"#00cc96\",\"#ab63fa\",\"#FFA15A\",\"royalblue\",\"red\",\"#19d3f3\",\"#FF6692\",\"#B6E880\",\"#FF97FF\",\"#FECB52\",\"#636efa\"]},\"name\":\"\",\"showlegend\":true,\"values\":[3.0443166324365536,0.01404384628538278,0.47340719806667225,43.19755255444699,48.43071985986874,0.045266960331691225,0.06861980277564561,4.15751897371929,0.03858589903271275,0.5082943654801378,0.02167390755618729],\"type\":\"pie\"}],                        {\"template\":{\"data\":{\"bar\":[{\"error_x\":{\"color\":\"#2a3f5f\"},\"error_y\":{\"color\":\"#2a3f5f\"},\"marker\":{\"line\":{\"color\":\"#E5ECF6\",\"width\":0.5},\"pattern\":{\"fillmode\":\"overlay\",\"size\":10,\"solidity\":0.2}},\"type\":\"bar\"}],\"barpolar\":[{\"marker\":{\"line\":{\"color\":\"#E5ECF6\",\"width\":0.5},\"pattern\":{\"fillmode\":\"overlay\",\"size\":10,\"solidity\":0.2}},\"type\":\"barpolar\"}],\"carpet\":[{\"aaxis\":{\"endlinecolor\":\"#2a3f5f\",\"gridcolor\":\"white\",\"linecolor\":\"white\",\"minorgridcolor\":\"white\",\"startlinecolor\":\"#2a3f5f\"},\"baxis\":{\"endlinecolor\":\"#2a3f5f\",\"gridcolor\":\"white\",\"linecolor\":\"white\",\"minorgridcolor\":\"white\",\"startlinecolor\":\"#2a3f5f\"},\"type\":\"carpet\"}],\"choropleth\":[{\"colorbar\":{\"outlinewidth\":0,\"ticks\":\"\"},\"type\":\"choropleth\"}],\"contour\":[{\"colorbar\":{\"outlinewidth\":0,\"ticks\":\"\"},\"colorscale\":[[0.0,\"#0d0887\"],[0.1111111111111111,\"#46039f\"],[0.2222222222222222,\"#7201a8\"],[0.3333333333333333,\"#9c179e\"],[0.4444444444444444,\"#bd3786\"],[0.5555555555555556,\"#d8576b\"],[0.6666666666666666,\"#ed7953\"],[0.7777777777777778,\"#fb9f3a\"],[0.8888888888888888,\"#fdca26\"],[1.0,\"#f0f921\"]],\"type\":\"contour\"}],\"contourcarpet\":[{\"colorbar\":{\"outlinewidth\":0,\"ticks\":\"\"},\"type\":\"contourcarpet\"}],\"heatmap\":[{\"colorbar\":{\"outlinewidth\":0,\"ticks\":\"\"},\"colorscale\":[[0.0,\"#0d0887\"],[0.1111111111111111,\"#46039f\"],[0.2222222222222222,\"#7201a8\"],[0.3333333333333333,\"#9c179e\"],[0.4444444444444444,\"#bd3786\"],[0.5555555555555556,\"#d8576b\"],[0.6666666666666666,\"#ed7953\"],[0.7777777777777778,\"#fb9f3a\"],[0.8888888888888888,\"#fdca26\"],[1.0,\"#f0f921\"]],\"type\":\"heatmap\"}],\"heatmapgl\":[{\"colorbar\":{\"outlinewidth\":0,\"ticks\":\"\"},\"colorscale\":[[0.0,\"#0d0887\"],[0.1111111111111111,\"#46039f\"],[0.2222222222222222,\"#7201a8\"],[0.3333333333333333,\"#9c179e\"],[0.4444444444444444,\"#bd3786\"],[0.5555555555555556,\"#d8576b\"],[0.6666666666666666,\"#ed7953\"],[0.7777777777777778,\"#fb9f3a\"],[0.8888888888888888,\"#fdca26\"],[1.0,\"#f0f921\"]],\"type\":\"heatmapgl\"}],\"histogram\":[{\"marker\":{\"pattern\":{\"fillmode\":\"overlay\",\"size\":10,\"solidity\":0.2}},\"type\":\"histogram\"}],\"histogram2d\":[{\"colorbar\":{\"outlinewidth\":0,\"ticks\":\"\"},\"colorscale\":[[0.0,\"#0d0887\"],[0.1111111111111111,\"#46039f\"],[0.2222222222222222,\"#7201a8\"],[0.3333333333333333,\"#9c179e\"],[0.4444444444444444,\"#bd3786\"],[0.5555555555555556,\"#d8576b\"],[0.6666666666666666,\"#ed7953\"],[0.7777777777777778,\"#fb9f3a\"],[0.8888888888888888,\"#fdca26\"],[1.0,\"#f0f921\"]],\"type\":\"histogram2d\"}],\"histogram2dcontour\":[{\"colorbar\":{\"outlinewidth\":0,\"ticks\":\"\"},\"colorscale\":[[0.0,\"#0d0887\"],[0.1111111111111111,\"#46039f\"],[0.2222222222222222,\"#7201a8\"],[0.3333333333333333,\"#9c179e\"],[0.4444444444444444,\"#bd3786\"],[0.5555555555555556,\"#d8576b\"],[0.6666666666666666,\"#ed7953\"],[0.7777777777777778,\"#fb9f3a\"],[0.8888888888888888,\"#fdca26\"],[1.0,\"#f0f921\"]],\"type\":\"histogram2dcontour\"}],\"mesh3d\":[{\"colorbar\":{\"outlinewidth\":0,\"ticks\":\"\"},\"type\":\"mesh3d\"}],\"parcoords\":[{\"line\":{\"colorbar\":{\"outlinewidth\":0,\"ticks\":\"\"}},\"type\":\"parcoords\"}],\"pie\":[{\"automargin\":true,\"type\":\"pie\"}],\"scatter\":[{\"marker\":{\"colorbar\":{\"outlinewidth\":0,\"ticks\":\"\"}},\"type\":\"scatter\"}],\"scatter3d\":[{\"line\":{\"colorbar\":{\"outlinewidth\":0,\"ticks\":\"\"}},\"marker\":{\"colorbar\":{\"outlinewidth\":0,\"ticks\":\"\"}},\"type\":\"scatter3d\"}],\"scattercarpet\":[{\"marker\":{\"colorbar\":{\"outlinewidth\":0,\"ticks\":\"\"}},\"type\":\"scattercarpet\"}],\"scattergeo\":[{\"marker\":{\"colorbar\":{\"outlinewidth\":0,\"ticks\":\"\"}},\"type\":\"scattergeo\"}],\"scattergl\":[{\"marker\":{\"colorbar\":{\"outlinewidth\":0,\"ticks\":\"\"}},\"type\":\"scattergl\"}],\"scattermapbox\":[{\"marker\":{\"colorbar\":{\"outlinewidth\":0,\"ticks\":\"\"}},\"type\":\"scattermapbox\"}],\"scatterpolar\":[{\"marker\":{\"colorbar\":{\"outlinewidth\":0,\"ticks\":\"\"}},\"type\":\"scatterpolar\"}],\"scatterpolargl\":[{\"marker\":{\"colorbar\":{\"outlinewidth\":0,\"ticks\":\"\"}},\"type\":\"scatterpolargl\"}],\"scatterternary\":[{\"marker\":{\"colorbar\":{\"outlinewidth\":0,\"ticks\":\"\"}},\"type\":\"scatterternary\"}],\"surface\":[{\"colorbar\":{\"outlinewidth\":0,\"ticks\":\"\"},\"colorscale\":[[0.0,\"#0d0887\"],[0.1111111111111111,\"#46039f\"],[0.2222222222222222,\"#7201a8\"],[0.3333333333333333,\"#9c179e\"],[0.4444444444444444,\"#bd3786\"],[0.5555555555555556,\"#d8576b\"],[0.6666666666666666,\"#ed7953\"],[0.7777777777777778,\"#fb9f3a\"],[0.8888888888888888,\"#fdca26\"],[1.0,\"#f0f921\"]],\"type\":\"surface\"}],\"table\":[{\"cells\":{\"fill\":{\"color\":\"#EBF0F8\"},\"line\":{\"color\":\"white\"}},\"header\":{\"fill\":{\"color\":\"#C8D4E3\"},\"line\":{\"color\":\"white\"}},\"type\":\"table\"}]},\"layout\":{\"annotationdefaults\":{\"arrowcolor\":\"#2a3f5f\",\"arrowhead\":0,\"arrowwidth\":1},\"autotypenumbers\":\"strict\",\"coloraxis\":{\"colorbar\":{\"outlinewidth\":0,\"ticks\":\"\"}},\"colorscale\":{\"diverging\":[[0,\"#8e0152\"],[0.1,\"#c51b7d\"],[0.2,\"#de77ae\"],[0.3,\"#f1b6da\"],[0.4,\"#fde0ef\"],[0.5,\"#f7f7f7\"],[0.6,\"#e6f5d0\"],[0.7,\"#b8e186\"],[0.8,\"#7fbc41\"],[0.9,\"#4d9221\"],[1,\"#276419\"]],\"sequential\":[[0.0,\"#0d0887\"],[0.1111111111111111,\"#46039f\"],[0.2222222222222222,\"#7201a8\"],[0.3333333333333333,\"#9c179e\"],[0.4444444444444444,\"#bd3786\"],[0.5555555555555556,\"#d8576b\"],[0.6666666666666666,\"#ed7953\"],[0.7777777777777778,\"#fb9f3a\"],[0.8888888888888888,\"#fdca26\"],[1.0,\"#f0f921\"]],\"sequentialminus\":[[0.0,\"#0d0887\"],[0.1111111111111111,\"#46039f\"],[0.2222222222222222,\"#7201a8\"],[0.3333333333333333,\"#9c179e\"],[0.4444444444444444,\"#bd3786\"],[0.5555555555555556,\"#d8576b\"],[0.6666666666666666,\"#ed7953\"],[0.7777777777777778,\"#fb9f3a\"],[0.8888888888888888,\"#fdca26\"],[1.0,\"#f0f921\"]]},\"colorway\":[\"#636efa\",\"#EF553B\",\"#00cc96\",\"#ab63fa\",\"#FFA15A\",\"#19d3f3\",\"#FF6692\",\"#B6E880\",\"#FF97FF\",\"#FECB52\"],\"font\":{\"color\":\"#2a3f5f\"},\"geo\":{\"bgcolor\":\"white\",\"lakecolor\":\"white\",\"landcolor\":\"#E5ECF6\",\"showlakes\":true,\"showland\":true,\"subunitcolor\":\"white\"},\"hoverlabel\":{\"align\":\"left\"},\"hovermode\":\"closest\",\"mapbox\":{\"style\":\"light\"},\"paper_bgcolor\":\"white\",\"plot_bgcolor\":\"#E5ECF6\",\"polar\":{\"angularaxis\":{\"gridcolor\":\"white\",\"linecolor\":\"white\",\"ticks\":\"\"},\"bgcolor\":\"#E5ECF6\",\"radialaxis\":{\"gridcolor\":\"white\",\"linecolor\":\"white\",\"ticks\":\"\"}},\"scene\":{\"xaxis\":{\"backgroundcolor\":\"#E5ECF6\",\"gridcolor\":\"white\",\"gridwidth\":2,\"linecolor\":\"white\",\"showbackground\":true,\"ticks\":\"\",\"zerolinecolor\":\"white\"},\"yaxis\":{\"backgroundcolor\":\"#E5ECF6\",\"gridcolor\":\"white\",\"gridwidth\":2,\"linecolor\":\"white\",\"showbackground\":true,\"ticks\":\"\",\"zerolinecolor\":\"white\"},\"zaxis\":{\"backgroundcolor\":\"#E5ECF6\",\"gridcolor\":\"white\",\"gridwidth\":2,\"linecolor\":\"white\",\"showbackground\":true,\"ticks\":\"\",\"zerolinecolor\":\"white\"}},\"shapedefaults\":{\"line\":{\"color\":\"#2a3f5f\"}},\"ternary\":{\"aaxis\":{\"gridcolor\":\"white\",\"linecolor\":\"white\",\"ticks\":\"\"},\"baxis\":{\"gridcolor\":\"white\",\"linecolor\":\"white\",\"ticks\":\"\"},\"bgcolor\":\"#E5ECF6\",\"caxis\":{\"gridcolor\":\"white\",\"linecolor\":\"white\",\"ticks\":\"\"}},\"title\":{\"x\":0.05},\"xaxis\":{\"automargin\":true,\"gridcolor\":\"white\",\"linecolor\":\"white\",\"ticks\":\"\",\"title\":{\"standoff\":15},\"zerolinecolor\":\"white\",\"zerolinewidth\":2},\"yaxis\":{\"automargin\":true,\"gridcolor\":\"white\",\"linecolor\":\"white\",\"ticks\":\"\",\"title\":{\"standoff\":15},\"zerolinecolor\":\"white\",\"zerolinewidth\":2}}},\"legend\":{\"tracegroupgap\":0},\"title\":{\"text\":\"Elei\\u00e7\\u00f5es Presidenciais 2022 - Brasil\"}},                        {\"responsive\": true}                    ).then(function(){\n",
              "                            \n",
              "var gd = document.getElementById('c5425e51-e375-48b0-bb36-72fd0e9d2276');\n",
              "var x = new MutationObserver(function (mutations, observer) {{\n",
              "        var display = window.getComputedStyle(gd).display;\n",
              "        if (!display || display === 'none') {{\n",
              "            console.log([gd, 'removed!']);\n",
              "            Plotly.purge(gd);\n",
              "            observer.disconnect();\n",
              "        }}\n",
              "}});\n",
              "\n",
              "// Listen for the removal of the full notebook cells\n",
              "var notebookContainer = gd.closest('#notebook-container');\n",
              "if (notebookContainer) {{\n",
              "    x.observe(notebookContainer, {childList: true});\n",
              "}}\n",
              "\n",
              "// Listen for the clearing of the current output cell\n",
              "var outputEl = gd.closest('.output');\n",
              "if (outputEl) {{\n",
              "    x.observe(outputEl, {childList: true});\n",
              "}}\n",
              "\n",
              "                        })                };                            </script>        </div>\n",
              "</body>\n",
              "</html>"
            ]
          },
          "metadata": {}
        }
      ],
      "execution_count": 455
    },
    {
      "cell_type": "markdown",
      "source": [
        "## Qual foi o resultado no RN?\n",
        "- Repita o anterior, mas selecionando previamente só os votos do RN."
      ],
      "metadata": {
        "cell_id": "b5bead8aa0664260a18455dcbff2dca1",
        "deepnote_cell_type": "markdown",
        "id": "IieYmvf_6Hto"
      }
    },
    {
      "cell_type": "code",
      "source": [
        "filter_rn = (votos['SG_UF']==\"RN\")\n",
        "rn = votos[filter_rn]\n",
        "rn.head()"
      ],
      "metadata": {
        "cell_id": "b830c9263acb4d8780e6320244787735",
        "source_hash": "abc5a817",
        "execution_start": 1665857952160,
        "execution_millis": 214,
        "deepnote_to_be_reexecuted": false,
        "deepnote_cell_type": "code",
        "id": "cuIAcYI56Htp",
        "outputId": "9e58b9d0-4f34-4e45-e1d7-a279d1d14f0d",
        "colab": {
          "base_uri": "https://localhost:8080/",
          "height": 206
        }
      },
      "outputs": [
        {
          "output_type": "execute_result",
          "data": {
            "text/plain": [
              "    SG_UF  CD_MUNICIPIO      NM_MUNICIPIO  NR_ZONA  NR_CANDIDATO  \\\n",
              "21     RN         16993          JANDAÍRA       62            14   \n",
              "27     RN         16357          BREJINHO       44            15   \n",
              "61     RN         16594           CRUZETA       22            16   \n",
              "88     RN         17450  MARCELINO VIEIRA       65            22   \n",
              "143    RN         18996         VILA FLOR       11            44   \n",
              "\n",
              "    NM_URNA_CANDIDATO  QT_VOTOS_NOMINAIS_VALIDOS  \n",
              "21       PADRE KELMON                          0  \n",
              "27       SIMONE TEBET                        195  \n",
              "61               VERA                          0  \n",
              "88     JAIR BOLSONARO                        608  \n",
              "143  SORAYA THRONICKE                          5  "
            ],
            "text/html": [
              "\n",
              "  <div id=\"df-3c0b19d3-5aef-4a17-b22b-6f4d70558259\">\n",
              "    <div class=\"colab-df-container\">\n",
              "      <div>\n",
              "<style scoped>\n",
              "    .dataframe tbody tr th:only-of-type {\n",
              "        vertical-align: middle;\n",
              "    }\n",
              "\n",
              "    .dataframe tbody tr th {\n",
              "        vertical-align: top;\n",
              "    }\n",
              "\n",
              "    .dataframe thead th {\n",
              "        text-align: right;\n",
              "    }\n",
              "</style>\n",
              "<table border=\"1\" class=\"dataframe\">\n",
              "  <thead>\n",
              "    <tr style=\"text-align: right;\">\n",
              "      <th></th>\n",
              "      <th>SG_UF</th>\n",
              "      <th>CD_MUNICIPIO</th>\n",
              "      <th>NM_MUNICIPIO</th>\n",
              "      <th>NR_ZONA</th>\n",
              "      <th>NR_CANDIDATO</th>\n",
              "      <th>NM_URNA_CANDIDATO</th>\n",
              "      <th>QT_VOTOS_NOMINAIS_VALIDOS</th>\n",
              "    </tr>\n",
              "  </thead>\n",
              "  <tbody>\n",
              "    <tr>\n",
              "      <th>21</th>\n",
              "      <td>RN</td>\n",
              "      <td>16993</td>\n",
              "      <td>JANDAÍRA</td>\n",
              "      <td>62</td>\n",
              "      <td>14</td>\n",
              "      <td>PADRE KELMON</td>\n",
              "      <td>0</td>\n",
              "    </tr>\n",
              "    <tr>\n",
              "      <th>27</th>\n",
              "      <td>RN</td>\n",
              "      <td>16357</td>\n",
              "      <td>BREJINHO</td>\n",
              "      <td>44</td>\n",
              "      <td>15</td>\n",
              "      <td>SIMONE TEBET</td>\n",
              "      <td>195</td>\n",
              "    </tr>\n",
              "    <tr>\n",
              "      <th>61</th>\n",
              "      <td>RN</td>\n",
              "      <td>16594</td>\n",
              "      <td>CRUZETA</td>\n",
              "      <td>22</td>\n",
              "      <td>16</td>\n",
              "      <td>VERA</td>\n",
              "      <td>0</td>\n",
              "    </tr>\n",
              "    <tr>\n",
              "      <th>88</th>\n",
              "      <td>RN</td>\n",
              "      <td>17450</td>\n",
              "      <td>MARCELINO VIEIRA</td>\n",
              "      <td>65</td>\n",
              "      <td>22</td>\n",
              "      <td>JAIR BOLSONARO</td>\n",
              "      <td>608</td>\n",
              "    </tr>\n",
              "    <tr>\n",
              "      <th>143</th>\n",
              "      <td>RN</td>\n",
              "      <td>18996</td>\n",
              "      <td>VILA FLOR</td>\n",
              "      <td>11</td>\n",
              "      <td>44</td>\n",
              "      <td>SORAYA THRONICKE</td>\n",
              "      <td>5</td>\n",
              "    </tr>\n",
              "  </tbody>\n",
              "</table>\n",
              "</div>\n",
              "      <button class=\"colab-df-convert\" onclick=\"convertToInteractive('df-3c0b19d3-5aef-4a17-b22b-6f4d70558259')\"\n",
              "              title=\"Convert this dataframe to an interactive table.\"\n",
              "              style=\"display:none;\">\n",
              "        \n",
              "  <svg xmlns=\"http://www.w3.org/2000/svg\" height=\"24px\"viewBox=\"0 0 24 24\"\n",
              "       width=\"24px\">\n",
              "    <path d=\"M0 0h24v24H0V0z\" fill=\"none\"/>\n",
              "    <path d=\"M18.56 5.44l.94 2.06.94-2.06 2.06-.94-2.06-.94-.94-2.06-.94 2.06-2.06.94zm-11 1L8.5 8.5l.94-2.06 2.06-.94-2.06-.94L8.5 2.5l-.94 2.06-2.06.94zm10 10l.94 2.06.94-2.06 2.06-.94-2.06-.94-.94-2.06-.94 2.06-2.06.94z\"/><path d=\"M17.41 7.96l-1.37-1.37c-.4-.4-.92-.59-1.43-.59-.52 0-1.04.2-1.43.59L10.3 9.45l-7.72 7.72c-.78.78-.78 2.05 0 2.83L4 21.41c.39.39.9.59 1.41.59.51 0 1.02-.2 1.41-.59l7.78-7.78 2.81-2.81c.8-.78.8-2.07 0-2.86zM5.41 20L4 18.59l7.72-7.72 1.47 1.35L5.41 20z\"/>\n",
              "  </svg>\n",
              "      </button>\n",
              "      \n",
              "  <style>\n",
              "    .colab-df-container {\n",
              "      display:flex;\n",
              "      flex-wrap:wrap;\n",
              "      gap: 12px;\n",
              "    }\n",
              "\n",
              "    .colab-df-convert {\n",
              "      background-color: #E8F0FE;\n",
              "      border: none;\n",
              "      border-radius: 50%;\n",
              "      cursor: pointer;\n",
              "      display: none;\n",
              "      fill: #1967D2;\n",
              "      height: 32px;\n",
              "      padding: 0 0 0 0;\n",
              "      width: 32px;\n",
              "    }\n",
              "\n",
              "    .colab-df-convert:hover {\n",
              "      background-color: #E2EBFA;\n",
              "      box-shadow: 0px 1px 2px rgba(60, 64, 67, 0.3), 0px 1px 3px 1px rgba(60, 64, 67, 0.15);\n",
              "      fill: #174EA6;\n",
              "    }\n",
              "\n",
              "    [theme=dark] .colab-df-convert {\n",
              "      background-color: #3B4455;\n",
              "      fill: #D2E3FC;\n",
              "    }\n",
              "\n",
              "    [theme=dark] .colab-df-convert:hover {\n",
              "      background-color: #434B5C;\n",
              "      box-shadow: 0px 1px 3px 1px rgba(0, 0, 0, 0.15);\n",
              "      filter: drop-shadow(0px 1px 2px rgba(0, 0, 0, 0.3));\n",
              "      fill: #FFFFFF;\n",
              "    }\n",
              "  </style>\n",
              "\n",
              "      <script>\n",
              "        const buttonEl =\n",
              "          document.querySelector('#df-3c0b19d3-5aef-4a17-b22b-6f4d70558259 button.colab-df-convert');\n",
              "        buttonEl.style.display =\n",
              "          google.colab.kernel.accessAllowed ? 'block' : 'none';\n",
              "\n",
              "        async function convertToInteractive(key) {\n",
              "          const element = document.querySelector('#df-3c0b19d3-5aef-4a17-b22b-6f4d70558259');\n",
              "          const dataTable =\n",
              "            await google.colab.kernel.invokeFunction('convertToInteractive',\n",
              "                                                     [key], {});\n",
              "          if (!dataTable) return;\n",
              "\n",
              "          const docLinkHtml = 'Like what you see? Visit the ' +\n",
              "            '<a target=\"_blank\" href=https://colab.research.google.com/notebooks/data_table.ipynb>data table notebook</a>'\n",
              "            + ' to learn more about interactive tables.';\n",
              "          element.innerHTML = '';\n",
              "          dataTable['output_type'] = 'display_data';\n",
              "          await google.colab.output.renderOutput(dataTable, element);\n",
              "          const docLink = document.createElement('div');\n",
              "          docLink.innerHTML = docLinkHtml;\n",
              "          element.appendChild(docLink);\n",
              "        }\n",
              "      </script>\n",
              "    </div>\n",
              "  </div>\n",
              "  "
            ]
          },
          "metadata": {},
          "execution_count": 456
        }
      ],
      "execution_count": 456
    },
    {
      "cell_type": "code",
      "source": [
        "rn_pie = pd.DataFrame(rn.groupby('NM_URNA_CANDIDATO', sort=True)['QT_VOTOS_NOMINAIS_VALIDOS'].sum()).sort_values(by='QT_VOTOS_NOMINAIS_VALIDOS', ascending=False)"
      ],
      "metadata": {
        "tags": [],
        "cell_id": "b3d35586908b494d91b77bb71d81624f",
        "source_hash": "b65f067e",
        "execution_start": 1665857952161,
        "execution_millis": 4,
        "deepnote_to_be_reexecuted": false,
        "deepnote_cell_type": "code",
        "id": "V3PZjpu86Htp"
      },
      "outputs": [],
      "execution_count": 457
    },
    {
      "cell_type": "code",
      "source": [
        "rn_pie['QT_VOTOS_NOMINAIS_VALIDOS'] = (rn_pie['QT_VOTOS_NOMINAIS_VALIDOS']/ (rn_pie['QT_VOTOS_NOMINAIS_VALIDOS'].sum() )*100)\n",
        "\n",
        "rn_pie.head()"
      ],
      "metadata": {
        "tags": [],
        "cell_id": "4823cdd9eb4e4feaa6d04a601883b689",
        "source_hash": "50a5db07",
        "execution_start": 1665857952203,
        "execution_millis": 174,
        "deepnote_to_be_reexecuted": false,
        "deepnote_cell_type": "code",
        "id": "T5PSWUcT6Htp",
        "outputId": "4caced41-78a7-43ef-8d56-4ad831e91d75",
        "colab": {
          "base_uri": "https://localhost:8080/",
          "height": 237
        }
      },
      "outputs": [
        {
          "output_type": "execute_result",
          "data": {
            "text/plain": [
              "                   QT_VOTOS_NOMINAIS_VALIDOS\n",
              "NM_URNA_CANDIDATO                           \n",
              "LULA                               62.980206\n",
              "JAIR BOLSONARO                     31.023871\n",
              "CIRO GOMES                          3.574019\n",
              "SIMONE TEBET                        1.924660\n",
              "SORAYA THRONICKE                    0.215517"
            ],
            "text/html": [
              "\n",
              "  <div id=\"df-10768302-bf5e-4e3e-a8b3-cdebcac1c387\">\n",
              "    <div class=\"colab-df-container\">\n",
              "      <div>\n",
              "<style scoped>\n",
              "    .dataframe tbody tr th:only-of-type {\n",
              "        vertical-align: middle;\n",
              "    }\n",
              "\n",
              "    .dataframe tbody tr th {\n",
              "        vertical-align: top;\n",
              "    }\n",
              "\n",
              "    .dataframe thead th {\n",
              "        text-align: right;\n",
              "    }\n",
              "</style>\n",
              "<table border=\"1\" class=\"dataframe\">\n",
              "  <thead>\n",
              "    <tr style=\"text-align: right;\">\n",
              "      <th></th>\n",
              "      <th>QT_VOTOS_NOMINAIS_VALIDOS</th>\n",
              "    </tr>\n",
              "    <tr>\n",
              "      <th>NM_URNA_CANDIDATO</th>\n",
              "      <th></th>\n",
              "    </tr>\n",
              "  </thead>\n",
              "  <tbody>\n",
              "    <tr>\n",
              "      <th>LULA</th>\n",
              "      <td>62.980206</td>\n",
              "    </tr>\n",
              "    <tr>\n",
              "      <th>JAIR BOLSONARO</th>\n",
              "      <td>31.023871</td>\n",
              "    </tr>\n",
              "    <tr>\n",
              "      <th>CIRO GOMES</th>\n",
              "      <td>3.574019</td>\n",
              "    </tr>\n",
              "    <tr>\n",
              "      <th>SIMONE TEBET</th>\n",
              "      <td>1.924660</td>\n",
              "    </tr>\n",
              "    <tr>\n",
              "      <th>SORAYA THRONICKE</th>\n",
              "      <td>0.215517</td>\n",
              "    </tr>\n",
              "  </tbody>\n",
              "</table>\n",
              "</div>\n",
              "      <button class=\"colab-df-convert\" onclick=\"convertToInteractive('df-10768302-bf5e-4e3e-a8b3-cdebcac1c387')\"\n",
              "              title=\"Convert this dataframe to an interactive table.\"\n",
              "              style=\"display:none;\">\n",
              "        \n",
              "  <svg xmlns=\"http://www.w3.org/2000/svg\" height=\"24px\"viewBox=\"0 0 24 24\"\n",
              "       width=\"24px\">\n",
              "    <path d=\"M0 0h24v24H0V0z\" fill=\"none\"/>\n",
              "    <path d=\"M18.56 5.44l.94 2.06.94-2.06 2.06-.94-2.06-.94-.94-2.06-.94 2.06-2.06.94zm-11 1L8.5 8.5l.94-2.06 2.06-.94-2.06-.94L8.5 2.5l-.94 2.06-2.06.94zm10 10l.94 2.06.94-2.06 2.06-.94-2.06-.94-.94-2.06-.94 2.06-2.06.94z\"/><path d=\"M17.41 7.96l-1.37-1.37c-.4-.4-.92-.59-1.43-.59-.52 0-1.04.2-1.43.59L10.3 9.45l-7.72 7.72c-.78.78-.78 2.05 0 2.83L4 21.41c.39.39.9.59 1.41.59.51 0 1.02-.2 1.41-.59l7.78-7.78 2.81-2.81c.8-.78.8-2.07 0-2.86zM5.41 20L4 18.59l7.72-7.72 1.47 1.35L5.41 20z\"/>\n",
              "  </svg>\n",
              "      </button>\n",
              "      \n",
              "  <style>\n",
              "    .colab-df-container {\n",
              "      display:flex;\n",
              "      flex-wrap:wrap;\n",
              "      gap: 12px;\n",
              "    }\n",
              "\n",
              "    .colab-df-convert {\n",
              "      background-color: #E8F0FE;\n",
              "      border: none;\n",
              "      border-radius: 50%;\n",
              "      cursor: pointer;\n",
              "      display: none;\n",
              "      fill: #1967D2;\n",
              "      height: 32px;\n",
              "      padding: 0 0 0 0;\n",
              "      width: 32px;\n",
              "    }\n",
              "\n",
              "    .colab-df-convert:hover {\n",
              "      background-color: #E2EBFA;\n",
              "      box-shadow: 0px 1px 2px rgba(60, 64, 67, 0.3), 0px 1px 3px 1px rgba(60, 64, 67, 0.15);\n",
              "      fill: #174EA6;\n",
              "    }\n",
              "\n",
              "    [theme=dark] .colab-df-convert {\n",
              "      background-color: #3B4455;\n",
              "      fill: #D2E3FC;\n",
              "    }\n",
              "\n",
              "    [theme=dark] .colab-df-convert:hover {\n",
              "      background-color: #434B5C;\n",
              "      box-shadow: 0px 1px 3px 1px rgba(0, 0, 0, 0.15);\n",
              "      filter: drop-shadow(0px 1px 2px rgba(0, 0, 0, 0.3));\n",
              "      fill: #FFFFFF;\n",
              "    }\n",
              "  </style>\n",
              "\n",
              "      <script>\n",
              "        const buttonEl =\n",
              "          document.querySelector('#df-10768302-bf5e-4e3e-a8b3-cdebcac1c387 button.colab-df-convert');\n",
              "        buttonEl.style.display =\n",
              "          google.colab.kernel.accessAllowed ? 'block' : 'none';\n",
              "\n",
              "        async function convertToInteractive(key) {\n",
              "          const element = document.querySelector('#df-10768302-bf5e-4e3e-a8b3-cdebcac1c387');\n",
              "          const dataTable =\n",
              "            await google.colab.kernel.invokeFunction('convertToInteractive',\n",
              "                                                     [key], {});\n",
              "          if (!dataTable) return;\n",
              "\n",
              "          const docLinkHtml = 'Like what you see? Visit the ' +\n",
              "            '<a target=\"_blank\" href=https://colab.research.google.com/notebooks/data_table.ipynb>data table notebook</a>'\n",
              "            + ' to learn more about interactive tables.';\n",
              "          element.innerHTML = '';\n",
              "          dataTable['output_type'] = 'display_data';\n",
              "          await google.colab.output.renderOutput(dataTable, element);\n",
              "          const docLink = document.createElement('div');\n",
              "          docLink.innerHTML = docLinkHtml;\n",
              "          element.appendChild(docLink);\n",
              "        }\n",
              "      </script>\n",
              "    </div>\n",
              "  </div>\n",
              "  "
            ]
          },
          "metadata": {},
          "execution_count": 458
        }
      ],
      "execution_count": 458
    },
    {
      "cell_type": "code",
      "source": [
        "import plotly.express as px\n",
        "\n",
        "fig_rn = px.pie(rn_pie, values='QT_VOTOS_NOMINAIS_VALIDOS', \n",
        "             names=list(rn_pie.index), title='Eleições Presidenciais 2022 - RN',\n",
        "             color=list(rn_pie.index), color_discrete_map={'LULA':'red', 'JAIR BOLSONARO':'royalblue'})\n",
        "fig_rn.show()"
      ],
      "metadata": {
        "tags": [],
        "cell_id": "013847696c554de6949b3e57d33fec3a",
        "source_hash": "b0bbe8a7",
        "execution_start": 1665857952205,
        "execution_millis": 172,
        "deepnote_to_be_reexecuted": false,
        "deepnote_cell_type": "code",
        "id": "XGljGmOp6Htq",
        "outputId": "3718d0df-743a-4de6-f51d-194a93547df4",
        "colab": {
          "base_uri": "https://localhost:8080/",
          "height": 542
        }
      },
      "outputs": [
        {
          "output_type": "display_data",
          "data": {
            "text/html": [
              "<html>\n",
              "<head><meta charset=\"utf-8\" /></head>\n",
              "<body>\n",
              "    <div>            <script src=\"https://cdnjs.cloudflare.com/ajax/libs/mathjax/2.7.5/MathJax.js?config=TeX-AMS-MML_SVG\"></script><script type=\"text/javascript\">if (window.MathJax) {MathJax.Hub.Config({SVG: {font: \"STIX-Web\"}});}</script>                <script type=\"text/javascript\">window.PlotlyConfig = {MathJaxConfig: 'local'};</script>\n",
              "        <script src=\"https://cdn.plot.ly/plotly-2.8.3.min.js\"></script>                <div id=\"e5f3c42f-8ea6-4d65-90dc-5ca22fa9ab6e\" class=\"plotly-graph-div\" style=\"height:525px; width:100%;\"></div>            <script type=\"text/javascript\">                                    window.PLOTLYENV=window.PLOTLYENV || {};                                    if (document.getElementById(\"e5f3c42f-8ea6-4d65-90dc-5ca22fa9ab6e\")) {                    Plotly.newPlot(                        \"e5f3c42f-8ea6-4d65-90dc-5ca22fa9ab6e\",                        [{\"customdata\":[[\"LULA\"],[\"JAIR BOLSONARO\"],[\"CIRO GOMES\"],[\"SIMONE TEBET\"],[\"SORAYA THRONICKE\"],[\"FELIPE D AVILA\"],[\"PADRE KELMON\"],[\"SOFIA MANZANO\"],[\"L\\u00c9O P\\u00c9RICLES\"],[\"VERA\"],[\"CONSTITUINTE EYMAEL\"]],\"domain\":{\"x\":[0.0,1.0],\"y\":[0.0,1.0]},\"hovertemplate\":\"label=%{label}<br>QT_VOTOS_NOMINAIS_VALIDOS=%{value}<br>color=%{customdata[0]}<extra></extra>\",\"labels\":[\"LULA\",\"JAIR BOLSONARO\",\"CIRO GOMES\",\"SIMONE TEBET\",\"SORAYA THRONICKE\",\"FELIPE D AVILA\",\"PADRE KELMON\",\"SOFIA MANZANO\",\"L\\u00c9O P\\u00c9RICLES\",\"VERA\",\"CONSTITUINTE EYMAEL\"],\"legendgroup\":\"\",\"marker\":{\"colors\":[\"red\",\"royalblue\",\"#00cc96\",\"#ab63fa\",\"#FFA15A\",\"#19d3f3\",\"#FF6692\",\"#B6E880\",\"#FF97FF\",\"#FECB52\",\"#636efa\"]},\"name\":\"\",\"showlegend\":true,\"values\":[62.980205892199535,31.02387129944043,3.5740191624021556,1.9246596362013166,0.21551724137931033,0.14631857095030848,0.042844389178503674,0.030190348653689796,0.02924378656718797,0.021023642131777383,0.012106030895786504],\"type\":\"pie\"}],                        {\"template\":{\"data\":{\"bar\":[{\"error_x\":{\"color\":\"#2a3f5f\"},\"error_y\":{\"color\":\"#2a3f5f\"},\"marker\":{\"line\":{\"color\":\"#E5ECF6\",\"width\":0.5},\"pattern\":{\"fillmode\":\"overlay\",\"size\":10,\"solidity\":0.2}},\"type\":\"bar\"}],\"barpolar\":[{\"marker\":{\"line\":{\"color\":\"#E5ECF6\",\"width\":0.5},\"pattern\":{\"fillmode\":\"overlay\",\"size\":10,\"solidity\":0.2}},\"type\":\"barpolar\"}],\"carpet\":[{\"aaxis\":{\"endlinecolor\":\"#2a3f5f\",\"gridcolor\":\"white\",\"linecolor\":\"white\",\"minorgridcolor\":\"white\",\"startlinecolor\":\"#2a3f5f\"},\"baxis\":{\"endlinecolor\":\"#2a3f5f\",\"gridcolor\":\"white\",\"linecolor\":\"white\",\"minorgridcolor\":\"white\",\"startlinecolor\":\"#2a3f5f\"},\"type\":\"carpet\"}],\"choropleth\":[{\"colorbar\":{\"outlinewidth\":0,\"ticks\":\"\"},\"type\":\"choropleth\"}],\"contour\":[{\"colorbar\":{\"outlinewidth\":0,\"ticks\":\"\"},\"colorscale\":[[0.0,\"#0d0887\"],[0.1111111111111111,\"#46039f\"],[0.2222222222222222,\"#7201a8\"],[0.3333333333333333,\"#9c179e\"],[0.4444444444444444,\"#bd3786\"],[0.5555555555555556,\"#d8576b\"],[0.6666666666666666,\"#ed7953\"],[0.7777777777777778,\"#fb9f3a\"],[0.8888888888888888,\"#fdca26\"],[1.0,\"#f0f921\"]],\"type\":\"contour\"}],\"contourcarpet\":[{\"colorbar\":{\"outlinewidth\":0,\"ticks\":\"\"},\"type\":\"contourcarpet\"}],\"heatmap\":[{\"colorbar\":{\"outlinewidth\":0,\"ticks\":\"\"},\"colorscale\":[[0.0,\"#0d0887\"],[0.1111111111111111,\"#46039f\"],[0.2222222222222222,\"#7201a8\"],[0.3333333333333333,\"#9c179e\"],[0.4444444444444444,\"#bd3786\"],[0.5555555555555556,\"#d8576b\"],[0.6666666666666666,\"#ed7953\"],[0.7777777777777778,\"#fb9f3a\"],[0.8888888888888888,\"#fdca26\"],[1.0,\"#f0f921\"]],\"type\":\"heatmap\"}],\"heatmapgl\":[{\"colorbar\":{\"outlinewidth\":0,\"ticks\":\"\"},\"colorscale\":[[0.0,\"#0d0887\"],[0.1111111111111111,\"#46039f\"],[0.2222222222222222,\"#7201a8\"],[0.3333333333333333,\"#9c179e\"],[0.4444444444444444,\"#bd3786\"],[0.5555555555555556,\"#d8576b\"],[0.6666666666666666,\"#ed7953\"],[0.7777777777777778,\"#fb9f3a\"],[0.8888888888888888,\"#fdca26\"],[1.0,\"#f0f921\"]],\"type\":\"heatmapgl\"}],\"histogram\":[{\"marker\":{\"pattern\":{\"fillmode\":\"overlay\",\"size\":10,\"solidity\":0.2}},\"type\":\"histogram\"}],\"histogram2d\":[{\"colorbar\":{\"outlinewidth\":0,\"ticks\":\"\"},\"colorscale\":[[0.0,\"#0d0887\"],[0.1111111111111111,\"#46039f\"],[0.2222222222222222,\"#7201a8\"],[0.3333333333333333,\"#9c179e\"],[0.4444444444444444,\"#bd3786\"],[0.5555555555555556,\"#d8576b\"],[0.6666666666666666,\"#ed7953\"],[0.7777777777777778,\"#fb9f3a\"],[0.8888888888888888,\"#fdca26\"],[1.0,\"#f0f921\"]],\"type\":\"histogram2d\"}],\"histogram2dcontour\":[{\"colorbar\":{\"outlinewidth\":0,\"ticks\":\"\"},\"colorscale\":[[0.0,\"#0d0887\"],[0.1111111111111111,\"#46039f\"],[0.2222222222222222,\"#7201a8\"],[0.3333333333333333,\"#9c179e\"],[0.4444444444444444,\"#bd3786\"],[0.5555555555555556,\"#d8576b\"],[0.6666666666666666,\"#ed7953\"],[0.7777777777777778,\"#fb9f3a\"],[0.8888888888888888,\"#fdca26\"],[1.0,\"#f0f921\"]],\"type\":\"histogram2dcontour\"}],\"mesh3d\":[{\"colorbar\":{\"outlinewidth\":0,\"ticks\":\"\"},\"type\":\"mesh3d\"}],\"parcoords\":[{\"line\":{\"colorbar\":{\"outlinewidth\":0,\"ticks\":\"\"}},\"type\":\"parcoords\"}],\"pie\":[{\"automargin\":true,\"type\":\"pie\"}],\"scatter\":[{\"marker\":{\"colorbar\":{\"outlinewidth\":0,\"ticks\":\"\"}},\"type\":\"scatter\"}],\"scatter3d\":[{\"line\":{\"colorbar\":{\"outlinewidth\":0,\"ticks\":\"\"}},\"marker\":{\"colorbar\":{\"outlinewidth\":0,\"ticks\":\"\"}},\"type\":\"scatter3d\"}],\"scattercarpet\":[{\"marker\":{\"colorbar\":{\"outlinewidth\":0,\"ticks\":\"\"}},\"type\":\"scattercarpet\"}],\"scattergeo\":[{\"marker\":{\"colorbar\":{\"outlinewidth\":0,\"ticks\":\"\"}},\"type\":\"scattergeo\"}],\"scattergl\":[{\"marker\":{\"colorbar\":{\"outlinewidth\":0,\"ticks\":\"\"}},\"type\":\"scattergl\"}],\"scattermapbox\":[{\"marker\":{\"colorbar\":{\"outlinewidth\":0,\"ticks\":\"\"}},\"type\":\"scattermapbox\"}],\"scatterpolar\":[{\"marker\":{\"colorbar\":{\"outlinewidth\":0,\"ticks\":\"\"}},\"type\":\"scatterpolar\"}],\"scatterpolargl\":[{\"marker\":{\"colorbar\":{\"outlinewidth\":0,\"ticks\":\"\"}},\"type\":\"scatterpolargl\"}],\"scatterternary\":[{\"marker\":{\"colorbar\":{\"outlinewidth\":0,\"ticks\":\"\"}},\"type\":\"scatterternary\"}],\"surface\":[{\"colorbar\":{\"outlinewidth\":0,\"ticks\":\"\"},\"colorscale\":[[0.0,\"#0d0887\"],[0.1111111111111111,\"#46039f\"],[0.2222222222222222,\"#7201a8\"],[0.3333333333333333,\"#9c179e\"],[0.4444444444444444,\"#bd3786\"],[0.5555555555555556,\"#d8576b\"],[0.6666666666666666,\"#ed7953\"],[0.7777777777777778,\"#fb9f3a\"],[0.8888888888888888,\"#fdca26\"],[1.0,\"#f0f921\"]],\"type\":\"surface\"}],\"table\":[{\"cells\":{\"fill\":{\"color\":\"#EBF0F8\"},\"line\":{\"color\":\"white\"}},\"header\":{\"fill\":{\"color\":\"#C8D4E3\"},\"line\":{\"color\":\"white\"}},\"type\":\"table\"}]},\"layout\":{\"annotationdefaults\":{\"arrowcolor\":\"#2a3f5f\",\"arrowhead\":0,\"arrowwidth\":1},\"autotypenumbers\":\"strict\",\"coloraxis\":{\"colorbar\":{\"outlinewidth\":0,\"ticks\":\"\"}},\"colorscale\":{\"diverging\":[[0,\"#8e0152\"],[0.1,\"#c51b7d\"],[0.2,\"#de77ae\"],[0.3,\"#f1b6da\"],[0.4,\"#fde0ef\"],[0.5,\"#f7f7f7\"],[0.6,\"#e6f5d0\"],[0.7,\"#b8e186\"],[0.8,\"#7fbc41\"],[0.9,\"#4d9221\"],[1,\"#276419\"]],\"sequential\":[[0.0,\"#0d0887\"],[0.1111111111111111,\"#46039f\"],[0.2222222222222222,\"#7201a8\"],[0.3333333333333333,\"#9c179e\"],[0.4444444444444444,\"#bd3786\"],[0.5555555555555556,\"#d8576b\"],[0.6666666666666666,\"#ed7953\"],[0.7777777777777778,\"#fb9f3a\"],[0.8888888888888888,\"#fdca26\"],[1.0,\"#f0f921\"]],\"sequentialminus\":[[0.0,\"#0d0887\"],[0.1111111111111111,\"#46039f\"],[0.2222222222222222,\"#7201a8\"],[0.3333333333333333,\"#9c179e\"],[0.4444444444444444,\"#bd3786\"],[0.5555555555555556,\"#d8576b\"],[0.6666666666666666,\"#ed7953\"],[0.7777777777777778,\"#fb9f3a\"],[0.8888888888888888,\"#fdca26\"],[1.0,\"#f0f921\"]]},\"colorway\":[\"#636efa\",\"#EF553B\",\"#00cc96\",\"#ab63fa\",\"#FFA15A\",\"#19d3f3\",\"#FF6692\",\"#B6E880\",\"#FF97FF\",\"#FECB52\"],\"font\":{\"color\":\"#2a3f5f\"},\"geo\":{\"bgcolor\":\"white\",\"lakecolor\":\"white\",\"landcolor\":\"#E5ECF6\",\"showlakes\":true,\"showland\":true,\"subunitcolor\":\"white\"},\"hoverlabel\":{\"align\":\"left\"},\"hovermode\":\"closest\",\"mapbox\":{\"style\":\"light\"},\"paper_bgcolor\":\"white\",\"plot_bgcolor\":\"#E5ECF6\",\"polar\":{\"angularaxis\":{\"gridcolor\":\"white\",\"linecolor\":\"white\",\"ticks\":\"\"},\"bgcolor\":\"#E5ECF6\",\"radialaxis\":{\"gridcolor\":\"white\",\"linecolor\":\"white\",\"ticks\":\"\"}},\"scene\":{\"xaxis\":{\"backgroundcolor\":\"#E5ECF6\",\"gridcolor\":\"white\",\"gridwidth\":2,\"linecolor\":\"white\",\"showbackground\":true,\"ticks\":\"\",\"zerolinecolor\":\"white\"},\"yaxis\":{\"backgroundcolor\":\"#E5ECF6\",\"gridcolor\":\"white\",\"gridwidth\":2,\"linecolor\":\"white\",\"showbackground\":true,\"ticks\":\"\",\"zerolinecolor\":\"white\"},\"zaxis\":{\"backgroundcolor\":\"#E5ECF6\",\"gridcolor\":\"white\",\"gridwidth\":2,\"linecolor\":\"white\",\"showbackground\":true,\"ticks\":\"\",\"zerolinecolor\":\"white\"}},\"shapedefaults\":{\"line\":{\"color\":\"#2a3f5f\"}},\"ternary\":{\"aaxis\":{\"gridcolor\":\"white\",\"linecolor\":\"white\",\"ticks\":\"\"},\"baxis\":{\"gridcolor\":\"white\",\"linecolor\":\"white\",\"ticks\":\"\"},\"bgcolor\":\"#E5ECF6\",\"caxis\":{\"gridcolor\":\"white\",\"linecolor\":\"white\",\"ticks\":\"\"}},\"title\":{\"x\":0.05},\"xaxis\":{\"automargin\":true,\"gridcolor\":\"white\",\"linecolor\":\"white\",\"ticks\":\"\",\"title\":{\"standoff\":15},\"zerolinecolor\":\"white\",\"zerolinewidth\":2},\"yaxis\":{\"automargin\":true,\"gridcolor\":\"white\",\"linecolor\":\"white\",\"ticks\":\"\",\"title\":{\"standoff\":15},\"zerolinecolor\":\"white\",\"zerolinewidth\":2}}},\"legend\":{\"tracegroupgap\":0},\"title\":{\"text\":\"Elei\\u00e7\\u00f5es Presidenciais 2022 - RN\"}},                        {\"responsive\": true}                    ).then(function(){\n",
              "                            \n",
              "var gd = document.getElementById('e5f3c42f-8ea6-4d65-90dc-5ca22fa9ab6e');\n",
              "var x = new MutationObserver(function (mutations, observer) {{\n",
              "        var display = window.getComputedStyle(gd).display;\n",
              "        if (!display || display === 'none') {{\n",
              "            console.log([gd, 'removed!']);\n",
              "            Plotly.purge(gd);\n",
              "            observer.disconnect();\n",
              "        }}\n",
              "}});\n",
              "\n",
              "// Listen for the removal of the full notebook cells\n",
              "var notebookContainer = gd.closest('#notebook-container');\n",
              "if (notebookContainer) {{\n",
              "    x.observe(notebookContainer, {childList: true});\n",
              "}}\n",
              "\n",
              "// Listen for the clearing of the current output cell\n",
              "var outputEl = gd.closest('.output');\n",
              "if (outputEl) {{\n",
              "    x.observe(outputEl, {childList: true});\n",
              "}}\n",
              "\n",
              "                        })                };                            </script>        </div>\n",
              "</body>\n",
              "</html>"
            ]
          },
          "metadata": {}
        }
      ],
      "execution_count": 459
    },
    {
      "cell_type": "markdown",
      "source": [
        "### Mapa de votações - RN"
      ],
      "metadata": {
        "tags": [],
        "cell_id": "cd2605ede62c4402be371fb2d0c94d28",
        "is_collapsed": false,
        "formattedRanges": [],
        "deepnote_cell_type": "text-cell-h3",
        "id": "8CS9mssn6Htq"
      }
    },
    {
      "cell_type": "code",
      "source": [
        "codigos_tse = pd.read_csv('municipios_brasileiros_tse.csv')"
      ],
      "metadata": {
        "tags": [],
        "cell_id": "cd00d44470f74402a4c33d95948bec58",
        "source_hash": "fd14a63e",
        "execution_start": 1665857952392,
        "execution_millis": 34,
        "deepnote_to_be_reexecuted": false,
        "deepnote_cell_type": "code",
        "id": "urYapGj36Htr"
      },
      "outputs": [],
      "execution_count": 460
    },
    {
      "cell_type": "code",
      "source": [
        "rn = pd.merge(rn, codigos_tse[['codigo_tse','codigo_ibge']], left_on='CD_MUNICIPIO', right_on='codigo_tse',how='left')"
      ],
      "metadata": {
        "tags": [],
        "cell_id": "7725ed6a4ffa45bc8119df1b20065f62",
        "source_hash": "931d2c07",
        "execution_start": 1665857952430,
        "execution_millis": 1,
        "deepnote_to_be_reexecuted": false,
        "deepnote_cell_type": "code",
        "id": "9R7ZPDzC6Htr"
      },
      "outputs": [],
      "execution_count": 461
    },
    {
      "cell_type": "code",
      "source": [
        "!pip install geobr"
      ],
      "metadata": {
        "tags": [],
        "cell_id": "f82bef95ea284f62b8855642b197a5ab",
        "source_hash": "acbb4991",
        "execution_start": 1665858502251,
        "execution_millis": 676,
        "deepnote_to_be_reexecuted": false,
        "deepnote_cell_type": "code",
        "id": "nYtwXluT6Hts",
        "colab": {
          "base_uri": "https://localhost:8080/"
        },
        "outputId": "fb43d9cc-37ad-4a77-a44d-d88efe63fa56"
      },
      "outputs": [
        {
          "output_type": "stream",
          "name": "stdout",
          "text": [
            "Looking in indexes: https://pypi.org/simple, https://us-python.pkg.dev/colab-wheels/public/simple/\n",
            "Requirement already satisfied: geobr in /usr/local/lib/python3.7/dist-packages (0.2.0)\n",
            "Requirement already satisfied: geopandas<0.8.0,>=0.7.0 in /usr/local/lib/python3.7/dist-packages (from geobr) (0.7.0)\n",
            "Requirement already satisfied: shapely<2.0.0,>=1.7.0 in /usr/local/lib/python3.7/dist-packages (from geobr) (1.8.4)\n",
            "Requirement already satisfied: fiona in /usr/local/lib/python3.7/dist-packages (from geopandas<0.8.0,>=0.7.0->geobr) (1.8.21)\n",
            "Requirement already satisfied: pyproj>=2.2.0 in /usr/local/lib/python3.7/dist-packages (from geopandas<0.8.0,>=0.7.0->geobr) (3.2.1)\n",
            "Requirement already satisfied: pandas>=0.23.0 in /usr/local/lib/python3.7/dist-packages (from geopandas<0.8.0,>=0.7.0->geobr) (1.3.5)\n",
            "Requirement already satisfied: pytz>=2017.3 in /usr/local/lib/python3.7/dist-packages (from pandas>=0.23.0->geopandas<0.8.0,>=0.7.0->geobr) (2022.4)\n",
            "Requirement already satisfied: numpy>=1.17.3 in /usr/local/lib/python3.7/dist-packages (from pandas>=0.23.0->geopandas<0.8.0,>=0.7.0->geobr) (1.21.6)\n",
            "Requirement already satisfied: python-dateutil>=2.7.3 in /usr/local/lib/python3.7/dist-packages (from pandas>=0.23.0->geopandas<0.8.0,>=0.7.0->geobr) (2.8.2)\n",
            "Requirement already satisfied: certifi in /usr/local/lib/python3.7/dist-packages (from pyproj>=2.2.0->geopandas<0.8.0,>=0.7.0->geobr) (2022.9.24)\n",
            "Requirement already satisfied: six>=1.5 in /usr/local/lib/python3.7/dist-packages (from python-dateutil>=2.7.3->pandas>=0.23.0->geopandas<0.8.0,>=0.7.0->geobr) (1.15.0)\n",
            "Requirement already satisfied: munch in /usr/local/lib/python3.7/dist-packages (from fiona->geopandas<0.8.0,>=0.7.0->geobr) (2.5.0)\n",
            "Requirement already satisfied: cligj>=0.5 in /usr/local/lib/python3.7/dist-packages (from fiona->geopandas<0.8.0,>=0.7.0->geobr) (0.7.2)\n",
            "Requirement already satisfied: setuptools in /usr/local/lib/python3.7/dist-packages (from fiona->geopandas<0.8.0,>=0.7.0->geobr) (57.4.0)\n",
            "Requirement already satisfied: click-plugins>=1.0 in /usr/local/lib/python3.7/dist-packages (from fiona->geopandas<0.8.0,>=0.7.0->geobr) (1.1.1)\n",
            "Requirement already satisfied: click>=4.0 in /usr/local/lib/python3.7/dist-packages (from fiona->geopandas<0.8.0,>=0.7.0->geobr) (7.1.2)\n",
            "Requirement already satisfied: attrs>=17 in /usr/local/lib/python3.7/dist-packages (from fiona->geopandas<0.8.0,>=0.7.0->geobr) (22.1.0)\n"
          ]
        }
      ],
      "execution_count": 462
    },
    {
      "cell_type": "code",
      "source": [
        "import geobr\n",
        "rn_muni = geobr.read_municipality(code_muni=\"RN\", year=2019)"
      ],
      "metadata": {
        "id": "aDAJUbTy6xBY"
      },
      "execution_count": 463,
      "outputs": []
    },
    {
      "cell_type": "code",
      "source": [
        "rn_muni"
      ],
      "metadata": {
        "colab": {
          "base_uri": "https://localhost:8080/",
          "height": 423
        },
        "id": "F7L-uHMVgOww",
        "outputId": "5af8ff3c-7a90-41e3-8fd7-060658520025"
      },
      "execution_count": 464,
      "outputs": [
        {
          "output_type": "execute_result",
          "data": {
            "text/plain": [
              "     code_muni       name_muni  code_state abbrev_state           name_state  \\\n",
              "0    2400109.0           Acari        24.0           RN  Rio Grande do Norte   \n",
              "1    2400208.0             Açu        24.0           RN  Rio Grande do Norte   \n",
              "2    2400307.0  Afonso Bezerra        24.0           RN  Rio Grande do Norte   \n",
              "3    2400406.0       Água Nova        24.0           RN  Rio Grande do Norte   \n",
              "4    2400505.0      Alexandria        24.0           RN  Rio Grande do Norte   \n",
              "..         ...             ...         ...          ...                  ...   \n",
              "162  2414704.0          Várzea        24.0           RN  Rio Grande do Norte   \n",
              "163  2414753.0       Venha-Ver        24.0           RN  Rio Grande do Norte   \n",
              "164  2414803.0       Vera Cruz        24.0           RN  Rio Grande do Norte   \n",
              "165  2414902.0          Viçosa        24.0           RN  Rio Grande do Norte   \n",
              "166  2415008.0       Vila Flor        24.0           RN  Rio Grande do Norte   \n",
              "\n",
              "     code_region name_region  \\\n",
              "0            2.0    Nordeste   \n",
              "1            2.0    Nordeste   \n",
              "2            2.0    Nordeste   \n",
              "3            2.0    Nordeste   \n",
              "4            2.0    Nordeste   \n",
              "..           ...         ...   \n",
              "162          2.0    Nordeste   \n",
              "163          2.0    Nordeste   \n",
              "164          2.0    Nordeste   \n",
              "165          2.0    Nordeste   \n",
              "166          2.0    Nordeste   \n",
              "\n",
              "                                              geometry  \n",
              "0    MULTIPOLYGON (((-36.75809 -6.51295, -36.76111 ...  \n",
              "1    MULTIPOLYGON (((-37.16869 -5.47454, -37.14295 ...  \n",
              "2    MULTIPOLYGON (((-36.85191 -5.44348, -36.86041 ...  \n",
              "3    MULTIPOLYGON (((-38.31144 -6.17659, -38.28854 ...  \n",
              "4    MULTIPOLYGON (((-38.10066 -6.33594, -38.09984 ...  \n",
              "..                                                 ...  \n",
              "162  MULTIPOLYGON (((-35.35562 -6.40803, -35.37294 ...  \n",
              "163  MULTIPOLYGON (((-38.54254 -6.28616, -38.49228 ...  \n",
              "164  MULTIPOLYGON (((-35.36982 -6.04982, -35.36909 ...  \n",
              "165  MULTIPOLYGON (((-37.92119 -5.95980, -37.93401 ...  \n",
              "166  MULTIPOLYGON (((-35.07345 -6.26762, -35.07047 ...  \n",
              "\n",
              "[167 rows x 8 columns]"
            ],
            "text/html": [
              "\n",
              "  <div id=\"df-35d61396-2cce-4d47-b6d0-ce9fc8833c87\">\n",
              "    <div class=\"colab-df-container\">\n",
              "      <div>\n",
              "<style scoped>\n",
              "    .dataframe tbody tr th:only-of-type {\n",
              "        vertical-align: middle;\n",
              "    }\n",
              "\n",
              "    .dataframe tbody tr th {\n",
              "        vertical-align: top;\n",
              "    }\n",
              "\n",
              "    .dataframe thead th {\n",
              "        text-align: right;\n",
              "    }\n",
              "</style>\n",
              "<table border=\"1\" class=\"dataframe\">\n",
              "  <thead>\n",
              "    <tr style=\"text-align: right;\">\n",
              "      <th></th>\n",
              "      <th>code_muni</th>\n",
              "      <th>name_muni</th>\n",
              "      <th>code_state</th>\n",
              "      <th>abbrev_state</th>\n",
              "      <th>name_state</th>\n",
              "      <th>code_region</th>\n",
              "      <th>name_region</th>\n",
              "      <th>geometry</th>\n",
              "    </tr>\n",
              "  </thead>\n",
              "  <tbody>\n",
              "    <tr>\n",
              "      <th>0</th>\n",
              "      <td>2400109.0</td>\n",
              "      <td>Acari</td>\n",
              "      <td>24.0</td>\n",
              "      <td>RN</td>\n",
              "      <td>Rio Grande do Norte</td>\n",
              "      <td>2.0</td>\n",
              "      <td>Nordeste</td>\n",
              "      <td>MULTIPOLYGON (((-36.75809 -6.51295, -36.76111 ...</td>\n",
              "    </tr>\n",
              "    <tr>\n",
              "      <th>1</th>\n",
              "      <td>2400208.0</td>\n",
              "      <td>Açu</td>\n",
              "      <td>24.0</td>\n",
              "      <td>RN</td>\n",
              "      <td>Rio Grande do Norte</td>\n",
              "      <td>2.0</td>\n",
              "      <td>Nordeste</td>\n",
              "      <td>MULTIPOLYGON (((-37.16869 -5.47454, -37.14295 ...</td>\n",
              "    </tr>\n",
              "    <tr>\n",
              "      <th>2</th>\n",
              "      <td>2400307.0</td>\n",
              "      <td>Afonso Bezerra</td>\n",
              "      <td>24.0</td>\n",
              "      <td>RN</td>\n",
              "      <td>Rio Grande do Norte</td>\n",
              "      <td>2.0</td>\n",
              "      <td>Nordeste</td>\n",
              "      <td>MULTIPOLYGON (((-36.85191 -5.44348, -36.86041 ...</td>\n",
              "    </tr>\n",
              "    <tr>\n",
              "      <th>3</th>\n",
              "      <td>2400406.0</td>\n",
              "      <td>Água Nova</td>\n",
              "      <td>24.0</td>\n",
              "      <td>RN</td>\n",
              "      <td>Rio Grande do Norte</td>\n",
              "      <td>2.0</td>\n",
              "      <td>Nordeste</td>\n",
              "      <td>MULTIPOLYGON (((-38.31144 -6.17659, -38.28854 ...</td>\n",
              "    </tr>\n",
              "    <tr>\n",
              "      <th>4</th>\n",
              "      <td>2400505.0</td>\n",
              "      <td>Alexandria</td>\n",
              "      <td>24.0</td>\n",
              "      <td>RN</td>\n",
              "      <td>Rio Grande do Norte</td>\n",
              "      <td>2.0</td>\n",
              "      <td>Nordeste</td>\n",
              "      <td>MULTIPOLYGON (((-38.10066 -6.33594, -38.09984 ...</td>\n",
              "    </tr>\n",
              "    <tr>\n",
              "      <th>...</th>\n",
              "      <td>...</td>\n",
              "      <td>...</td>\n",
              "      <td>...</td>\n",
              "      <td>...</td>\n",
              "      <td>...</td>\n",
              "      <td>...</td>\n",
              "      <td>...</td>\n",
              "      <td>...</td>\n",
              "    </tr>\n",
              "    <tr>\n",
              "      <th>162</th>\n",
              "      <td>2414704.0</td>\n",
              "      <td>Várzea</td>\n",
              "      <td>24.0</td>\n",
              "      <td>RN</td>\n",
              "      <td>Rio Grande do Norte</td>\n",
              "      <td>2.0</td>\n",
              "      <td>Nordeste</td>\n",
              "      <td>MULTIPOLYGON (((-35.35562 -6.40803, -35.37294 ...</td>\n",
              "    </tr>\n",
              "    <tr>\n",
              "      <th>163</th>\n",
              "      <td>2414753.0</td>\n",
              "      <td>Venha-Ver</td>\n",
              "      <td>24.0</td>\n",
              "      <td>RN</td>\n",
              "      <td>Rio Grande do Norte</td>\n",
              "      <td>2.0</td>\n",
              "      <td>Nordeste</td>\n",
              "      <td>MULTIPOLYGON (((-38.54254 -6.28616, -38.49228 ...</td>\n",
              "    </tr>\n",
              "    <tr>\n",
              "      <th>164</th>\n",
              "      <td>2414803.0</td>\n",
              "      <td>Vera Cruz</td>\n",
              "      <td>24.0</td>\n",
              "      <td>RN</td>\n",
              "      <td>Rio Grande do Norte</td>\n",
              "      <td>2.0</td>\n",
              "      <td>Nordeste</td>\n",
              "      <td>MULTIPOLYGON (((-35.36982 -6.04982, -35.36909 ...</td>\n",
              "    </tr>\n",
              "    <tr>\n",
              "      <th>165</th>\n",
              "      <td>2414902.0</td>\n",
              "      <td>Viçosa</td>\n",
              "      <td>24.0</td>\n",
              "      <td>RN</td>\n",
              "      <td>Rio Grande do Norte</td>\n",
              "      <td>2.0</td>\n",
              "      <td>Nordeste</td>\n",
              "      <td>MULTIPOLYGON (((-37.92119 -5.95980, -37.93401 ...</td>\n",
              "    </tr>\n",
              "    <tr>\n",
              "      <th>166</th>\n",
              "      <td>2415008.0</td>\n",
              "      <td>Vila Flor</td>\n",
              "      <td>24.0</td>\n",
              "      <td>RN</td>\n",
              "      <td>Rio Grande do Norte</td>\n",
              "      <td>2.0</td>\n",
              "      <td>Nordeste</td>\n",
              "      <td>MULTIPOLYGON (((-35.07345 -6.26762, -35.07047 ...</td>\n",
              "    </tr>\n",
              "  </tbody>\n",
              "</table>\n",
              "<p>167 rows × 8 columns</p>\n",
              "</div>\n",
              "      <button class=\"colab-df-convert\" onclick=\"convertToInteractive('df-35d61396-2cce-4d47-b6d0-ce9fc8833c87')\"\n",
              "              title=\"Convert this dataframe to an interactive table.\"\n",
              "              style=\"display:none;\">\n",
              "        \n",
              "  <svg xmlns=\"http://www.w3.org/2000/svg\" height=\"24px\"viewBox=\"0 0 24 24\"\n",
              "       width=\"24px\">\n",
              "    <path d=\"M0 0h24v24H0V0z\" fill=\"none\"/>\n",
              "    <path d=\"M18.56 5.44l.94 2.06.94-2.06 2.06-.94-2.06-.94-.94-2.06-.94 2.06-2.06.94zm-11 1L8.5 8.5l.94-2.06 2.06-.94-2.06-.94L8.5 2.5l-.94 2.06-2.06.94zm10 10l.94 2.06.94-2.06 2.06-.94-2.06-.94-.94-2.06-.94 2.06-2.06.94z\"/><path d=\"M17.41 7.96l-1.37-1.37c-.4-.4-.92-.59-1.43-.59-.52 0-1.04.2-1.43.59L10.3 9.45l-7.72 7.72c-.78.78-.78 2.05 0 2.83L4 21.41c.39.39.9.59 1.41.59.51 0 1.02-.2 1.41-.59l7.78-7.78 2.81-2.81c.8-.78.8-2.07 0-2.86zM5.41 20L4 18.59l7.72-7.72 1.47 1.35L5.41 20z\"/>\n",
              "  </svg>\n",
              "      </button>\n",
              "      \n",
              "  <style>\n",
              "    .colab-df-container {\n",
              "      display:flex;\n",
              "      flex-wrap:wrap;\n",
              "      gap: 12px;\n",
              "    }\n",
              "\n",
              "    .colab-df-convert {\n",
              "      background-color: #E8F0FE;\n",
              "      border: none;\n",
              "      border-radius: 50%;\n",
              "      cursor: pointer;\n",
              "      display: none;\n",
              "      fill: #1967D2;\n",
              "      height: 32px;\n",
              "      padding: 0 0 0 0;\n",
              "      width: 32px;\n",
              "    }\n",
              "\n",
              "    .colab-df-convert:hover {\n",
              "      background-color: #E2EBFA;\n",
              "      box-shadow: 0px 1px 2px rgba(60, 64, 67, 0.3), 0px 1px 3px 1px rgba(60, 64, 67, 0.15);\n",
              "      fill: #174EA6;\n",
              "    }\n",
              "\n",
              "    [theme=dark] .colab-df-convert {\n",
              "      background-color: #3B4455;\n",
              "      fill: #D2E3FC;\n",
              "    }\n",
              "\n",
              "    [theme=dark] .colab-df-convert:hover {\n",
              "      background-color: #434B5C;\n",
              "      box-shadow: 0px 1px 3px 1px rgba(0, 0, 0, 0.15);\n",
              "      filter: drop-shadow(0px 1px 2px rgba(0, 0, 0, 0.3));\n",
              "      fill: #FFFFFF;\n",
              "    }\n",
              "  </style>\n",
              "\n",
              "      <script>\n",
              "        const buttonEl =\n",
              "          document.querySelector('#df-35d61396-2cce-4d47-b6d0-ce9fc8833c87 button.colab-df-convert');\n",
              "        buttonEl.style.display =\n",
              "          google.colab.kernel.accessAllowed ? 'block' : 'none';\n",
              "\n",
              "        async function convertToInteractive(key) {\n",
              "          const element = document.querySelector('#df-35d61396-2cce-4d47-b6d0-ce9fc8833c87');\n",
              "          const dataTable =\n",
              "            await google.colab.kernel.invokeFunction('convertToInteractive',\n",
              "                                                     [key], {});\n",
              "          if (!dataTable) return;\n",
              "\n",
              "          const docLinkHtml = 'Like what you see? Visit the ' +\n",
              "            '<a target=\"_blank\" href=https://colab.research.google.com/notebooks/data_table.ipynb>data table notebook</a>'\n",
              "            + ' to learn more about interactive tables.';\n",
              "          element.innerHTML = '';\n",
              "          dataTable['output_type'] = 'display_data';\n",
              "          await google.colab.output.renderOutput(dataTable, element);\n",
              "          const docLink = document.createElement('div');\n",
              "          docLink.innerHTML = docLinkHtml;\n",
              "          element.appendChild(docLink);\n",
              "        }\n",
              "      </script>\n",
              "    </div>\n",
              "  </div>\n",
              "  "
            ]
          },
          "metadata": {},
          "execution_count": 464
        }
      ]
    },
    {
      "cell_type": "code",
      "source": [
        "import numpy as np\n",
        "\n",
        "rn_muni['code_muni'] = rn_muni['code_muni'].astype(np.int64)"
      ],
      "metadata": {
        "id": "6XiVjdOWgbEe"
      },
      "execution_count": 465,
      "outputs": []
    },
    {
      "cell_type": "code",
      "source": [
        "rn_com_coordenadas = pd.merge(rn, rn_muni[['code_muni','geometry']], left_on='codigo_ibge', right_on='code_muni', how='left')"
      ],
      "metadata": {
        "id": "myELxmPEhHgx"
      },
      "execution_count": 466,
      "outputs": []
    },
    {
      "cell_type": "code",
      "source": [
        "from geopandas import GeoDataFrame\n",
        "\n",
        "rn_com_coordenadas = GeoDataFrame(rn_com_coordenadas)"
      ],
      "metadata": {
        "id": "VAE3DfHbix8f"
      },
      "execution_count": 467,
      "outputs": []
    },
    {
      "cell_type": "code",
      "source": [
        "rn_com_votos = rn_com_coordenadas.groupby(['NM_MUNICIPIO','NM_URNA_CANDIDATO',])['QT_VOTOS_NOMINAIS_VALIDOS'].sum().unstack(-1).reset_index()"
      ],
      "metadata": {
        "id": "JaZFlDclkloY"
      },
      "execution_count": 468,
      "outputs": []
    },
    {
      "cell_type": "code",
      "source": [
        "rn_com_votos['total_votos'] = rn_com_votos['CIRO GOMES']+rn_com_votos['FELIPE D AVILA']+rn_com_votos['JAIR BOLSONARO']+rn_com_votos['LULA']+rn_com_votos['LÉO PÉRICLES']+rn_com_votos['PADRE KELMON']+rn_com_votos['SIMONE TEBET']+rn_com_votos['SOFIA MANZANO']+rn_com_votos['SORAYA THRONICKE']+rn_com_votos['VERA']"
      ],
      "metadata": {
        "id": "2rttVvf7Ipb5"
      },
      "execution_count": 469,
      "outputs": []
    },
    {
      "cell_type": "code",
      "source": [
        "mun = rn_com_votos['NM_MUNICIPIO'].squeeze()\n",
        "lulala = rn_com_votos['LULA'].squeeze()\n",
        "biloliro = rn_com_votos['JAIR BOLSONARO'].squeeze()\n",
        "total_votos = rn_com_votos['total_votos'].squeeze()\n",
        "\n",
        "df = {'name_municipio': mun, 'votos_lula': lulala, 'votos_bolsonaro': biloliro, 'total_votos': total_votos}\n",
        "votos = pd.DataFrame(df)"
      ],
      "metadata": {
        "id": "KCXU6Q3GCwUX"
      },
      "execution_count": 470,
      "outputs": []
    },
    {
      "cell_type": "code",
      "source": [
        "rn_completo = pd.merge(rn_com_coordenadas, votos, right_on='name_municipio', left_on='NM_MUNICIPIO', how='left')"
      ],
      "metadata": {
        "id": "051uV4Ho23sw"
      },
      "execution_count": 471,
      "outputs": []
    },
    {
      "cell_type": "code",
      "source": [
        "rn_completo['votos_lula'] = (rn_completo['votos_lula'] / rn_completo['total_votos'])*100\n",
        "rn_completo['votos_bolsonaro'] = ((rn_completo['votos_bolsonaro'])/ (rn_completo['total_votos']) *100)"
      ],
      "metadata": {
        "id": "rFUjJEUX2_wF"
      },
      "execution_count": 472,
      "outputs": []
    },
    {
      "cell_type": "code",
      "source": [
        "rn_completo.loc[rn_completo['votos_lula'] > rn_completo['votos_bolsonaro'], 'cor'] = 1 \n",
        "rn_completo.loc[rn_completo['votos_lula'] < rn_completo['votos_bolsonaro'], 'cor'] = -1 "
      ],
      "metadata": {
        "id": "L3f9QC9PGh3_"
      },
      "execution_count": 473,
      "outputs": []
    },
    {
      "cell_type": "code",
      "source": [
        "import matplotlib.pyplot as plt\n",
        "\n",
        "plt.rcParams.update({\"font.size\": 5})\n",
        "\n",
        "fig, ax = plt.subplots(figsize=(4, 4), dpi=200)\n",
        "\n",
        "rn_completo.plot(\n",
        "    column='cor',\n",
        "    cmap='seismic',\n",
        "    legend=False,\n",
        "    ax=ax,\n",
        ")\n",
        "\n",
        "ax.set_title(\"Vitória entre os dois candidatos mais votados por município. Vermelho=Lula Azul=Bolsonaro\")\n",
        "ax.axis(\"off\")"
      ],
      "metadata": {
        "colab": {
          "base_uri": "https://localhost:8080/",
          "height": 622
        },
        "id": "i9wIRdzSieab",
        "outputId": "beb1b645-dcb0-4059-acf3-5d21ee23a819"
      },
      "execution_count": 474,
      "outputs": [
        {
          "output_type": "stream",
          "name": "stderr",
          "text": [
            "/usr/local/lib/python3.7/dist-packages/geopandas/plotting.py:33: ShapelyDeprecationWarning:\n",
            "\n",
            "Iteration over multi-part geometries is deprecated and will be removed in Shapely 2.0. Use the `geoms` property to access the constituent parts of a multi-part geometry.\n",
            "\n",
            "/usr/local/lib/python3.7/dist-packages/descartes/patch.py:65: ShapelyDeprecationWarning:\n",
            "\n",
            "The array interface is deprecated and will no longer work in Shapely 2.0. Convert the '.coords' to a numpy array instead.\n",
            "\n"
          ]
        },
        {
          "output_type": "execute_result",
          "data": {
            "text/plain": [
              "(-38.762196508100004, -34.7878037099, -7.0910535932000105, -4.708040406800006)"
            ]
          },
          "metadata": {},
          "execution_count": 474
        },
        {
          "output_type": "display_data",
          "data": {
            "text/plain": [
              "<Figure size 800x800 with 1 Axes>"
            ],
            "image/png": "[encoded data removed]"
          },
          "metadata": {
            "needs_background": "light"
          }
        }
      ]
    }
  ],
  "nbformat": 4,
  "nbformat_minor": 0,
  "metadata": {
    "toc": {
      "sideBar": true,
      "nav_menu": {},
      "toc_cell": false,
      "title_cell": "Table of Contents",
      "toc_position": {},
      "skip_h1_title": false,
      "title_sidebar": "Contents",
      "base_numbering": 1,
      "number_sections": true,
      "toc_window_display": false,
      "toc_section_display": true
    },
    "deepnote": {},
    "kernelspec": {
      "name": "python3",
      "language": "python",
      "display_name": "Python 3 (ipykernel)"
    },
    "varInspector": {
      "cols": {
        "lenVar": 40,
        "lenName": 16,
        "lenType": 16
      },
      "kernels_config": {
        "r": {
          "library": "var_list.r",
          "varRefreshCmd": "cat(var_dic_list()) ",
          "delete_cmd_prefix": "rm(",
          "delete_cmd_postfix": ") "
        },
        "python": {
          "library": "var_list.py",
          "varRefreshCmd": "print(var_dic_list())",
          "delete_cmd_prefix": "del ",
          "delete_cmd_postfix": ""
        }
      },
      "window_display": false,
      "types_to_exclude": [
        "module",
        "function",
        "builtin_function_or_method",
        "instance",
        "_Feature"
      ]
    },
    "language_info": {
      "name": "python",
      "version": "3.9.13",
      "mimetype": "text/x-python",
      "file_extension": ".py",
      "pygments_lexer": "ipython3",
      "codemirror_mode": {
        "name": "ipython",
        "version": 3
      },
      "nbconvert_exporter": "python"
    },
    "deepnote_notebook_id": "ed2cc5b309a74deab538d8d76a6025bd",
    "deepnote_execution_queue": [],
    "colab": {
      "provenance": []
    }
  }
}